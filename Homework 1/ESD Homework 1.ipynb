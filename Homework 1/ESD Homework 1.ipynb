{
 "cells": [
  {
   "cell_type": "markdown",
   "source": [
    "\\begin{center}\n",
    "Gabe Morris\n",
    "\\end{center}"
   ],
   "metadata": {
    "collapsed": false,
    "pycharm": {
     "name": "#%% md\n"
    }
   }
  },
  {
   "cell_type": "code",
   "execution_count": 1,
   "metadata": {
    "collapsed": true
   },
   "outputs": [],
   "source": [
    "import sympy as sp\n",
    "import numpy as np\n",
    "import matplotlib.pyplot as plt\n",
    "from scipy.optimize import fsolve  # Numerical solver\n",
    "from msu_esd import Pipe  # This is the first round of the package I'm making\n",
    "\n",
    "# Note that the package is not yet stable, so expect backwards compatibility issues with this document.\n",
    "\n",
    "plt.style.use(r'../maroon.mplstyle')  # Testing this out. This will make the plots MSU themed"
   ]
  },
  {
   "cell_type": "markdown",
   "source": [
    "\\pagebreak\n",
    "\\tableofcontents\n",
    "\\pagebreak"
   ],
   "metadata": {
    "collapsed": false,
    "pycharm": {
     "name": "#%% md\n"
    }
   }
  },
  {
   "cell_type": "markdown",
   "source": [
    "\\begin{center}\n",
    "\\begin{tabular}{c c c}\n",
    "ME 6333 & Homework 1 & Gabe Morris \\\\\n",
    "& & gnm54\n",
    "\\end{tabular}\n",
    "\\end{center}\n",
    "\n",
    "# Problem 1\n",
    "## Given\n",
    "The operation of a pumped storage hydro facility is to be examined. The facility is composed of an upper reservoir, a lower reservoir, a turbine/generator, a motor/pump, and associated valves and controls. The overall strategy is to pump from the lower reservoir to the upper reservoir during periods of light electrical demand (typically nights) and cheap base-loaded rates and to generate electricity by flow from upper reservoir to lower during periods of high system demand (typically days and evenings). Pumped hydro facilities can be rapidly brought online when demand peaks and can be quickly shutdown when demand lessens.\n",
    "\n",
    "\\begin{center}\n",
    "\\includegraphics{images/Figure_1}\n",
    "\\end{center}\n",
    "\n",
    "**Known Properties**\n",
    "\n",
    "Tunnel Length: $7000\\,ft$ \\\n",
    "Tunnel Diameter: $60\\,ft$ \\\n",
    "Absolute Roughness ($\\epsilon$): 0.$01\\,ft$ \\\n",
    "Elevation Difference: $1250\\,ft$ \\\n",
    "Minor Loss Fittings: 6 gate valves, 14 elbows, 10 ball valves \\\n",
    "Turbine/Generator Efficiency: 0.92 \\\n",
    "Motor/Pump Efficiency: 0.82\n",
    "\n",
    "**Assumed Properties of Water**\n",
    "\n",
    "Density: $\\rho=1.94\\,\\frac{slugs}{ft^3}$ \\\n",
    "Dynamic Viscosity: $3.732\\cdot 10^{-5}\\frac{lb\\cdot s}{ft^2}$\n",
    "\n",
    "## Find\n",
    "a. Find the maximum power that can be generated. Examine a range of flow rates: $50,000\\frac{ft^3}{s}$ to $250,000\\frac{ft^3}{s}$.\n",
    "b. What flow rate produces the maximum power from the previous part?\n",
    "c. If the pumping flow rate is the same as the generating flow rate, what is the pump power required?\n",
    "\n",
    "## Solution\n",
    "Start with the head form of the energy equation."
   ],
   "metadata": {
    "collapsed": false,
    "pycharm": {
     "name": "#%% md\n"
    }
   }
  },
  {
   "cell_type": "code",
   "execution_count": 2,
   "outputs": [
    {
     "data": {
      "text/plain": "Eq(P_{in}/\\gamma + V_{in}**2/(2*g) + z_{in}, P_{out}/\\gamma + V_{out}**2/(2*g) + W_s/g + z_{out} + h_f/g)",
      "text/latex": "$\\displaystyle \\frac{P_{in}}{\\gamma} + \\frac{V_{in}^{2}}{2 g} + z_{in} = \\frac{P_{out}}{\\gamma} + \\frac{V_{out}^{2}}{2 g} + \\frac{W_{s}}{g} + z_{out} + \\frac{h_{f}}{g}$"
     },
     "execution_count": 2,
     "metadata": {},
     "output_type": "execute_result"
    }
   ],
   "source": [
    "# Define symbols\n",
    "P_in, P_out, V_in, V_out, z_in, z_out = sp.symbols('P_{in} P_{out} V_{in} V_{out} z_{in} z_{out}')\n",
    "gamma, Ws, hf, g = sp.symbols(r'\\gamma W_s h_f g')\n",
    "\n",
    "# Define numerical values here to adjust if needed\n",
    "# The underscore denotes a numerical value rather than sympy symbol\n",
    "# Remember, everything must be in BG base units (mass in slugs)\n",
    "L_ = 7000\n",
    "D_ = 60\n",
    "epsilon_ = 0.01\n",
    "h = 1250\n",
    "rho_ = 1.94\n",
    "mu_ = 3.732e-5\n",
    "g_ = 32.2\n",
    "\n",
    "# Efficiencies\n",
    "eta_turbine = 0.92  # Turbine efficiency\n",
    "eta_pump = 0.82  # Pump efficiency\n",
    "\n",
    "eq1 = sp.Eq(P_in/gamma + V_in**2/(2*g) + z_in, P_out/gamma + V_out**2/(2*g) + z_out + Ws/g + hf/g)\n",
    "eq1"
   ],
   "metadata": {
    "collapsed": false,
    "pycharm": {
     "name": "#%%\n"
    }
   }
  },
  {
   "cell_type": "markdown",
   "source": [
    "A couple of things to note:\n",
    "\n",
    "* The direction of the equation matters. This is why I prefer using the \"in\" and \"out\" subscripts.\n",
    "* If we put everything in terms of the base units of the BG system, then we won't need to worry about the $g_c$. Keep in mind that the slug is the derived unit of the BG system (opposed to the Newton in the metric system): $slug=\\frac{lbf\\cdot s^2}{ft}=32.2\\,lbm$.\n",
    "\n",
    "Now we can make assumptions on the energy equation (if viewed in the case of the generator direction):\n",
    "\n",
    "* The reservoirs are big which means that the velocity at the ends of the streamlines is negligible.\n",
    "* The reservoirs are exposed to the same atmospheric pressure, which cancels them from the expression.\n",
    "* The datum is set to the $z_{out}$ position."
   ],
   "metadata": {
    "collapsed": false,
    "pycharm": {
     "name": "#%% md\n"
    }
   }
  },
  {
   "cell_type": "code",
   "execution_count": 3,
   "outputs": [
    {
     "data": {
      "text/plain": "Eq(z_{in}, W_s/g + h_f/g)",
      "text/latex": "$\\displaystyle z_{in} = \\frac{W_{s}}{g} + \\frac{h_{f}}{g}$"
     },
     "execution_count": 3,
     "metadata": {},
     "output_type": "execute_result"
    }
   ],
   "source": [
    "# Making substitutions\n",
    "eq2 = eq1.subs([\n",
    "    (P_in, 0),\n",
    "    (P_out, 0),\n",
    "    (V_in, 0),\n",
    "    (V_out, 0),\n",
    "    (z_out, 0)\n",
    "])\n",
    "eq2"
   ],
   "metadata": {
    "collapsed": false,
    "pycharm": {
     "name": "#%%\n"
    }
   }
  },
  {
   "cell_type": "code",
   "execution_count": 4,
   "outputs": [
    {
     "data": {
      "text/plain": "Eq(W_s, g*z_{in} - h_f)",
      "text/latex": "$\\displaystyle W_{s} = g z_{in} - h_{f}$"
     },
     "execution_count": 4,
     "metadata": {},
     "output_type": "execute_result"
    }
   ],
   "source": [
    "# Solving for Ws\n",
    "Ws_solved = sp.solve(eq2, Ws, dict=True)[0]\n",
    "eq3 = sp.Eq(Ws, Ws_solved[Ws])\n",
    "eq3"
   ],
   "metadata": {
    "collapsed": false,
    "pycharm": {
     "name": "#%%\n"
    }
   }
  },
  {
   "cell_type": "markdown",
   "source": [
    "This relationship above (stored in `eq3`) makes logical sense. This can be read that the work per unit mass from the fluid gets generated due to the initial elevation of the fluid, but some energy is lost due to the viscous effects of the pipe ($h_f$).\n",
    "\n",
    "Now an expression for $h_f$ must be obtained ($h_f=K_{eq}\\frac{V^2}{2}$). The major loss is,\n",
    "\n",
    "$K_{major}=f\\frac{L}{D}$.\n",
    "\n",
    "The other $K$ factors for the minor losses are,\n",
    "\n",
    "$K_{entrance}=0.5$ \\\n",
    "$K_{exit}=1$ \\\n",
    "$K_{gate}=8f_T$ \\\n",
    "$K_{elbow}=30f_T$ \\\n",
    "$K_{ball}=3f_T$\n",
    "\n",
    "The values above assumed that the pipe diameter was constant through each valve and fitting ($\\beta=1$ and $\\theta=0$). The $K_{eq}$ then becomes,\n",
    "\n",
    "$K_{eq}=K_{major}+K_{entrance}+K_{exit}+6K_{gate}+14K_{elbow}+10K_{ball}$"
   ],
   "metadata": {
    "collapsed": false,
    "pycharm": {
     "name": "#%% md\n"
    }
   }
  },
  {
   "cell_type": "code",
   "execution_count": 5,
   "outputs": [
    {
     "data": {
      "text/plain": "Eq(W_s, -V**2*(10*K_{ball} + 14*K_{elbow} + K_{entrance} + K_{exit} + 6*K_{gate} + K_{major})/2 + g*z_{in})",
      "text/latex": "$\\displaystyle W_{s} = - \\frac{V^{2} \\left(10 K_{ball} + 14 K_{elbow} + K_{entrance} + K_{exit} + 6 K_{gate} + K_{major}\\right)}{2} + g z_{in}$"
     },
     "execution_count": 5,
     "metadata": {},
     "output_type": "execute_result"
    }
   ],
   "source": [
    "# Define more symbols and plug into expression\n",
    "V, K_major, K_entrance, K_exit, K_gate, K_elbow, K_ball = sp.symbols('V K_{major} K_{entrance} K_{exit} K_{gate} K_{elbow} K_{ball}')\n",
    "\n",
    "eq4 = eq3.subs(hf, V**2/2*(K_major + K_entrance + K_exit + 6*K_gate + 14*K_elbow + 10*K_ball))\n",
    "eq4"
   ],
   "metadata": {
    "collapsed": false,
    "pycharm": {
     "name": "#%%\n"
    }
   }
  },
  {
   "cell_type": "code",
   "source": [
    "# Substitute in the expressions for each K-factor\n",
    "f, fT, L, D = sp.symbols('f f_T L D')\n",
    "\n",
    "eq5 = eq4.subs([\n",
    "    (K_major, f*L/D),\n",
    "    (K_entrance, 0.5),\n",
    "    (K_exit, 1),\n",
    "    (K_gate, 8*fT),\n",
    "    (K_elbow, 30*fT),\n",
    "    (K_ball, 3*fT)\n",
    "])\n",
    "eq5"
   ],
   "metadata": {
    "collapsed": false,
    "pycharm": {
     "name": "#%%\n"
    }
   },
   "execution_count": 6,
   "outputs": [
    {
     "data": {
      "text/plain": "Eq(W_s, -V**2*(498*f_T + 1.5 + L*f/D)/2 + g*z_{in})",
      "text/latex": "$\\displaystyle W_{s} = - \\frac{V^{2} \\left(498 f_{T} + 1.5 + \\frac{L f}{D}\\right)}{2} + g z_{in}$"
     },
     "execution_count": 6,
     "metadata": {},
     "output_type": "execute_result"
    }
   ]
  },
  {
   "cell_type": "markdown",
   "source": [
    "The goal is to get this in terms of the flow rate. Velocity can be rewritten in terms of the flow rate,\n",
    "\n",
    "$V=\\frac{Q}{A}=\\frac{Q}{\\frac{\\pi}{4}D^2}$"
   ],
   "metadata": {
    "collapsed": false,
    "pycharm": {
     "name": "#%% md\n"
    }
   }
  },
  {
   "cell_type": "code",
   "execution_count": 7,
   "outputs": [
    {
     "data": {
      "text/plain": "Eq(W_s, g*z_{in} - 8*Q**2*(498*f_T + 1.5 + L*f/D)/(pi**2*D**4))",
      "text/latex": "$\\displaystyle W_{s} = g z_{in} - \\frac{8 Q^{2} \\left(498 f_{T} + 1.5 + \\frac{L f}{D}\\right)}{\\pi^{2} D^{4}}$"
     },
     "execution_count": 7,
     "metadata": {},
     "output_type": "execute_result"
    }
   ],
   "source": [
    "# Substitute in the expression for velocity\n",
    "Q = sp.Symbol('Q')\n",
    "\n",
    "eq6 = eq5.subs(V, Q/(sp.pi/4*D**2))\n",
    "eq6"
   ],
   "metadata": {
    "collapsed": false,
    "pycharm": {
     "name": "#%%\n"
    }
   }
  },
  {
   "cell_type": "markdown",
   "source": [
    "$f_T$ is a function of the relative roughness."
   ],
   "metadata": {
    "collapsed": false,
    "pycharm": {
     "name": "#%% md\n"
    }
   }
  },
  {
   "cell_type": "code",
   "execution_count": 8,
   "outputs": [
    {
     "data": {
      "text/plain": "0.3086*log(10)**2/log(0.234043231705236*(\\epsilon/D)**1.11)**2",
      "text/latex": "$\\displaystyle \\frac{0.3086 \\log{\\left(10 \\right)}^{2}}{\\log{\\left(0.234043231705236 \\left(\\frac{\\epsilon}{D}\\right)^{1.11} \\right)}^{2}}$"
     },
     "execution_count": 8,
     "metadata": {},
     "output_type": "execute_result"
    }
   ],
   "source": [
    "# Define an expression for fT and show before substituting\n",
    "epsilon = sp.Symbol(r'\\epsilon')\n",
    "\n",
    "fT_expression = 0.3086/(sp.log((epsilon/(3.7*D))**1.11, 10))**2\n",
    "fT_expression"
   ],
   "metadata": {
    "collapsed": false,
    "pycharm": {
     "name": "#%%\n"
    }
   }
  },
  {
   "cell_type": "markdown",
   "source": [
    "The above is displayed to show the expression before it gets substituted in. One **very important** note about `sympy`: logarithm expressions are always represented as natural logarithms. So in the expression above, $\\log(...)=\\ln(...)$. `sympy` does a change of base operation in the background."
   ],
   "metadata": {
    "collapsed": false,
    "pycharm": {
     "name": "#%% md\n"
    }
   }
  },
  {
   "cell_type": "code",
   "execution_count": 9,
   "outputs": [
    {
     "data": {
      "text/plain": "Eq(W_s, g*z_{in} - 8*Q**2*(1.5 + 153.6828*log(10)**2/log(0.234043231705236*(\\epsilon/D)**1.11)**2 + L*f/D)/(pi**2*D**4))",
      "text/latex": "$\\displaystyle W_{s} = g z_{in} - \\frac{8 Q^{2} \\left(1.5 + \\frac{153.6828 \\log{\\left(10 \\right)}^{2}}{\\log{\\left(0.234043231705236 \\left(\\frac{\\epsilon}{D}\\right)^{1.11} \\right)}^{2}} + \\frac{L f}{D}\\right)}{\\pi^{2} D^{4}}$"
     },
     "execution_count": 9,
     "metadata": {},
     "output_type": "execute_result"
    }
   ],
   "source": [
    "# Substitute in the expression for fT\n",
    "eq7 = eq6.subs(fT, fT_expression)\n",
    "eq7"
   ],
   "metadata": {
    "collapsed": false,
    "pycharm": {
     "name": "#%%\n"
    }
   }
  },
  {
   "cell_type": "markdown",
   "source": [
    "The friction factor can be defined as a piecewise function that depends on the relative roughness and Reynold's number. Then Reynold's number can be written in terms of the flow rate, which will result in the work per unit mass being witten in terms of the flow rate and known constants."
   ],
   "metadata": {
    "collapsed": false,
    "pycharm": {
     "name": "#%% md\n"
    }
   }
  },
  {
   "cell_type": "code",
   "execution_count": 10,
   "outputs": [
    {
     "data": {
      "text/plain": "Piecewise((0.3086*log(10)**2/log(0.234043231705236*(\\epsilon/D)**1.11 + 6.9/Re)**2, Re >= 2300), (64/Re, True))",
      "text/latex": "$\\displaystyle \\begin{cases} \\frac{0.3086 \\log{\\left(10 \\right)}^{2}}{\\log{\\left(0.234043231705236 \\left(\\frac{\\epsilon}{D}\\right)^{1.11} + \\frac{6.9}{Re} \\right)}^{2}} & \\text{for}\\: Re \\geq 2300 \\\\\\frac{64}{Re} & \\text{otherwise} \\end{cases}$"
     },
     "execution_count": 10,
     "metadata": {},
     "output_type": "execute_result"
    }
   ],
   "source": [
    "# Writing the friction factor as a piecewise function.\n",
    "# Haaland equation\n",
    "Re = sp.Symbol('Re')\n",
    "\n",
    "f_expression = sp.Piecewise((0.3086/(sp.log(6.9/Re + (epsilon/(D*3.7))**1.11, 10))**2, Re >= 2300), (64/Re, Re < 2300))\n",
    "f_expression"
   ],
   "metadata": {
    "collapsed": false,
    "pycharm": {
     "name": "#%%\n"
    }
   }
  },
  {
   "cell_type": "markdown",
   "source": [
    "Now rewrite $Re$ in terms of the flow rate,\n",
    "\n",
    "$Re=\\frac{4\\rho Q}{\\pi D\\mu}$"
   ],
   "metadata": {
    "collapsed": false,
    "pycharm": {
     "name": "#%% md\n"
    }
   }
  },
  {
   "cell_type": "code",
   "source": [
    "# Substitute the expression above into Re\n",
    "rho, mu = sp.symbols(r'\\rho \\mu')\n",
    "\n",
    "f_expression_ = f_expression.subs(Re, 4*rho*Q/(sp.pi*D*mu))\n",
    "f_expression_"
   ],
   "metadata": {
    "collapsed": false,
    "pycharm": {
     "name": "#%%\n"
    }
   },
   "execution_count": 11,
   "outputs": [
    {
     "data": {
      "text/plain": "Piecewise((0.3086*log(10)**2/log(1.725*pi*D*\\mu/(Q*\\rho) + 0.234043231705236*(\\epsilon/D)**1.11)**2, 4*Q*\\rho/(pi*D*\\mu) >= 2300), (16*pi*D*\\mu/(Q*\\rho), True))",
      "text/latex": "$\\displaystyle \\begin{cases} \\frac{0.3086 \\log{\\left(10 \\right)}^{2}}{\\log{\\left(\\frac{1.725 \\pi D \\mu}{Q \\rho} + 0.234043231705236 \\left(\\frac{\\epsilon}{D}\\right)^{1.11} \\right)}^{2}} & \\text{for}\\: \\frac{4 Q \\rho}{\\pi D \\mu} \\geq 2300 \\\\\\frac{16 \\pi D \\mu}{Q \\rho} & \\text{otherwise} \\end{cases}$"
     },
     "execution_count": 11,
     "metadata": {},
     "output_type": "execute_result"
    }
   ]
  },
  {
   "cell_type": "markdown",
   "source": [
    "Now substitute the above expression into `eq7` to finally write the energy per unit mass in terms of the flow rate."
   ],
   "metadata": {
    "collapsed": false,
    "pycharm": {
     "name": "#%% md\n"
    }
   }
  },
  {
   "cell_type": "code",
   "execution_count": 12,
   "outputs": [
    {
     "data": {
      "text/plain": "Eq(W_s, g*z_{in} - 8*Q**2*(1.5 + 153.6828*log(10)**2/log(0.234043231705236*(\\epsilon/D)**1.11)**2 + L*Piecewise((0.3086*log(10)**2/log(1.725*pi*D*\\mu/(Q*\\rho) + 0.234043231705236*(\\epsilon/D)**1.11)**2, 4*Q*\\rho/(pi*D*\\mu) >= 2300), (16*pi*D*\\mu/(Q*\\rho), True))/D)/(pi**2*D**4))",
      "text/latex": "$\\displaystyle W_{s} = g z_{in} - \\frac{8 Q^{2} \\left(1.5 + \\frac{153.6828 \\log{\\left(10 \\right)}^{2}}{\\log{\\left(0.234043231705236 \\left(\\frac{\\epsilon}{D}\\right)^{1.11} \\right)}^{2}} + \\frac{L \\left(\\begin{cases} \\frac{0.3086 \\log{\\left(10 \\right)}^{2}}{\\log{\\left(\\frac{1.725 \\pi D \\mu}{Q \\rho} + 0.234043231705236 \\left(\\frac{\\epsilon}{D}\\right)^{1.11} \\right)}^{2}} & \\text{for}\\: \\frac{4 Q \\rho}{\\pi D \\mu} \\geq 2300 \\\\\\frac{16 \\pi D \\mu}{Q \\rho} & \\text{otherwise} \\end{cases}\\right)}{D}\\right)}{\\pi^{2} D^{4}}$"
     },
     "execution_count": 12,
     "metadata": {},
     "output_type": "execute_result"
    }
   ],
   "source": [
    "eq8 = eq7.subs(f, f_expression_)\n",
    "eq8"
   ],
   "metadata": {
    "collapsed": false,
    "pycharm": {
     "name": "#%%\n"
    }
   }
  },
  {
   "cell_type": "code",
   "execution_count": 13,
   "outputs": [
    {
     "data": {
      "text/plain": "Eq(W_s, -6.25439405199616e-8*Q**2*(116.666666666667*Piecewise((1.63616575689363/log(1.49812550702357e-5 + 0.0019910412371134*pi/Q)**2, 3465.52340121472*Q/pi >= 2300), (0.0580177671745836/Q, True)) + 8.10281790872477) + 40250.0)",
      "text/latex": "$\\displaystyle W_{s} = - 6.25439405199616 \\cdot 10^{-8} Q^{2} \\left(116.666666666667 \\left(\\begin{cases} \\frac{1.63616575689363}{\\log{\\left(1.49812550702357 \\cdot 10^{-5} + \\frac{0.0019910412371134 \\pi}{Q} \\right)}^{2}} & \\text{for}\\: \\frac{3465.52340121472 Q}{\\pi} \\geq 2300 \\\\\\frac{0.0580177671745836}{Q} & \\text{otherwise} \\end{cases}\\right) + 8.10281790872477\\right) + 40250.0$"
     },
     "execution_count": 13,
     "metadata": {},
     "output_type": "execute_result"
    }
   ],
   "source": [
    "# Substituting in numerical values\n",
    "eq9 = eq8.subs([\n",
    "    (g, g_),\n",
    "    (z_in, h),\n",
    "    (epsilon, epsilon_),\n",
    "    (D, D_),\n",
    "    (mu, mu_),\n",
    "    (rho, rho_),\n",
    "    (L, L_)\n",
    "])\n",
    "eq9.n()"
   ],
   "metadata": {
    "collapsed": false,
    "pycharm": {
     "name": "#%%\n"
    }
   }
  },
  {
   "cell_type": "code",
   "execution_count": 14,
   "outputs": [],
   "source": [
    "# Now convert the symbolic function into a python function for fast computing\n",
    "Ws_lamb = sp.lambdify(Q, eq9.rhs, modules=\"numpy\")"
   ],
   "metadata": {
    "collapsed": false,
    "pycharm": {
     "name": "#%%\n"
    }
   }
  },
  {
   "cell_type": "markdown",
   "source": [
    "### Part A\n",
    "Now that there is an explicit $W_s(Q)$, the power that the system produces may now be calculated. Consider the following relationships:\n",
    "\n",
    "$\\Delta P=\\rho W_s$ \\\n",
    "$power=Q\\Delta P=\\rho QW_s$\n",
    "\n",
    "The efficiency of a turbine is defined as the power transmitted to the shaft divided by the power transmitted by the fluid. The power in the above expression is that which is transmitted by the fluid, and we are interested in the output power extended to the shaft.\n",
    "\n",
    "$power_{shaft}=\\eta_T\\cdot power_{fluid}$"
   ],
   "metadata": {
    "collapsed": false,
    "pycharm": {
     "name": "#%% md\n"
    }
   }
  },
  {
   "cell_type": "code",
   "execution_count": 15,
   "outputs": [
    {
     "data": {
      "text/plain": "<Figure size 1440x960 with 1 Axes>",
      "image/png": "[encoded data removed]"
     },
     "metadata": {
      "needs_background": "light"
     },
     "output_type": "display_data"
    }
   ],
   "source": [
    "# Obtain the power of the shaft\n",
    "flow_rates = np.linspace(50_000, 250_000, 1000)\n",
    "power_fluid = rho_*flow_rates*Ws_lamb(flow_rates)/550  # In hp\n",
    "power_shaft = eta_turbine*power_fluid  # In hp\n",
    "\n",
    "# Start plotting\n",
    "fig, ax = plt.subplots()\n",
    "ax.plot(flow_rates, power_fluid, label='Fluid Power', ls='--')\n",
    "ax.plot(flow_rates, power_shaft, label='Shaft Power')\n",
    "ax.set_xlabel(r'Flow Rate, $Q$ ($\\frac{ft^3}{s}$)')\n",
    "ax.set_ylabel(r'Power ($hp$)')\n",
    "ax.set_title('Turbine')\n",
    "ax.legend()\n",
    "plt.show()"
   ],
   "metadata": {
    "collapsed": false,
    "pycharm": {
     "name": "#%%\n"
    }
   }
  },
  {
   "cell_type": "markdown",
   "source": [
    "The dashed line above represents the power that the turbine would generate if there was 100% efficiency."
   ],
   "metadata": {
    "collapsed": false,
    "pycharm": {
     "name": "#%% md\n"
    }
   }
  },
  {
   "cell_type": "code",
   "execution_count": 16,
   "outputs": [
    {
     "name": "stdout",
     "output_type": "stream",
     "text": [
      "The maximum power is 12982477.769300656 horse power.\n"
     ]
    }
   ],
   "source": [
    "max_power_gen = np.max(power_shaft)\n",
    "print(f'The maximum power is {max_power_gen} horse power.')"
   ],
   "metadata": {
    "collapsed": false,
    "pycharm": {
     "name": "#%%\n"
    }
   }
  },
  {
   "cell_type": "markdown",
   "source": [
    "### Part B\n",
    "The flow rate that corresponds to the maximum power should be around $150,000\\frac{ft^3}{s}$, but we can get a more precise answer by finding the index of the array that corresponds the maximum power."
   ],
   "metadata": {
    "collapsed": false,
    "pycharm": {
     "name": "#%% md\n"
    }
   }
  },
  {
   "cell_type": "code",
   "source": [
    "max_power_flow_rate = flow_rates[power_shaft == max_power_gen][0]\n",
    "print(f'The maximum power generated occurs at a flow rate of {max_power_flow_rate} cfs.')"
   ],
   "metadata": {
    "collapsed": false,
    "pycharm": {
     "name": "#%%\n"
    }
   },
   "execution_count": 17,
   "outputs": [
    {
     "name": "stdout",
     "output_type": "stream",
     "text": [
      "The maximum power generated occurs at a flow rate of 149099.0990990991 cfs.\n"
     ]
    }
   ]
  },
  {
   "cell_type": "markdown",
   "source": [
    "### Part C\n",
    "We can start with the original energy equation, but make the $W_s$ negative because work is being done on the system."
   ],
   "metadata": {
    "collapsed": false,
    "pycharm": {
     "name": "#%% md\n"
    }
   }
  },
  {
   "cell_type": "code",
   "execution_count": 18,
   "outputs": [
    {
     "data": {
      "text/plain": "Eq(P_{in}/\\gamma + V_{in}**2/(2*g) + z_{in}, P_{out}/\\gamma + V_{out}**2/(2*g) - W_s/g + z_{out} + h_f/g)",
      "text/latex": "$\\displaystyle \\frac{P_{in}}{\\gamma} + \\frac{V_{in}^{2}}{2 g} + z_{in} = \\frac{P_{out}}{\\gamma} + \\frac{V_{out}^{2}}{2 g} - \\frac{W_{s}}{g} + z_{out} + \\frac{h_{f}}{g}$"
     },
     "execution_count": 18,
     "metadata": {},
     "output_type": "execute_result"
    }
   ],
   "source": [
    "eq10 = eq1.subs(Ws, -Ws)\n",
    "eq10"
   ],
   "metadata": {
    "collapsed": false,
    "pycharm": {
     "name": "#%%\n"
    }
   }
  },
  {
   "cell_type": "markdown",
   "source": [
    "The same assumptions can be made as before, but this time, the datum will be set to $z_{in}$."
   ],
   "metadata": {
    "collapsed": false,
    "pycharm": {
     "name": "#%% md\n"
    }
   }
  },
  {
   "cell_type": "code",
   "execution_count": 19,
   "outputs": [
    {
     "data": {
      "text/plain": "Eq(0, -W_s/g + z_{out} + h_f/g)",
      "text/latex": "$\\displaystyle 0 = - \\frac{W_{s}}{g} + z_{out} + \\frac{h_{f}}{g}$"
     },
     "execution_count": 19,
     "metadata": {},
     "output_type": "execute_result"
    }
   ],
   "source": [
    "eq11 = eq10.subs([\n",
    "    (P_in, 0),\n",
    "    (P_out, 0),\n",
    "    (V_in, 0),\n",
    "    (V_out, 0),\n",
    "    (z_in, 0)\n",
    "])\n",
    "eq11"
   ],
   "metadata": {
    "collapsed": false,
    "pycharm": {
     "name": "#%%\n"
    }
   }
  },
  {
   "cell_type": "code",
   "execution_count": 20,
   "outputs": [
    {
     "data": {
      "text/plain": "Eq(W_s, g*z_{out} + h_f)",
      "text/latex": "$\\displaystyle W_{s} = g z_{out} + h_{f}$"
     },
     "execution_count": 20,
     "metadata": {},
     "output_type": "execute_result"
    }
   ],
   "source": [
    "# Solve for Ws\n",
    "eq12 = sp.Eq(Ws, sp.solve(eq11, Ws)[0])\n",
    "eq12"
   ],
   "metadata": {
    "collapsed": false,
    "pycharm": {
     "name": "#%%\n"
    }
   }
  },
  {
   "cell_type": "markdown",
   "source": [
    "This representation of the work per unit mass of the pump also makes logical sense. This can be interpreted that the pump will have to overcome the elevation difference, and the major and minor losses. Expect to see greater magnitudes of power for the pump compared to the power generated by a turbine, especially when there is a pump efficiency of 82%."
   ],
   "metadata": {
    "collapsed": false,
    "pycharm": {
     "name": "#%% md\n"
    }
   }
  },
  {
   "cell_type": "code",
   "execution_count": 21,
   "outputs": [
    {
     "data": {
      "text/plain": "6.25439405199616e-8*Q**2*(116.666666666667*Piecewise((1.63616575689363/log(1.49812550702357e-5 + 0.0019910412371134*pi/Q)**2, 3465.52340121472*Q/pi >= 2300), (0.0580177671745836/Q, True)) + 8.10281790872477)",
      "text/latex": "$\\displaystyle 6.25439405199616 \\cdot 10^{-8} Q^{2} \\left(116.666666666667 \\left(\\begin{cases} \\frac{1.63616575689363}{\\log{\\left(1.49812550702357 \\cdot 10^{-5} + \\frac{0.0019910412371134 \\pi}{Q} \\right)}^{2}} & \\text{for}\\: \\frac{3465.52340121472 Q}{\\pi} \\geq 2300 \\\\\\frac{0.0580177671745836}{Q} & \\text{otherwise} \\end{cases}\\right) + 8.10281790872477\\right)$"
     },
     "execution_count": 21,
     "metadata": {},
     "output_type": "execute_result"
    }
   ],
   "source": [
    "# Getting the same hf expression from before\n",
    "hf_expression = (eq9.rhs - g_*h)*-1\n",
    "hf_expression.n()"
   ],
   "metadata": {
    "collapsed": false,
    "pycharm": {
     "name": "#%%\n"
    }
   }
  },
  {
   "cell_type": "code",
   "execution_count": 22,
   "outputs": [
    {
     "data": {
      "text/plain": "Eq(W_s, 6.25439405199616e-8*Q**2*(116.666666666667*Piecewise((1.63616575689363/log(1.49812550702357e-5 + 0.0019910412371134*pi/Q)**2, 3465.52340121472*Q/pi >= 2300), (0.0580177671745836/Q, True)) + 8.10281790872477) + 40250.0)",
      "text/latex": "$\\displaystyle W_{s} = 6.25439405199616 \\cdot 10^{-8} Q^{2} \\left(116.666666666667 \\left(\\begin{cases} \\frac{1.63616575689363}{\\log{\\left(1.49812550702357 \\cdot 10^{-5} + \\frac{0.0019910412371134 \\pi}{Q} \\right)}^{2}} & \\text{for}\\: \\frac{3465.52340121472 Q}{\\pi} \\geq 2300 \\\\\\frac{0.0580177671745836}{Q} & \\text{otherwise} \\end{cases}\\right) + 8.10281790872477\\right) + 40250.0$"
     },
     "execution_count": 22,
     "metadata": {},
     "output_type": "execute_result"
    }
   ],
   "source": [
    "# Get new expression in terms of Q\n",
    "eq13 = eq12.subs([\n",
    "    (hf, hf_expression),\n",
    "    (g, g_),\n",
    "    (z_out, h)\n",
    "])\n",
    "eq13.n()"
   ],
   "metadata": {
    "collapsed": false,
    "pycharm": {
     "name": "#%%\n"
    }
   }
  },
  {
   "cell_type": "code",
   "execution_count": 23,
   "outputs": [],
   "source": [
    "Ws_pump_lamb = sp.lambdify(Q, eq13.rhs, modules='numpy')"
   ],
   "metadata": {
    "collapsed": false,
    "pycharm": {
     "name": "#%%\n"
    }
   }
  },
  {
   "cell_type": "markdown",
   "source": [
    "The efficiency for a pump is defined as the ratio of the power from the fluid to the power transmitted from the shaft to the fluid.\n",
    "\n",
    "$power_{shaft}=\\frac{power_{fluid}}{\\eta_P}$"
   ],
   "metadata": {
    "collapsed": false,
    "pycharm": {
     "name": "#%% md\n"
    }
   }
  },
  {
   "cell_type": "code",
   "execution_count": 24,
   "outputs": [
    {
     "data": {
      "text/plain": "<Figure size 1440x960 with 1 Axes>",
      "image/png": "[encoded data removed]"
     },
     "metadata": {
      "needs_background": "light"
     },
     "output_type": "display_data"
    }
   ],
   "source": [
    "# Power\n",
    "power_fluid_pump = rho_*flow_rates*Ws_pump_lamb(flow_rates)/550  # In hp\n",
    "power_shaft_pump = power_fluid_pump/eta_pump\n",
    "\n",
    "# Start plotting\n",
    "fig2, ax2 = plt.subplots()\n",
    "ax2.plot(flow_rates, power_fluid_pump, label='Fluid Power', ls='--')\n",
    "ax2.plot(flow_rates, power_shaft_pump, label='Shaft Power')\n",
    "ax2.set_xlabel(r'Flow Rate, $Q$ ($\\frac{ft^3}{s}$)')\n",
    "ax2.set_ylabel(r'Power ($hp$)')\n",
    "ax2.set_title('Pump')\n",
    "ax2.legend()\n",
    "plt.show()"
   ],
   "metadata": {
    "collapsed": false,
    "pycharm": {
     "name": "#%%\n"
    }
   }
  },
  {
   "cell_type": "markdown",
   "source": [
    "The above graph may be interpreted that the solid line is the shaft power required to push the fluid at the corresponding flow rate. The dashed line represents a 100% pump efficiency in which the pump won't have to work as hard."
   ],
   "metadata": {
    "collapsed": false,
    "pycharm": {
     "name": "#%% md\n"
    }
   }
  },
  {
   "cell_type": "code",
   "execution_count": 25,
   "outputs": [
    {
     "name": "stdout",
     "output_type": "stream",
     "text": [
      "The power required from the shaft to push the fluid at 150,000 cfs is 34733184.661962755 horse power.\n"
     ]
    }
   ],
   "source": [
    "# Getting the pump power at a flow rate of 150,000 cfs\n",
    "power_fluid_150 = rho_*150_000*Ws_pump_lamb(150_000)/550  # In hp\n",
    "power_shaft_150 = power_fluid_150/eta_pump\n",
    "print(f'The power required from the shaft to push the fluid at 150,000 cfs is {power_shaft_150} horse power.')"
   ],
   "metadata": {
    "collapsed": false,
    "pycharm": {
     "name": "#%%\n"
    }
   }
  },
  {
   "cell_type": "markdown",
   "source": [
    "## Answer\n",
    "a. The maximum power that can be generated is around $1.3\\cdot 10^7\\,hp$.\n",
    "b. The flow rate for which the maximum power generated occurs is $150,000\\,\\frac{ft^3}{s}$.\n",
    "c. If a pump is used, the power required to push the fluid $150,000\\,\\frac{ft^3}{s}$ is around $3.5\\cdot 10^7\\,hp$.\n",
    "\n",
    "## Verification\n",
    "The above is a detailed example of the process. This process has been captured in my package, `msu_esd`."
   ],
   "metadata": {
    "collapsed": false,
    "pycharm": {
     "name": "#%% md\n"
    }
   }
  },
  {
   "cell_type": "code",
   "execution_count": 26,
   "outputs": [
    {
     "data": {
      "text/plain": "12966752.965041839"
     },
     "execution_count": 26,
     "metadata": {},
     "output_type": "execute_result"
    }
   ],
   "source": [
    "# Define a pipe object for the turbine\n",
    "turbine_pipe = Pipe(60, 7000, 0.01, 1.94, 3.732*10**-5, K=1.5, C=498, z_in=1250, eta=0.92, turbine=True)\n",
    "np.max(turbine_pipe.power(flow_rates))/550"
   ],
   "metadata": {
    "collapsed": false,
    "pycharm": {
     "name": "#%%\n"
    }
   }
  },
  {
   "cell_type": "code",
   "execution_count": 27,
   "outputs": [
    {
     "data": {
      "text/plain": "34712214.59544393"
     },
     "execution_count": 27,
     "metadata": {},
     "output_type": "execute_result"
    }
   ],
   "source": [
    "# Define a pipe object for the pump\n",
    "pump_pipe = Pipe(60, 7000, 0.01, 1.94, 3.732*10**-5, K=1.5, C=498, z_out=1250, eta=0.82, pump=True)\n",
    "pump_pipe.power(150_000)/550"
   ],
   "metadata": {
    "collapsed": false,
    "pycharm": {
     "name": "#%%\n"
    }
   }
  },
  {
   "cell_type": "markdown",
   "source": [
    "\\pagebreak\n",
    "\n",
    "\\begin{center}\n",
    "\\begin{tabular}{c c c}\n",
    "ME 6333 & Homework 1 & Gabe Morris \\\\\n",
    "& & gnm54\n",
    "\\end{tabular}\n",
    "\\end{center}\n",
    "\n",
    "# Problem 2\n",
    "## Given\n",
    "A 14-inch (nominal) schedule 40 cast-iron pipe is used to convey 12 million gallons per day of benzene. The pipeline is 3 miles long, the pump motor is 39% efficient, and electricity costs 7.5 cents per kWh. An arrangement with a 12-inch and a 16-inch line in parallel with the existing 14-inch line is to be investigated.\n",
    "\n",
    "## Find\n",
    "a. What is the yearly pumping cost for the single pipe?\n",
    "b. What is the yearly pumping cost for the parallel arrangement?\n",
    "c. Work parts (a) and (b) if three filters, each with a loss coefficient of 150, are placed in the lines. For part (a) place all three in the single line; for part (b) place one in each line.\n",
    "\n",
    "## Solution\n",
    "From page 461 in the book,\n",
    "\n",
    "$\\rho=54.6\\frac{lbm}{ft^3}$ \\\n",
    "$\\mu=39.6\\cdot 10^{-5}\\frac{lbm}{ft\\,s}$\n",
    "\n",
    "The absolute roughness is $\\epsilon=0.00085\\,ft$. Assumptions:\n",
    "\n",
    "* The pipeline is so long that the major losses triumph over the minor losses, if assumed a straight pipe.\n",
    "* The pipeline is straight meaning no bends or connections ($\\sum K=0$).\n",
    "* The difference in elevation is zero\n",
    "* There are big reservoirs at the end of the pipeline, meaning that the velocity at each end of the streamline is negligible.\n",
    "* Both reservoirs are exposed to atmospheric pressure.\n",
    "* The pipes in the parallel arrangement are all the same length.\n",
    "\n",
    "### Part A\n",
    "We need to calculate the power for just one single 14-inch pipe."
   ],
   "metadata": {
    "collapsed": false,
    "pycharm": {
     "name": "#%% md\n"
    }
   }
  },
  {
   "cell_type": "code",
   "execution_count": 28,
   "outputs": [
    {
     "data": {
      "text/plain": "4256376.104582956"
     },
     "execution_count": 28,
     "metadata": {},
     "output_type": "execute_result"
    }
   ],
   "source": [
    "# Define constants\n",
    "rho_ = 54.6/32.174  # Density in slugs/ft^3\n",
    "mu_ = 39.6e-5/32.174  # viscosity in slugs/(ft s) = lbf(sec)/(ft^2)\n",
    "epsilon_ = 0.00085  # roughness in ft\n",
    "L_ = 3*5280  # Length in feet\n",
    "D_ = 1.0937  # Diameter in feet\n",
    "Q_T = 12_000_000*(1/7.48052)*(1/86400)  # Total flow rate in ft^3/s\n",
    "eta_ = 0.39\n",
    "\n",
    "# Define a pipe object\n",
    "single_pipe = Pipe(D_, L_, epsilon_, rho_, mu_, pump=True, eta=eta_)\n",
    "\n",
    "# Calculate the power\n",
    "power_A = single_pipe.power(Q_T)\n",
    "power_A  # (ft lbf)/s"
   ],
   "metadata": {
    "collapsed": false,
    "pycharm": {
     "name": "#%%\n"
    }
   }
  },
  {
   "cell_type": "markdown",
   "source": [
    "The cost rate needs to be rearranged into a useful form.\n",
    "\n",
    "$1kW=737.56\\frac{ft\\,lb}{s}$ \\\n",
    "$\\frac{\\$0.075}{kW\\,hr}=\\frac{\\$1.02\\cdot 10^{-4}}{\\frac{ft\\,lb}{s}\\,hr}=\\frac{\\$0.89077}{\\frac{ft\\,lb}{s}\\,yr}$"
   ],
   "metadata": {
    "collapsed": false,
    "pycharm": {
     "name": "#%% md\n"
    }
   }
  },
  {
   "cell_type": "code",
   "execution_count": 29,
   "outputs": [
    {
     "name": "stdout",
     "output_type": "stream",
     "text": [
      "The cost per year for a single series pipe is 3791452.14 dollars per year.\n"
     ]
    }
   ],
   "source": [
    "cost_rate = 0.89077  # Units are above\n",
    "\n",
    "# Now all we have to do is multiply the power in foot pounds by the cost rate.\n",
    "single_annual_cost = power_A*cost_rate\n",
    "print(f'The cost per year for a single series pipe is {single_annual_cost:.2f} dollars per year.')"
   ],
   "metadata": {
    "collapsed": false,
    "pycharm": {
     "name": "#%%\n"
    }
   }
  },
  {
   "cell_type": "markdown",
   "source": [
    "### Part B\n",
    "For a parallel arrangement, the pressure drop across the pipe's is the same. This means that the head ($W_s$) must also be the same."
   ],
   "metadata": {
    "collapsed": false,
    "pycharm": {
     "name": "#%% md\n"
    }
   }
  },
  {
   "cell_type": "code",
   "execution_count": 30,
   "outputs": [
    {
     "name": "stdout",
     "output_type": "stream",
     "text": [
      "The head required to push the fluid is 5200.420892938351 feet squared per second squared.\n",
      "The flow rate in the 12\" pipe is 4.540685721678684 cfs.\n",
      "The flow rate in the 14\" pipe is 5.797059691538097 cfs.\n",
      "The flow rate in the 16\" pipe is 8.228997124586591 cfs.\n"
     ]
    }
   ],
   "source": [
    "# Define three different pipes\n",
    "\n",
    "pipe1 = Pipe(0.9965, L_, epsilon_, rho_, mu_, pump=True, eta=eta_)  # 12\"\n",
    "pipe2 = Pipe(D_, L_, epsilon_, rho_, mu_, pump=True, eta=eta_)  # 14\"\n",
    "pipe3 = Pipe(1.25, L_, epsilon_, rho_, mu_, pump=True, eta=eta_)  # 16\"\n",
    "\n",
    "# Set up a system that's returns values of the flow rates and the head\n",
    "def system(x):\n",
    "    # This function needs to return an array of expressions that is equal to zero\n",
    "    Ws__, Q1, Q2, Q3 = x\n",
    "    return [\n",
    "        pipe1(Ws__, Q1),\n",
    "        pipe2(Ws__, Q2),\n",
    "        pipe3(Ws__, Q3),\n",
    "        Q_T - Q1 - Q2 - Q3\n",
    "    ]\n",
    "\n",
    "Ws, Q_1, Q_2, Q_3 = fsolve(system, np.array([100, Q_T/3, Q_T/3, Q_T/3]))\n",
    "print(f'The head required to push the fluid is {Ws} feet squared per second squared.')\n",
    "print(f'The flow rate in the 12\" pipe is {Q_1} cfs.')\n",
    "print(f'The flow rate in the 14\" pipe is {Q_2} cfs.')\n",
    "print(f'The flow rate in the 16\" pipe is {Q_3} cfs.')"
   ],
   "metadata": {
    "collapsed": false,
    "pycharm": {
     "name": "#%%\n"
    }
   }
  },
  {
   "cell_type": "code",
   "execution_count": 31,
   "outputs": [
    {
     "name": "stdout",
     "output_type": "stream",
     "text": [
      "The total flow rate in cfs is 18.57, and the sum of the pipe flow rates is 18.57.\n",
      "Calculating head using same verified functions as the previous problem:\n",
      "5200.420892938527\n",
      "5200.420892938945\n",
      "5200.420892940016\n"
     ]
    }
   ],
   "source": [
    "# Verifying the solutions\n",
    "print(f'The total flow rate in cfs is {Q_T:.2f}, and the sum of the pipe flow rates is {Q_1 + Q_2 + Q_3:.2f}.')\n",
    "print('Calculating head using same verified functions as the previous problem:')\n",
    "print(f'{pipe1.W_s(Q_1)}')\n",
    "print(f'{pipe2.W_s(Q_2)}')\n",
    "print(f'{pipe3.W_s(Q_3)}')"
   ],
   "metadata": {
    "collapsed": false,
    "pycharm": {
     "name": "#%%\n"
    }
   }
  },
  {
   "cell_type": "markdown",
   "source": [
    "The total power required to push the fluid is,\n",
    "\n",
    "$power=\\frac{\\rho Q_TW_s}{\\eta_P}$"
   ],
   "metadata": {
    "collapsed": false,
    "pycharm": {
     "name": "#%% md\n"
    }
   }
  },
  {
   "cell_type": "code",
   "execution_count": 32,
   "outputs": [
    {
     "name": "stdout",
     "output_type": "stream",
     "text": [
      "The cost per year for the parallel arrangement is 374250.83 dollars per year.\n"
     ]
    }
   ],
   "source": [
    "# Get the power\n",
    "power_B = rho_*Q_T*Ws/eta_\n",
    "\n",
    "# Get the cost\n",
    "parallel_annual_cost = power_B*cost_rate\n",
    "print(f'The cost per year for the parallel arrangement is {parallel_annual_cost:.2f} dollars per year.')"
   ],
   "metadata": {
    "collapsed": false,
    "pycharm": {
     "name": "#%%\n"
    }
   }
  },
  {
   "cell_type": "markdown",
   "source": [
    "### Part C\n",
    "The problem can now be easily repeated because the objects are already defined above.\n",
    "\n",
    "**Part A**\n",
    "\n",
    "The three filters added to the series pipe is additive ($K_T=150(3)=450$)."
   ],
   "metadata": {
    "collapsed": false,
    "pycharm": {
     "name": "#%% md\n"
    }
   }
  },
  {
   "cell_type": "code",
   "execution_count": 33,
   "outputs": [
    {
     "name": "stdout",
     "output_type": "stream",
     "text": [
      "The cost per year for the single pipe with the added losses is 10115652.39 dollars per year.\n"
     ]
    }
   ],
   "source": [
    "K_ = 150\n",
    "\n",
    "# Adding a loss coefficient\n",
    "single_pipe.K = K_*3\n",
    "power_A_with_loss = single_pipe.power(Q_T)\n",
    "single_annual_cost_with_loss = power_A_with_loss*cost_rate\n",
    "print(f'The cost per year for the single pipe with the added losses is {single_annual_cost_with_loss:.2f} dollars per year.')"
   ],
   "metadata": {
    "collapsed": false,
    "pycharm": {
     "name": "#%%\n"
    }
   }
  },
  {
   "cell_type": "markdown",
   "source": [
    "**Part B**\n",
    "\n",
    "Add a loss to each pipe object."
   ],
   "metadata": {
    "collapsed": false,
    "pycharm": {
     "name": "#%% md\n"
    }
   }
  },
  {
   "cell_type": "code",
   "execution_count": 34,
   "outputs": [
    {
     "name": "stdout",
     "output_type": "stream",
     "text": [
      "The increased head to push the fluid is 8197.311337630748 feet squared per second squared.\n",
      "The cost for the parallel arrangement with the added loss is 589923.51 dollars per year.\n"
     ]
    }
   ],
   "source": [
    "# Adding losses\n",
    "pipe1.K = 150\n",
    "pipe2.K = 150\n",
    "pipe3.K = 150\n",
    "\n",
    "# Solve the system again with the same total flow rate\n",
    "Ws_, Q_1_, Q_2_, Q_3_ = fsolve(system, np.array([Ws, Q_1, Q_2, Q_3]))\n",
    "\n",
    "print(f'The increased head to push the fluid is {Ws_} feet squared per second squared.')\n",
    "\n",
    "power_B_with_loss = rho_*Q_T*Ws_/eta_\n",
    "parallel_annual_cost_with_loss = power_B_with_loss*cost_rate\n",
    "print(f'The cost for the parallel arrangement with the added loss is {parallel_annual_cost_with_loss:.2f} dollars per year.')"
   ],
   "metadata": {
    "collapsed": false,
    "pycharm": {
     "name": "#%%\n"
    }
   }
  },
  {
   "cell_type": "markdown",
   "source": [
    "## Answer\n",
    "a. For a single series pipe, the cost would be around $\\$3.8$ million per year.\n",
    "b. For the parallel arrangement, the cost would be around $\\$374$ thousand per year.\n",
    "c. For the single pipe with loss, the cost would be around $\\$10$ million per year. For the parallel arrangement with the losses, the cost would be around $\\$590$ thousand per year."
   ],
   "metadata": {
    "collapsed": false,
    "pycharm": {
     "name": "#%% md\n"
    }
   }
  }
 ],
 "metadata": {
  "kernelspec": {
   "display_name": "Python 3",
   "language": "python",
   "name": "python3"
  },
  "language_info": {
   "codemirror_mode": {
    "name": "ipython",
    "version": 2
   },
   "file_extension": ".py",
   "mimetype": "text/x-python",
   "name": "python",
   "nbconvert_exporter": "python",
   "pygments_lexer": "ipython2",
   "version": "2.7.6"
  }
 },
 "nbformat": 4,
 "nbformat_minor": 0
}