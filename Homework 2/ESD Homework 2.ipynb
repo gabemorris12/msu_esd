{
 "cells": [
  {
   "cell_type": "code",
   "execution_count": 2,
   "outputs": [],
   "source": [
    "import sympy as sp\n",
    "from msu_esd import cross_flow_unmixed, log_mean_temp_difference"
   ],
   "metadata": {
    "collapsed": false,
    "pycharm": {
     "name": "#%%\n"
    }
   }
  },
  {
   "cell_type": "markdown",
   "metadata": {
    "collapsed": true,
    "pycharm": {
     "name": "#%% md\n"
    }
   },
   "source": [
    "\\pagebreak\n",
    "\\tableofcontents\n",
    "\\pagebreak"
   ]
  },
  {
   "cell_type": "markdown",
   "source": [
    "\\begin{center}\n",
    "\\begin{tabular}{c c c}\n",
    "ME 6333 & Homework 2 & Gabe Morris \\\\\n",
    "& & gnm54\n",
    "\\end{tabular}\n",
    "\\end{center}\n",
    "\n",
    "# Problem 1\n",
    "## Given\n",
    "Water enters a counterflow, double-pipe heat exchanger at a rate of $70\\,\\frac{kg}{min}$ and is heated from $15^\\circ C$ to $60^\\circ C$ by an oil with a specific heat of $1.9\\,\\frac{kJ}{kg\\,K}$. The oil enters at $116^\\circ C$ and leaves at $27^\\circ C$. The overall heat transfer coefficient is $300\\,\\frac{W}{m^2\\,K}$\n",
    "\n",
    "## Find\n",
    "a. What heat transfer area is required?\n",
    "b. What area is required if all conditions remain the same except that a shell and tube heat exchanger is used, with the water making one shell pass and the oil making two tube passes?\n",
    "c. What exit water temperature would result if, for the exchanger of part (a), the water flow rate were decreased to $50\\,\\frac{kg}{min}$\n",
    "\n",
    "## Solution\n",
    "The specific heat of water will be taken at the average temperature of the water entrance and exit ($C_p=4.18\\,\\frac{kJ}{kg\\,K}$)\n",
    "\n",
    "### Part A\n",
    "The oil is the hot fluid and the water is the cold fluid. The condition is unmixed because the fluids never meet."
   ],
   "metadata": {
    "collapsed": false,
    "pycharm": {
     "name": "#%% md\n"
    }
   }
  },
  {
   "cell_type": "code",
   "execution_count": 3,
   "outputs": [
    {
     "data": {
      "text/plain": "Eq(C_c*(-T_{c,in} + T_{c,out}), C_h*(T_{h,in} - T_{h,out}))",
      "text/latex": "$\\displaystyle C_{c} \\left(- T_{c,in} + T_{c,out}\\right) = C_{h} \\left(T_{h,in} - T_{h,out}\\right)$"
     },
     "execution_count": 3,
     "metadata": {},
     "output_type": "execute_result"
    }
   ],
   "source": [
    "# Declare constants as given\n",
    "mc_ = 70\n",
    "Cp_c_, Cp_h_ = 4.18, 1.9\n",
    "Tc_in_, Tc_out_ = 15, 60\n",
    "Th_in_, Th_out_ = 116, 27\n",
    "U_ = 300\n",
    "\n",
    "Cc, Ch, Th_out, Th_in, Tc_out, Tc_in = sp.symbols(r'C_c C_h T_{h\\,out} T_{h\\,in} T_{c\\,out} T_{c\\,in}')\n",
    "\n",
    "# Solving for Ch\n",
    "eq = sp.Eq(Cc*(Tc_out - Tc_in), Ch*(Th_in - Th_out))\n",
    "eq"
   ],
   "metadata": {
    "collapsed": false,
    "pycharm": {
     "name": "#%%\n"
    }
   }
  },
  {
   "cell_type": "code",
   "execution_count": 4,
   "outputs": [
    {
     "data": {
      "text/plain": "C_c*(-T_{c,in} + T_{c,out})/(T_{h,in} - T_{h,out})",
      "text/latex": "$\\displaystyle \\frac{C_{c} \\left(- T_{c,in} + T_{c,out}\\right)}{T_{h,in} - T_{h,out}}$"
     },
     "execution_count": 4,
     "metadata": {},
     "output_type": "execute_result"
    }
   ],
   "source": [
    "Ch_solved = sp.solve(eq, Ch)[0]\n",
    "Ch_solved"
   ],
   "metadata": {
    "collapsed": false,
    "pycharm": {
     "name": "#%%\n"
    }
   }
  },
  {
   "cell_type": "code",
   "execution_count": 5,
   "outputs": [
    {
     "data": {
      "text/plain": "292.59999999999997"
     },
     "execution_count": 5,
     "metadata": {},
     "output_type": "execute_result"
    }
   ],
   "source": [
    "# Solving for Cc\n",
    "Cc_ = mc_*Cp_c_\n",
    "Cc_  # kJ per (min deg C)"
   ],
   "metadata": {
    "collapsed": false,
    "pycharm": {
     "name": "#%%\n"
    }
   }
  },
  {
   "cell_type": "code",
   "execution_count": 6,
   "outputs": [
    {
     "data": {
      "text/plain": "147.94382022471908"
     },
     "execution_count": 6,
     "metadata": {},
     "output_type": "execute_result"
    }
   ],
   "source": [
    "Ch_ = Cc_*(Tc_out_ - Tc_in_)/(Th_in_ - Th_out_)\n",
    "Ch_  # kJ per (min deg C)"
   ],
   "metadata": {
    "collapsed": false,
    "pycharm": {
     "name": "#%%\n"
    }
   }
  },
  {
   "cell_type": "code",
   "execution_count": 7,
   "outputs": [
    {
     "data": {
      "text/plain": "147.94382022471908"
     },
     "execution_count": 7,
     "metadata": {},
     "output_type": "execute_result"
    }
   ],
   "source": [
    "C_min_ = min([Ch_, Cc_])\n",
    "C_min_  # kJ per (min deg C)"
   ],
   "metadata": {
    "collapsed": false,
    "pycharm": {
     "name": "#%%\n"
    }
   }
  },
  {
   "cell_type": "code",
   "execution_count": 8,
   "outputs": [
    {
     "data": {
      "text/plain": "13166.999999999998"
     },
     "execution_count": 8,
     "metadata": {},
     "output_type": "execute_result"
    }
   ],
   "source": [
    "# Get actual q\n",
    "q_act_ = Cc_*(Tc_out_ - Tc_in_)\n",
    "q_act_  # kJ per min"
   ],
   "metadata": {
    "collapsed": false,
    "pycharm": {
     "name": "#%%\n"
    }
   }
  },
  {
   "cell_type": "code",
   "execution_count": 9,
   "outputs": [
    {
     "data": {
      "text/plain": "14942.325842696626"
     },
     "execution_count": 9,
     "metadata": {},
     "output_type": "execute_result"
    }
   ],
   "source": [
    "# Get q max\n",
    "q_max_ = C_min_*(Th_in_ - Tc_in_)\n",
    "q_max_  # kJ per min"
   ],
   "metadata": {
    "collapsed": false,
    "pycharm": {
     "name": "#%%\n"
    }
   }
  },
  {
   "cell_type": "code",
   "execution_count": 10,
   "outputs": [
    {
     "data": {
      "text/plain": "0.8811881188118813"
     },
     "execution_count": 10,
     "metadata": {},
     "output_type": "execute_result"
    }
   ],
   "source": [
    "# Effectiveness\n",
    "epsilon_ = q_act_/q_max_\n",
    "epsilon_"
   ],
   "metadata": {
    "collapsed": false,
    "pycharm": {
     "name": "#%%\n"
    }
   }
  },
  {
   "cell_type": "code",
   "execution_count": 11,
   "outputs": [
    {
     "data": {
      "text/plain": "0.5056179775280899"
     },
     "execution_count": 11,
     "metadata": {},
     "output_type": "execute_result"
    }
   ],
   "source": [
    "# C\n",
    "C_ = C_min_/Cc_\n",
    "C_"
   ],
   "metadata": {
    "collapsed": false,
    "pycharm": {
     "name": "#%%\n"
    }
   }
  },
  {
   "cell_type": "code",
   "execution_count": 12,
   "outputs": [
    {
     "data": {
      "text/plain": "4.180545804015178"
     },
     "execution_count": 12,
     "metadata": {},
     "output_type": "execute_result"
    }
   ],
   "source": [
    "# Find the ntu value\n",
    "ntu_ = cross_flow_unmixed(epsilon_, C_)\n",
    "ntu_"
   ],
   "metadata": {
    "collapsed": false,
    "pycharm": {
     "name": "#%%\n"
    }
   }
  },
  {
   "cell_type": "markdown",
   "source": [
    "The NTU relationship is,\n",
    "\n",
    "$NTU=\\frac{UA}{C_{min}}\\rightarrow A=NTU\\frac{C_{min}}{U}$"
   ],
   "metadata": {
    "collapsed": false,
    "pycharm": {
     "name": "#%% md\n"
    }
   }
  },
  {
   "cell_type": "code",
   "execution_count": 13,
   "outputs": [
    {
     "data": {
      "text/plain": "34.36032871502362"
     },
     "execution_count": 13,
     "metadata": {},
     "output_type": "execute_result"
    }
   ],
   "source": [
    "# Finding the area (unit manipulation added)\n",
    "A_ = ntu_*C_min_/U_*1000/60\n",
    "A_  # m^2"
   ],
   "metadata": {
    "collapsed": false,
    "pycharm": {
     "name": "#%%\n"
    }
   }
  },
  {
   "cell_type": "markdown",
   "source": [
    "### LMTD Method"
   ],
   "metadata": {
    "collapsed": false,
    "pycharm": {
     "name": "#%% md\n"
    }
   }
  },
  {
   "cell_type": "code",
   "execution_count": 16,
   "outputs": [
    {
     "data": {
      "text/plain": "25.60989880574635"
     },
     "execution_count": 16,
     "metadata": {},
     "output_type": "execute_result"
    }
   ],
   "source": [
    "T_ = log_mean_temp_difference(Th_in_, Th_out_, Tc_in_, Tc_out_)\n",
    "q_act_/(U_*T_)*1000/60"
   ],
   "metadata": {
    "collapsed": false,
    "pycharm": {
     "name": "#%%\n"
    }
   }
  }
 ],
 "metadata": {
  "kernelspec": {
   "display_name": "Python 3",
   "language": "python",
   "name": "python3"
  },
  "language_info": {
   "codemirror_mode": {
    "name": "ipython",
    "version": 2
   },
   "file_extension": ".py",
   "mimetype": "text/x-python",
   "name": "python",
   "nbconvert_exporter": "python",
   "pygments_lexer": "ipython2",
   "version": "2.7.6"
  }
 },
 "nbformat": 4,
 "nbformat_minor": 0
}