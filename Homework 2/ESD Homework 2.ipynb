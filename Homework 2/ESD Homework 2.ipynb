{
 "cells": [
  {
   "cell_type": "code",
   "execution_count": 1,
   "outputs": [],
   "source": [
    "import sympy as sp\n",
    "from msu_esd import cross_flow_unmixed, log_mean_temp_difference, parallel_single_pass, counter_single_pass"
   ],
   "metadata": {
    "collapsed": false,
    "pycharm": {
     "name": "#%%\n"
    }
   }
  },
  {
   "cell_type": "markdown",
   "metadata": {
    "collapsed": true,
    "pycharm": {
     "name": "#%% md\n"
    }
   },
   "source": [
    "\\pagebreak\n",
    "\\tableofcontents\n",
    "\\pagebreak"
   ]
  },
  {
   "cell_type": "markdown",
   "source": [
    "\\begin{center}\n",
    "\\begin{tabular}{c c c}\n",
    "ME 6333 & Homework 2 & Gabe Morris \\\\\n",
    "& & gnm54\n",
    "\\end{tabular}\n",
    "\\end{center}\n",
    "\n",
    "# Problem 1\n",
    "## Given\n",
    "Water enters a counterflow, double-pipe heat exchanger at a rate of $70\\,\\frac{kg}{min}$ and is heated from $15^\\circ C$ to $60^\\circ C$ by an oil with a specific heat of $1.9\\,\\frac{kJ}{kg\\,K}$. The oil enters at $116^\\circ C$ and leaves at $27^\\circ C$. The overall heat transfer coefficient is $300\\,\\frac{W}{m^2\\,K}$\n",
    "\n",
    "## Find\n",
    "a. What heat transfer area is required?\n",
    "b. What area is required if all conditions remain the same except that a shell and tube heat exchanger is used, with the water making one shell pass and the oil making two tube passes?\n",
    "c. What exit water temperature would result if, for the exchanger of part (a), the water flow rate were decreased to $50\\,\\frac{kg}{min}$\n",
    "\n",
    "## Solution\n",
    "The specific heat of water will be taken at the average temperature of the water entrance and exit ($C_p=4.18\\,\\frac{kJ}{kg\\,K}$)\n",
    "\n",
    "### Part A\n",
    "The oil is the hot fluid and the water is the cold fluid. The condition is unmixed because the fluids never meet."
   ],
   "metadata": {
    "collapsed": false,
    "pycharm": {
     "name": "#%% md\n"
    }
   }
  },
  {
   "cell_type": "code",
   "execution_count": 2,
   "outputs": [
    {
     "data": {
      "text/plain": "Eq(C_c*(-T_{c,in} + T_{c,out}), C_h*(T_{h,in} - T_{h,out}))",
      "text/latex": "$\\displaystyle C_{c} \\left(- T_{c,in} + T_{c,out}\\right) = C_{h} \\left(T_{h,in} - T_{h,out}\\right)$"
     },
     "execution_count": 2,
     "metadata": {},
     "output_type": "execute_result"
    }
   ],
   "source": [
    "# Declare constants as given\n",
    "mc_ = 70\n",
    "Cp_c_, Cp_h_ = 4.18, 1.9\n",
    "Tc_in_, Tc_out_ = 15, 60\n",
    "Th_in_, Th_out_ = 116, 27\n",
    "U_ = 300\n",
    "\n",
    "Cc, Ch, Th_out, Th_in, Tc_out, Tc_in = sp.symbols(r'C_c C_h T_{h\\,out} T_{h\\,in} T_{c\\,out} T_{c\\,in}')\n",
    "\n",
    "# Solving for Ch\n",
    "eq = sp.Eq(Cc*(Tc_out - Tc_in), Ch*(Th_in - Th_out))\n",
    "eq"
   ],
   "metadata": {
    "collapsed": false,
    "pycharm": {
     "name": "#%%\n"
    }
   }
  },
  {
   "cell_type": "code",
   "execution_count": 3,
   "outputs": [
    {
     "data": {
      "text/plain": "C_c*(-T_{c,in} + T_{c,out})/(T_{h,in} - T_{h,out})",
      "text/latex": "$\\displaystyle \\frac{C_{c} \\left(- T_{c,in} + T_{c,out}\\right)}{T_{h,in} - T_{h,out}}$"
     },
     "execution_count": 3,
     "metadata": {},
     "output_type": "execute_result"
    }
   ],
   "source": [
    "Ch_solved = sp.solve(eq, Ch)[0]\n",
    "Ch_solved"
   ],
   "metadata": {
    "collapsed": false,
    "pycharm": {
     "name": "#%%\n"
    }
   }
  },
  {
   "cell_type": "code",
   "execution_count": 4,
   "outputs": [
    {
     "data": {
      "text/plain": "292.59999999999997"
     },
     "execution_count": 4,
     "metadata": {},
     "output_type": "execute_result"
    }
   ],
   "source": [
    "# Solving for Cc\n",
    "Cc_ = mc_*Cp_c_\n",
    "Cc_  # kJ per (min deg C)"
   ],
   "metadata": {
    "collapsed": false,
    "pycharm": {
     "name": "#%%\n"
    }
   }
  },
  {
   "cell_type": "code",
   "execution_count": 5,
   "outputs": [
    {
     "data": {
      "text/plain": "147.94382022471908"
     },
     "execution_count": 5,
     "metadata": {},
     "output_type": "execute_result"
    }
   ],
   "source": [
    "Ch_ = Cc_*(Tc_out_ - Tc_in_)/(Th_in_ - Th_out_)\n",
    "Ch_  # kJ per (min deg C)"
   ],
   "metadata": {
    "collapsed": false,
    "pycharm": {
     "name": "#%%\n"
    }
   }
  },
  {
   "cell_type": "code",
   "execution_count": 6,
   "outputs": [
    {
     "data": {
      "text/plain": "147.94382022471908"
     },
     "execution_count": 6,
     "metadata": {},
     "output_type": "execute_result"
    }
   ],
   "source": [
    "C_min_ = min([Ch_, Cc_])\n",
    "C_min_  # kJ per (min deg C)"
   ],
   "metadata": {
    "collapsed": false,
    "pycharm": {
     "name": "#%%\n"
    }
   }
  },
  {
   "cell_type": "code",
   "execution_count": 7,
   "outputs": [
    {
     "data": {
      "text/plain": "13166.999999999998"
     },
     "execution_count": 7,
     "metadata": {},
     "output_type": "execute_result"
    }
   ],
   "source": [
    "# Get actual q\n",
    "q_act_ = Cc_*(Tc_out_ - Tc_in_)\n",
    "q_act_  # kJ per min"
   ],
   "metadata": {
    "collapsed": false,
    "pycharm": {
     "name": "#%%\n"
    }
   }
  },
  {
   "cell_type": "code",
   "execution_count": 8,
   "outputs": [
    {
     "data": {
      "text/plain": "14942.325842696626"
     },
     "execution_count": 8,
     "metadata": {},
     "output_type": "execute_result"
    }
   ],
   "source": [
    "# Get q max\n",
    "q_max_ = C_min_*(Th_in_ - Tc_in_)\n",
    "q_max_  # kJ per min"
   ],
   "metadata": {
    "collapsed": false,
    "pycharm": {
     "name": "#%%\n"
    }
   }
  },
  {
   "cell_type": "code",
   "execution_count": 9,
   "outputs": [
    {
     "data": {
      "text/plain": "0.8811881188118813"
     },
     "execution_count": 9,
     "metadata": {},
     "output_type": "execute_result"
    }
   ],
   "source": [
    "# Effectiveness\n",
    "epsilon_ = q_act_/q_max_\n",
    "epsilon_"
   ],
   "metadata": {
    "collapsed": false,
    "pycharm": {
     "name": "#%%\n"
    }
   }
  },
  {
   "cell_type": "code",
   "execution_count": 10,
   "outputs": [
    {
     "data": {
      "text/plain": "0.5056179775280899"
     },
     "execution_count": 10,
     "metadata": {},
     "output_type": "execute_result"
    }
   ],
   "source": [
    "# C\n",
    "C_ = C_min_/Cc_\n",
    "C_"
   ],
   "metadata": {
    "collapsed": false,
    "pycharm": {
     "name": "#%%\n"
    }
   }
  },
  {
   "cell_type": "code",
   "execution_count": 11,
   "outputs": [
    {
     "data": {
      "text/plain": "3.11590019646128"
     },
     "execution_count": 11,
     "metadata": {},
     "output_type": "execute_result"
    }
   ],
   "source": [
    "# Find the ntu value\n",
    "ntu_ = counter_single_pass(epsilon_, C_)\n",
    "ntu_"
   ],
   "metadata": {
    "collapsed": false,
    "pycharm": {
     "name": "#%%\n"
    }
   }
  },
  {
   "cell_type": "markdown",
   "source": [
    "The NTU relationship is,\n",
    "\n",
    "$NTU=\\frac{UA}{C_{min}}\\rightarrow A=NTU\\frac{C_{min}}{U}$"
   ],
   "metadata": {
    "collapsed": false,
    "pycharm": {
     "name": "#%% md\n"
    }
   }
  },
  {
   "cell_type": "code",
   "execution_count": 12,
   "outputs": [
    {
     "data": {
      "text/plain": "25.609898805746354"
     },
     "execution_count": 12,
     "metadata": {},
     "output_type": "execute_result"
    }
   ],
   "source": [
    "# Finding the area (unit manipulation added)\n",
    "A_ = ntu_*C_min_/U_*1000/60\n",
    "A_  # m^2"
   ],
   "metadata": {
    "collapsed": false,
    "pycharm": {
     "name": "#%%\n"
    }
   }
  },
  {
   "cell_type": "markdown",
   "source": [
    "\\pagebreak\n",
    "\n",
    "\\begin{center}\n",
    "\\begin{tabular}{c c c}\n",
    "ME 6333 & Homework 2 & Gabe Morris \\\\\n",
    "& & gnm54\n",
    "\\end{tabular}\n",
    "\\end{center}\n",
    "\n",
    "# Problem 2\n",
    "## Given\n",
    "The attributes of the inlet streams to a heat exchanger are,\n",
    "\n",
    "| Stream | Inlet Temperature ($^\\circ F$) | Capacity ($\\frac{Btu}{hr\\,^\\circ F}$) |\n",
    "|--------|--------------------------------|---------------------------------------|\n",
    "| Hot    | 600                            | 50,000                                |\n",
    "| Cold   | 500                            | 25,000                                |\n",
    "\n",
    "The UA product in $\\frac{Btu}{hr\\,^\\circ F}$ for the heat exchanger is given by,\n",
    "\n",
    "$UA=\\frac{1}{\\frac{0.12}{C_h^{0.8}}+\\frac{0.06}{C_c^{0.8}}+2\\times10^{-7}}$\n",
    "\n",
    "where $C_h$ and $C_c$ are the capacities in $\\frac{Btu}{hr\\,^\\circ F}$.\n",
    "\n",
    "## Find\n",
    "Using only the $NTU$ method,\n",
    "\n",
    "a. Find the outlet temperatures and rating for a parallel flow arrangement\n",
    "b. Find the outlet temperatures and rating for a counter flow arrangement\n",
    "c. Find the outlet temperatures and rating if two of these heat exchangers are placed in series and are operated in a parallel flow arrangement. What are the interface temperatures?\n",
    "d. Find the outlet temperatures and rating if two of these heat exchangers are placed in series and operated in a counterflow arrangement. What are the interface temperatures?\n",
    "e. Based ont he results of the above, discuss the utility of placing parallel and counterflow heat exchangers in series.\n",
    "\n",
    "## Solution"
   ],
   "metadata": {
    "collapsed": false,
    "pycharm": {
     "name": "#%% md\n"
    }
   }
  },
  {
   "cell_type": "code",
   "execution_count": 13,
   "outputs": [
    {
     "data": {
      "text/plain": "1/(0.06/C_c**0.8 + 0.12/C_h**0.8 + 2.0e-7)",
      "text/latex": "$\\displaystyle \\frac{1}{\\frac{0.06}{C_{c}^{0.8}} + \\frac{0.12}{C_{h}^{0.8}} + 2.0 \\cdot 10^{-7}}$"
     },
     "execution_count": 13,
     "metadata": {},
     "output_type": "execute_result"
    }
   ],
   "source": [
    "# Define known constants with units mentioned in the given statement\n",
    "Cc_ = 25_000\n",
    "Ch_ = 50_000\n",
    "Tc_in_ = 500\n",
    "Th_in_ = 600\n",
    "\n",
    "# Find the value for UA\n",
    "# First a symbolic definition\n",
    "UA = 1/(0.12/Ch**0.8 + 0.06/Cc**0.8 + 2e-7)\n",
    "UA"
   ],
   "metadata": {
    "collapsed": false,
    "pycharm": {
     "name": "#%%\n"
    }
   }
  },
  {
   "cell_type": "code",
   "execution_count": 14,
   "outputs": [
    {
     "data": {
      "text/plain": "25457.073923275435"
     },
     "execution_count": 14,
     "metadata": {},
     "output_type": "execute_result"
    }
   ],
   "source": [
    "UA_ = float(UA.subs([(Cc, Cc_), (Ch, Ch_)]))\n",
    "UA_  # In Btu per (hr*deg F)"
   ],
   "metadata": {
    "collapsed": false,
    "pycharm": {
     "name": "#%%\n"
    }
   }
  },
  {
   "cell_type": "code",
   "execution_count": 15,
   "outputs": [
    {
     "data": {
      "text/plain": "1.0182829569310174"
     },
     "execution_count": 15,
     "metadata": {},
     "output_type": "execute_result"
    }
   ],
   "source": [
    "# Find NTU\n",
    "C_min_ = min([Cc_, Ch_])\n",
    "NTU_ = UA_/C_min_\n",
    "NTU_"
   ],
   "metadata": {
    "collapsed": false,
    "pycharm": {
     "name": "#%%\n"
    }
   }
  },
  {
   "cell_type": "code",
   "execution_count": 16,
   "outputs": [
    {
     "data": {
      "text/plain": "0.5"
     },
     "execution_count": 16,
     "metadata": {},
     "output_type": "execute_result"
    }
   ],
   "source": [
    "# Get the C_value\n",
    "C_ = C_min_/max([Cc_, Ch_])\n",
    "C_"
   ],
   "metadata": {
    "collapsed": false,
    "pycharm": {
     "name": "#%%\n"
    }
   }
  },
  {
   "cell_type": "markdown",
   "source": [
    "### Part A\n",
    "We know the $NTU$ value and $C$, which is enough to solve for the effectiveness."
   ],
   "metadata": {
    "collapsed": false,
    "pycharm": {
     "name": "#%% md\n"
    }
   }
  },
  {
   "cell_type": "code",
   "execution_count": 17,
   "outputs": [
    {
     "data": {
      "text/plain": "0.5219372748457521"
     },
     "execution_count": 17,
     "metadata": {},
     "output_type": "execute_result"
    }
   ],
   "source": [
    "# Get the effectiveness/rating\n",
    "# Assuming a one pass parallel\n",
    "parallel_effectiveness = parallel_single_pass(NTU_, C_, find='e')\n",
    "parallel_effectiveness"
   ],
   "metadata": {
    "collapsed": false,
    "pycharm": {
     "name": "#%%\n"
    }
   }
  },
  {
   "cell_type": "code",
   "execution_count": 18,
   "outputs": [
    {
     "data": {
      "text/plain": "2500000"
     },
     "execution_count": 18,
     "metadata": {},
     "output_type": "execute_result"
    }
   ],
   "source": [
    "# Find q max\n",
    "q_max_ = C_min_*(Th_in_ - Tc_in_)\n",
    "q_max_  # Btu per hr"
   ],
   "metadata": {
    "collapsed": false,
    "pycharm": {
     "name": "#%%\n"
    }
   }
  },
  {
   "cell_type": "code",
   "execution_count": 19,
   "outputs": [
    {
     "data": {
      "text/plain": "1304843.1871143803"
     },
     "execution_count": 19,
     "metadata": {},
     "output_type": "execute_result"
    }
   ],
   "source": [
    "# Find the actual q\n",
    "q_act_ = q_max_*parallel_effectiveness\n",
    "q_act_  # In btu per hour"
   ],
   "metadata": {
    "collapsed": false,
    "pycharm": {
     "name": "#%%\n"
    }
   }
  },
  {
   "cell_type": "code",
   "source": [
    "# Find cold outlet temperature\n",
    "Tc_out_A = q_act_/Cc_ + Tc_in_\n",
    "Tc_out_A  # deg F"
   ],
   "metadata": {
    "collapsed": false,
    "pycharm": {
     "name": "#%%\n"
    }
   },
   "execution_count": 20,
   "outputs": [
    {
     "data": {
      "text/plain": "552.1937274845752"
     },
     "execution_count": 20,
     "metadata": {},
     "output_type": "execute_result"
    }
   ]
  },
  {
   "cell_type": "code",
   "execution_count": 21,
   "outputs": [
    {
     "data": {
      "text/plain": "573.9031362577124"
     },
     "execution_count": 21,
     "metadata": {},
     "output_type": "execute_result"
    }
   ],
   "source": [
    "# Find the hot outlet temperature\n",
    "Th_out_A = Th_in_ - q_act_/Ch_\n",
    "Th_out_A  # deg F"
   ],
   "metadata": {
    "collapsed": false,
    "pycharm": {
     "name": "#%%\n"
    }
   }
  },
  {
   "cell_type": "markdown",
   "source": [
    "### Part B\n",
    "Everything is the same except the effectiveness correlation is different."
   ],
   "metadata": {
    "collapsed": false,
    "pycharm": {
     "name": "#%% md\n"
    }
   }
  },
  {
   "cell_type": "code",
   "execution_count": 22,
   "outputs": [
    {
     "data": {
      "text/plain": "0.5703958472801851"
     },
     "execution_count": 22,
     "metadata": {},
     "output_type": "execute_result"
    }
   ],
   "source": [
    "# Solving for the effectiveness/rating\n",
    "counter_effectiveness = counter_single_pass(NTU_, C_, find='e')\n",
    "counter_effectiveness"
   ],
   "metadata": {
    "collapsed": false,
    "pycharm": {
     "name": "#%%\n"
    }
   }
  },
  {
   "cell_type": "code",
   "execution_count": 23,
   "outputs": [
    {
     "data": {
      "text/plain": "1425989.6182004628"
     },
     "execution_count": 23,
     "metadata": {},
     "output_type": "execute_result"
    }
   ],
   "source": [
    "q_act_ = q_max_*counter_effectiveness\n",
    "q_act_  # Btu per hr"
   ],
   "metadata": {
    "collapsed": false,
    "pycharm": {
     "name": "#%%\n"
    }
   }
  },
  {
   "cell_type": "code",
   "execution_count": 24,
   "outputs": [
    {
     "data": {
      "text/plain": "557.0395847280186"
     },
     "execution_count": 24,
     "metadata": {},
     "output_type": "execute_result"
    }
   ],
   "source": [
    "# Find cold outlet temperature\n",
    "Tc_out_B = q_act_/Cc_ + Tc_in_\n",
    "Tc_out_B  # deg F"
   ],
   "metadata": {
    "collapsed": false,
    "pycharm": {
     "name": "#%%\n"
    }
   }
  },
  {
   "cell_type": "code",
   "execution_count": 25,
   "outputs": [
    {
     "data": {
      "text/plain": "571.4802076359907"
     },
     "execution_count": 25,
     "metadata": {},
     "output_type": "execute_result"
    }
   ],
   "source": [
    "# Find the hot outlet temperature\n",
    "Th_out_B = Th_in_ - q_act_/Ch_\n",
    "Th_out_B  # deg F"
   ],
   "metadata": {
    "collapsed": false,
    "pycharm": {
     "name": "#%%\n"
    }
   }
  },
  {
   "cell_type": "markdown",
   "source": [
    "### Part C\n",
    "\n",
    "In order to solve this, take the outlet temperatures solved in the previous problems and apply that to the next heat exchanger in the series. The values of $NTU$, $C$, $\\xi$, and $UA$ are all the same because the capacity and conductance does not change."
   ],
   "metadata": {
    "collapsed": false,
    "pycharm": {
     "name": "#%% md\n"
    }
   }
  },
  {
   "cell_type": "code",
   "execution_count": 26,
   "outputs": [
    {
     "data": {
      "text/plain": "542735.2193284292"
     },
     "execution_count": 26,
     "metadata": {},
     "output_type": "execute_result"
    }
   ],
   "source": [
    "# From the part A in deg F\n",
    "Tc_in_ = Tc_out_A\n",
    "Th_in_ = Th_out_A\n",
    "\n",
    "q_max_ = C_min_*(Th_in_ - Tc_in_)\n",
    "q_max_  # Btu per hr"
   ],
   "metadata": {
    "collapsed": false,
    "pycharm": {
     "name": "#%%\n"
    }
   }
  },
  {
   "cell_type": "code",
   "execution_count": 27,
   "outputs": [
    {
     "data": {
      "text/plain": "283273.7413390919"
     },
     "execution_count": 27,
     "metadata": {},
     "output_type": "execute_result"
    }
   ],
   "source": [
    "q_act_ = parallel_effectiveness*q_max_\n",
    "q_act_  # Btu per hr"
   ],
   "metadata": {
    "collapsed": false,
    "pycharm": {
     "name": "#%%\n"
    }
   }
  },
  {
   "cell_type": "code",
   "execution_count": 28,
   "outputs": [
    {
     "data": {
      "text/plain": "563.5246771381389"
     },
     "execution_count": 28,
     "metadata": {},
     "output_type": "execute_result"
    }
   ],
   "source": [
    "Tc_out_ = q_act_/Cc_ + Tc_in_\n",
    "Tc_out_  # deg F"
   ],
   "metadata": {
    "collapsed": false,
    "pycharm": {
     "name": "#%%\n"
    }
   }
  },
  {
   "cell_type": "code",
   "execution_count": 29,
   "outputs": [
    {
     "data": {
      "text/plain": "568.2376614309305"
     },
     "execution_count": 29,
     "metadata": {},
     "output_type": "execute_result"
    }
   ],
   "source": [
    "Th_out_ = Th_in_ - q_act_/Ch_\n",
    "Th_out_  # deg F"
   ],
   "metadata": {
    "collapsed": false,
    "pycharm": {
     "name": "#%%\n"
    }
   }
  },
  {
   "cell_type": "markdown",
   "source": [
    "## Answer\n",
    "a. $\\xi=0.522$, $T_{c,out}=552.19^\\circ F$, $T_{h,out}=573.90^\\circ F$\n",
    "b. $\\xi=0.570$, $T_{c,out}=557.04^\\circ F$, $T_{h,out}=571.48^\\circ F$\n",
    "c. Effectiveness and temperatures at the interface is the same as Part A. Coming out of the second heat exchanger is: $T_{c,out}=563.52^\\circ F$, $T_{h,out}=568.24^\\circ F$\n",
    "d."
   ],
   "metadata": {
    "collapsed": false,
    "pycharm": {
     "name": "#%% md\n"
    }
   }
  }
 ],
 "metadata": {
  "kernelspec": {
   "display_name": "Python 3",
   "language": "python",
   "name": "python3"
  },
  "language_info": {
   "codemirror_mode": {
    "name": "ipython",
    "version": 2
   },
   "file_extension": ".py",
   "mimetype": "text/x-python",
   "name": "python",
   "nbconvert_exporter": "python",
   "pygments_lexer": "ipython2",
   "version": "2.7.6"
  }
 },
 "nbformat": 4,
 "nbformat_minor": 0
}