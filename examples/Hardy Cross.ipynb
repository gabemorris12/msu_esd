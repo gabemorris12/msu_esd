{
 "cells": [
  {
   "cell_type": "code",
   "execution_count": 1,
   "metadata": {
    "collapsed": true,
    "pycharm": {
     "name": "#%%\n"
    }
   },
   "outputs": [],
   "source": [
    "from msu_esd import Pipe, hardy_cross\n",
    "import numpy as np"
   ]
  },
  {
   "cell_type": "markdown",
   "source": [
    "\\pagebreak"
   ],
   "metadata": {
    "collapsed": false
   }
  },
  {
   "cell_type": "markdown",
   "source": [
    "# Example 1.11\n",
    "![Network Schematic](figures/hardy_example.png)\n",
    "\n",
    "| Pipe | L (ft) | D (in) | K   | C   | $\\epsilon$ (ft) |\n",
    "|------|--------|--------|-----|-----|-----------------|\n",
    "| 1    | 2000   | 12     | 0   | 0   | 0.00015         |\n",
    "| 2    | 2000   | 8      | 0   | 0   | 0.00015         |\n",
    "| 3    | 3000   | 6      | 0   | 0   | 0.00015         |\n",
    "| 4    | 4000   | 6      | 0   | 0   | 0.00015         |\n",
    "| 5    | 1000   | 8      | 0   | 0   | 0.00015         |\n",
    "| 6    | 3000   | 8      | 0   | 0   | 0.00015         |\n",
    "| 7    | 2000   | 8      | 0   | 0   | 0.00015         |\n",
    "\n",
    "The guess values are,\n",
    "\n",
    "![Guess Values](figures/hardy_guess.png)\n",
    "\n",
    "Define pipe objects first."
   ],
   "metadata": {
    "collapsed": false,
    "pycharm": {
     "name": "#%% md\n"
    }
   }
  },
  {
   "cell_type": "code",
   "execution_count": 2,
   "outputs": [],
   "source": [
    "epsilon = 0.00015\n",
    "rho = 1.94\n",
    "mu = 3.104e-5\n",
    "\n",
    "pipe1 = Pipe(1, 2000, epsilon, rho, mu)\n",
    "pipe2 = Pipe(8/12, 2000, epsilon, rho, mu)\n",
    "pipe3 = Pipe(6/12, 3000, epsilon, rho, mu)\n",
    "pipe4 = Pipe(6/12, 4000, epsilon, rho, mu)\n",
    "pipe5 = Pipe(8/12, 1000, epsilon, rho, mu)\n",
    "pipe6 = Pipe(8/12, 3000, epsilon, rho, mu)\n",
    "pipe7 = Pipe(8/12, 2000, epsilon, rho, mu)"
   ],
   "metadata": {
    "collapsed": false,
    "pycharm": {
     "name": "#%%\n"
    }
   }
  },
  {
   "cell_type": "markdown",
   "source": [
    "Define the connection matrix and flow rates like so,"
   ],
   "metadata": {
    "collapsed": false,
    "pycharm": {
     "name": "#%% md\n"
    }
   }
  },
  {
   "cell_type": "code",
   "execution_count": 3,
   "outputs": [
    {
     "data": {
      "text/plain": "array([[ 1, -1],\n       [-1,  0],\n       [-1,  0],\n       [-1,  0],\n       [ 0,  1],\n       [ 0,  1],\n       [ 0, -1]])"
     },
     "execution_count": 3,
     "metadata": {},
     "output_type": "execute_result"
    }
   ],
   "source": [
    "Q_guess = np.array([0.8, 0.2, 1.2, 1.2, 1, 1, 1])\n",
    "N = np.transpose([\n",
    "    [1, -1, -1, -1, 0, 0, 0],\n",
    "    [-1, 0, 0, 0, 1, 1, -1]\n",
    "])\n",
    "N"
   ],
   "metadata": {
    "collapsed": false,
    "pycharm": {
     "name": "#%%\n"
    }
   }
  },
  {
   "cell_type": "markdown",
   "source": [
    "## No Additional Devices\n",
    "Utilize the hardy cross function."
   ],
   "metadata": {
    "collapsed": false,
    "pycharm": {
     "name": "#%% md\n"
    }
   }
  },
  {
   "cell_type": "code",
   "execution_count": 4,
   "outputs": [
    {
     "data": {
      "text/plain": "array([ 1.8661928 , -0.76214598,  0.23785402,  0.23785402,  0.89595318,\n        0.89595318,  1.10404682])"
     },
     "execution_count": 4,
     "metadata": {},
     "output_type": "execute_result"
    }
   ],
   "source": [
    "Q = hardy_cross([pipe1, pipe2, pipe3, pipe4, pipe5, pipe6, pipe7],\n",
    "                Q_guess, N)\n",
    "Q"
   ],
   "metadata": {
    "collapsed": false,
    "pycharm": {
     "name": "#%%\n"
    }
   }
  },
  {
   "cell_type": "markdown",
   "source": [
    "## Heat Exchanger in Line 1\n",
    "A list of functions needs to be inputting in for `h` and `dh`. If the device loss has a value of $50Q_1\\,^2$,"
   ],
   "metadata": {
    "collapsed": false,
    "pycharm": {
     "name": "#%% md\n"
    }
   }
  },
  {
   "cell_type": "code",
   "source": [
    "h = [\n",
    "    lambda Q_: 50*Q_*abs(Q_),  # Positive because loss is considered positive (e.g. turbine)\n",
    "    lambda Q_: 0,\n",
    "    lambda Q_: 0,\n",
    "    lambda Q_: 0,\n",
    "    lambda Q_: 0,\n",
    "    lambda Q_: 0,\n",
    "    lambda Q_: 0\n",
    "]\n",
    "\n",
    "dh = [\n",
    "    lambda Q_: 100*abs(Q_),\n",
    "    lambda Q_: 0,\n",
    "    lambda Q_: 0,\n",
    "    lambda Q_: 0,\n",
    "    lambda Q_: 0,\n",
    "    lambda Q_: 0,\n",
    "    lambda Q_: 0\n",
    "]\n",
    "\n",
    "Q = hardy_cross([pipe1, pipe2, pipe3, pipe4, pipe5, pipe6, pipe7],\n",
    "                Q_guess, N, h=h, dh=dh)\n",
    "Q"
   ],
   "metadata": {
    "collapsed": false,
    "pycharm": {
     "name": "#%%\n"
    }
   },
   "execution_count": 5,
   "outputs": [
    {
     "data": {
      "text/plain": "array([ 0.80979017, -0.43632714,  0.56367286,  0.56367286,  1.62653696,\n        1.62653696,  0.37346304])"
     },
     "execution_count": 5,
     "metadata": {},
     "output_type": "execute_result"
    }
   ]
  },
  {
   "cell_type": "markdown",
   "source": [
    "## Adding a Pump to Line 1\n",
    "If we add a pump with a head of 203.5 ft,"
   ],
   "metadata": {
    "collapsed": false,
    "pycharm": {
     "name": "#%% md\n"
    }
   }
  },
  {
   "cell_type": "code",
   "source": [
    "# Only need to change the function in the first index\n",
    "h[0] = lambda Q_: 50*Q_*abs(Q_) - 203.5  # Subtract because pump means the system is doing work\n",
    "Q = hardy_cross([pipe1, pipe2, pipe3, pipe4, pipe5, pipe6, pipe7],\n",
    "                Q_guess, N, h=h, dh=dh)\n",
    "Q"
   ],
   "metadata": {
    "collapsed": false,
    "pycharm": {
     "name": "#%%\n"
    }
   },
   "execution_count": 6,
   "outputs": [
    {
     "data": {
      "text/plain": "array([ 2.0000145 , -0.81268625,  0.18731375,  0.18731375,  0.81267175,\n        0.81267175,  1.18732825])"
     },
     "execution_count": 6,
     "metadata": {},
     "output_type": "execute_result"
    }
   ]
  }
 ],
 "metadata": {
  "kernelspec": {
   "display_name": "Python 3",
   "language": "python",
   "name": "python3"
  },
  "language_info": {
   "codemirror_mode": {
    "name": "ipython",
    "version": 2
   },
   "file_extension": ".py",
   "mimetype": "text/x-python",
   "name": "python",
   "nbconvert_exporter": "python",
   "pygments_lexer": "ipython2",
   "version": "2.7.6"
  }
 },
 "nbformat": 4,
 "nbformat_minor": 0
}