{
 "cells": [
  {
   "cell_type": "code",
   "execution_count": 1,
   "metadata": {
    "collapsed": true
   },
   "outputs": [],
   "source": [
    "from msu_esd import Pipe\n",
    "from scipy.optimize import fsolve\n",
    "import numpy as np"
   ]
  },
  {
   "cell_type": "markdown",
   "source": [
    "\\pagebreak"
   ],
   "metadata": {
    "collapsed": false,
    "pycharm": {
     "name": "#%% md\n"
    }
   }
  },
  {
   "cell_type": "markdown",
   "source": [
    "# Example 1.11\n",
    "![Network Schematic](figures/hardy_example.png)\n",
    "\n",
    "| Pipe | L (ft) | D (in) | K   | C   | $\\epsilon$ (ft) |\n",
    "|------|--------|--------|-----|-----|-----------------|\n",
    "| 1    | 2000   | 12     | 0   | 0   | 0.00015         |\n",
    "| 2    | 2000   | 8      | 0   | 0   | 0.00015         |\n",
    "| 3    | 3000   | 6      | 0   | 0   | 0.00015         |\n",
    "| 4    | 4000   | 6      | 0   | 0   | 0.00015         |\n",
    "| 5    | 1000   | 8      | 0   | 0   | 0.00015         |\n",
    "| 6    | 3000   | 8      | 0   | 0   | 0.00015         |\n",
    "| 7    | 2000   | 8      | 0   | 0   | 0.00015         |\n",
    "\n",
    "The guess values are,\n",
    "\n",
    "![Guess Values](figures/hardy_guess.png)\n",
    "\n",
    "Define pipe objects first."
   ],
   "metadata": {
    "collapsed": false
   }
  },
  {
   "cell_type": "code",
   "source": [
    "epsilon = 0.00015\n",
    "rho = 1.94\n",
    "mu = 3.104e-5\n",
    "\n",
    "pipe1 = Pipe(1, 2000, epsilon, rho, mu)\n",
    "pipe2 = Pipe(8/12, 2000, epsilon, rho, mu)\n",
    "pipe3 = Pipe(6/12, 3000, epsilon, rho, mu)\n",
    "pipe4 = Pipe(6/12, 4000, epsilon, rho, mu)\n",
    "pipe5 = Pipe(8/12, 1000, epsilon, rho, mu)\n",
    "pipe6 = Pipe(8/12, 3000, epsilon, rho, mu)\n",
    "pipe7 = Pipe(8/12, 2000, epsilon, rho, mu)"
   ],
   "metadata": {
    "collapsed": false,
    "pycharm": {
     "name": "#%%\n"
    }
   },
   "execution_count": 2,
   "outputs": []
  },
  {
   "cell_type": "markdown",
   "source": [
    "## No Additional Devices\n",
    "Set up a system of equations. In order to utilize `fsovle`, the function needs to return an array of values that are supposed to be zero. In other words, all the equations need to be set equal to zero."
   ],
   "metadata": {
    "collapsed": false,
    "pycharm": {
     "name": "#%% md\n"
    }
   }
  },
  {
   "cell_type": "code",
   "execution_count": 3,
   "outputs": [
    {
     "data": {
      "text/plain": "array([ 1.86619223, -0.76215372,  0.23784628,  0.23784628,  0.89596149,\n        0.89596149,  1.10403851])"
     },
     "execution_count": 3,
     "metadata": {},
     "output_type": "execute_result"
    }
   ],
   "source": [
    "def no_devices(x):\n",
    "    Q1, Q2, Q3, Q4, Q5, Q6, Q7 = x\n",
    "    return [\n",
    "        Q1 + Q4 + Q5 - 3,\n",
    "        Q1 + Q2 - Q7,\n",
    "        Q6 + Q7 - 2,\n",
    "        1 + Q2 - Q3,\n",
    "        Q5 - Q6,\n",
    "        pipe4.h(Q4) + pipe3.h(Q3) + pipe2.h(Q2) - pipe1.h(Q1),\n",
    "        pipe1.h(Q1) + pipe7.h(Q7) - pipe6.h(Q6) - pipe5.h(Q5)\n",
    "    ]\n",
    "\n",
    "solution = fsolve(no_devices, np.array([0.8, 0.2, 1.2, 1.2, 1, 1, 1]))\n",
    "solution"
   ],
   "metadata": {
    "collapsed": false,
    "pycharm": {
     "name": "#%%\n"
    }
   }
  },
  {
   "cell_type": "markdown",
   "source": [
    "## Heat Exchanger in Line 1\n",
    "If the loss of the heat exchanger is $50Q_1\\,^2$, then"
   ],
   "metadata": {
    "collapsed": false,
    "pycharm": {
     "name": "#%% md\n"
    }
   }
  },
  {
   "cell_type": "code",
   "execution_count": 4,
   "outputs": [
    {
     "data": {
      "text/plain": "array([ 0.80977802, -0.436375  ,  0.563625  ,  0.563625  ,  1.62659699,\n        1.62659699,  0.37340301])"
     },
     "execution_count": 4,
     "metadata": {},
     "output_type": "execute_result"
    }
   ],
   "source": [
    "def heat_exchanger(x):\n",
    "    Q1, Q2, Q3, Q4, Q5, Q6, Q7 = x\n",
    "    return [\n",
    "        Q1 + Q4 + Q5 - 3,\n",
    "        Q1 + Q2 - Q7,\n",
    "        Q6 + Q7 - 2,\n",
    "        1 + Q2 - Q3,\n",
    "        Q5 - Q6,\n",
    "        pipe4.h(Q4) + pipe3.h(Q3) + pipe2.h(Q2) - pipe1.h(Q1) - 50*Q1*abs(Q1),\n",
    "        pipe1.h(Q1) + pipe7.h(Q7) - pipe6.h(Q6) - pipe5.h(Q5) + 50*Q1*abs(Q1)\n",
    "    ]\n",
    "\n",
    "solution = fsolve(heat_exchanger, np.array([0.8, 0.2, 1.2, 1.2, 1, 1, 1]))\n",
    "solution"
   ],
   "metadata": {
    "collapsed": false,
    "pycharm": {
     "name": "#%%\n"
    }
   }
  },
  {
   "cell_type": "markdown",
   "source": [
    "## Add a Pump in Line 1\n",
    "If the pump adds $203.5\\,ft$ to the system,"
   ],
   "metadata": {
    "collapsed": false,
    "pycharm": {
     "name": "#%% md\n"
    }
   }
  },
  {
   "cell_type": "code",
   "execution_count": 5,
   "outputs": [
    {
     "data": {
      "text/plain": "array([ 2.00002057, -0.81294739,  0.18705261,  0.18705261,  0.81292682,\n        0.81292682,  1.18707318])"
     },
     "execution_count": 5,
     "metadata": {},
     "output_type": "execute_result"
    }
   ],
   "source": [
    "def heat_exchanger_with_pump(x):\n",
    "    Q1, Q2, Q3, Q4, Q5, Q6, Q7 = x\n",
    "    return [\n",
    "        Q1 + Q4 + Q5 - 3,\n",
    "        Q1 + Q2 - Q7,\n",
    "        Q6 + Q7 - 2,\n",
    "        1 + Q2 - Q3,\n",
    "        Q5 - Q6,\n",
    "        pipe4.h(Q4) + pipe3.h(Q3) + pipe2.h(Q2) - pipe1.h(Q1) - 50*Q1*abs(Q1) + 203.5,\n",
    "        pipe1.h(Q1) + pipe7.h(Q7) - pipe6.h(Q6) - pipe5.h(Q5) + 50*Q1*abs(Q1) - 203.5\n",
    "    ]\n",
    "\n",
    "solution = fsolve(heat_exchanger_with_pump, np.array([0.8, 0.2, 1.2, 1.2, 1, 1, 1]))\n",
    "solution"
   ],
   "metadata": {
    "collapsed": false,
    "pycharm": {
     "name": "#%%\n"
    }
   }
  },
  {
   "cell_type": "markdown",
   "source": [
    "## Large Pump in Line 6\n",
    "If we remove the previous devices and add only the pump to line 6 with a value of $1000\\,ft$,"
   ],
   "metadata": {
    "collapsed": false,
    "pycharm": {
     "name": "#%% md\n"
    }
   }
  },
  {
   "cell_type": "code",
   "execution_count": 6,
   "outputs": [
    {
     "data": {
      "text/plain": "array([-4.92433211, -1.24960309, -0.24960309, -0.24960309,  8.1739352 ,\n        8.1739352 , -6.1739352 ])"
     },
     "execution_count": 6,
     "metadata": {},
     "output_type": "execute_result"
    }
   ],
   "source": [
    "def pump_6(x):\n",
    "    Q1, Q2, Q3, Q4, Q5, Q6, Q7 = x\n",
    "    return [\n",
    "        Q1 + Q4 + Q5 - 3,\n",
    "        Q1 + Q2 - Q7,\n",
    "        Q6 + Q7 - 2,\n",
    "        1 + Q2 - Q3,\n",
    "        Q5 - Q6,\n",
    "        pipe4.h(Q4) + pipe3.h(Q3) + pipe2.h(Q2) - pipe1.h(Q1),\n",
    "        pipe1.h(Q1) + pipe7.h(Q7) - pipe6.h(Q6) - pipe5.h(Q5) + 1000\n",
    "    ]\n",
    "\n",
    "solution = fsolve(pump_6, np.array([0.8, 0.2, 1.2, 1.2, 1, 1, 1]))\n",
    "solution"
   ],
   "metadata": {
    "collapsed": false,
    "pycharm": {
     "name": "#%%\n"
    }
   }
  }
 ],
 "metadata": {
  "kernelspec": {
   "display_name": "Python 3",
   "language": "python",
   "name": "python3"
  },
  "language_info": {
   "codemirror_mode": {
    "name": "ipython",
    "version": 2
   },
   "file_extension": ".py",
   "mimetype": "text/x-python",
   "name": "python",
   "nbconvert_exporter": "python",
   "pygments_lexer": "ipython2",
   "version": "2.7.6"
  }
 },
 "nbformat": 4,
 "nbformat_minor": 0
}