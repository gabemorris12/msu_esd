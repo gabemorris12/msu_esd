{
 "cells": [
  {
   "cell_type": "markdown",
   "source": [
    "\\begin{center}\n",
    "Gabe Morris\n",
    "\\end{center}"
   ],
   "metadata": {
    "collapsed": false,
    "pycharm": {
     "name": "#%% md\n"
    }
   }
  },
  {
   "cell_type": "code",
   "execution_count": 1,
   "outputs": [],
   "source": [
    "from scipy.interpolate import interp1d\n",
    "from scipy.optimize import fsolve\n",
    "import numpy as np"
   ],
   "metadata": {
    "collapsed": false,
    "pycharm": {
     "name": "#%%\n"
    }
   }
  },
  {
   "cell_type": "markdown",
   "source": [
    "\\pagebreak\n",
    "\\tableofcontents\n",
    "\\pagebreak"
   ],
   "metadata": {
    "collapsed": false
   }
  },
  {
   "cell_type": "markdown",
   "metadata": {
    "collapsed": true,
    "pycharm": {
     "name": "#%% md\n"
    }
   },
   "source": [
    "# Given\n",
    "The preliminary design of a recovery heat exchanger for a Solar Turbines Centaur 50 is to be accomplished. The heat exchanger is to be used to heat water from the turbine exhaust for process use. Surface 8.0-3/8T or surface 9.29-0.737-SR is to be used. More information on the Centaur 50 may be found [here](https://s7d2.scene7.com/is/content/Caterpillar/CM20150703-52095-37893).\n",
    "\n",
    "The requirements are:\n",
    "\n",
    "| Property                    | Gas Side    | Water Side  |\n",
    "|-----------------------------|-------------|-------------|\n",
    "| $\\dot{m}\\,(\\frac{lbm}{hr})$ | 151,410     | 36,000      |\n",
    "| $T_{in}\\,(^\\circ F)$        | 910         | 70          |\n",
    "| $T_{out}\\,(^\\circ F)$       | 400         | ?           |\n",
    "| $P_{in}$                    | atmospheric | atmospheric |\n",
    "\n",
    "The heat exchanger can have necessary width, but the gas inlet side must be such that the Reynolds number inside the finned-tube is about 1000. Water flows through the tubes, which are manifolded together in such a fashion that the water velocity is 3 ft/sec in order to ensure turbulent flow. The properties of the exhaust gas from the heat recovery are close to the properties of air at the same temperature.\n",
    "\n",
    "# Find\n",
    "Select the better surface based on economy of the operation by calculating (a) the heat exchanger width and volume for both surfaces, (b) the gas side pressure drop for both surfaces, and (c) the operating costs for both surfaces for 8760 hr/yr operation. Electricity costs $\\frac{\\$0.05}{kW\\,hr}$ for usage and $\\frac{\\$9}{kW}$ for demand (per month). The fan is 75% efficient.\n",
    "\n",
    "The surface selected must be clearly indicated in the report. A sketch of the selected configuration, with dimensions indicated should be included.\n",
    "\n",
    "# Solution\n",
    "## Properties\n",
    "The first step is to acquire the properties of the air and water. The properties may be taken at the average temperature between the inlet and exiting temperatures.\n",
    "\n",
    "### Air\n",
    "The average temperature of the air is $655\\,^\\circ F$. The following properties may be obtained from Table B-2 in the text: $\\rho=0.03554\\,\\frac{lbm}{ft^3}$, $c_p=0.25165\\,\\frac{Btu}{lbm\\,^\\circ F}$, $\\mu=2.077\\cdot10^{-5}\\,\\frac{lbm}{ft\\,sec}$, $Pr=0.68775$.\n",
    "\n",
    "### Water\n",
    "For water, the exit temperature is not known, but it may be solved for using an iterative process. First, the rating must be solved for using the known values for the air properties."
   ]
  },
  {
   "cell_type": "code",
   "execution_count": 2,
   "outputs": [
    {
     "data": {
      "text/plain": "19432186.514999997"
     },
     "execution_count": 2,
     "metadata": {},
     "output_type": "execute_result"
    }
   ],
   "source": [
    "# Input parameters of air\n",
    "mdot_a = 151_410  # lbm/hr\n",
    "Tin_a = 910  # F\n",
    "Tout_a = 400  # F\n",
    "cp_a = 0.25165  # btu/(lbm F)\n",
    "\n",
    "# Getting the rating\n",
    "q = mdot_a*cp_a*(Tin_a - Tout_a)\n",
    "q  # Btu per hour"
   ],
   "metadata": {
    "collapsed": false,
    "pycharm": {
     "name": "#%%\n"
    }
   }
  },
  {
   "cell_type": "markdown",
   "source": [
    "Now the exiting temperature may be solved using some python magic."
   ],
   "metadata": {
    "collapsed": false,
    "pycharm": {
     "name": "#%% md\n"
    }
   }
  },
  {
   "cell_type": "code",
   "execution_count": 3,
   "outputs": [],
   "source": [
    "# Input parameters of water\n",
    "mdot_w = 36_000  # lbm/hr\n",
    "Tin_w = 70  # F\n",
    "\n",
    "# We can get cp as a function of temperature using an interpolation function from scipy\n",
    "# From the book,\n",
    "T_values = [80, 90, 100, 150, 200, 250, 300, 350, 400, 450, 500, 550, 600]\n",
    "cp_values = [0.998, 0.997, 0.998, 1, 1, 1.01, 1.03, 1.05, 1.08, 1.12, 1.19, 1.31, 1.51]\n",
    "\n",
    "cp_w_lamb = interp1d(T_values, cp_values, fill_value='extrapolate')"
   ],
   "metadata": {
    "collapsed": false,
    "pycharm": {
     "name": "#%%\n"
    }
   }
  },
  {
   "cell_type": "markdown",
   "source": [
    "Now `cp_w_lamb` may take in arguments at any temperature. This feature will be used later when accessing the database. For instance, the heat capacity should be between 1.08 and 1.12 for $410\\,^\\circ F$"
   ],
   "metadata": {
    "collapsed": false,
    "pycharm": {
     "name": "#%% md\n"
    }
   }
  },
  {
   "cell_type": "code",
   "execution_count": 4,
   "outputs": [
    {
     "data": {
      "text/plain": "1.088"
     },
     "execution_count": 4,
     "metadata": {},
     "output_type": "execute_result"
    }
   ],
   "source": [
    "float(cp_w_lamb(410))  # adding float() because it returns an array"
   ],
   "metadata": {
    "collapsed": false,
    "pycharm": {
     "name": "#%%\n"
    }
   }
  },
  {
   "cell_type": "markdown",
   "source": [
    "Now `fsolve` may be used to iteratively find the outlet temperature."
   ],
   "metadata": {
    "collapsed": false,
    "pycharm": {
     "name": "#%% md\n"
    }
   }
  },
  {
   "cell_type": "code",
   "execution_count": 5,
   "outputs": [
    {
     "data": {
      "text/plain": "588.2044624423871"
     },
     "execution_count": 5,
     "metadata": {},
     "output_type": "execute_result"
    }
   ],
   "source": [
    "# Getting the outlet temperature\n",
    "def get_T(Tout_water):\n",
    "    T_avg = (Tout_water + Tin_w)/2\n",
    "    cp_water = float(cp_w_lamb(T_avg))\n",
    "    return q - mdot_w*cp_water*(Tout_water - Tin_w)  # expression equal to zero\n",
    "\n",
    "Tout_w = fsolve(get_T, np.array([500, ]))[0]\n",
    "Tout_w  # F"
   ],
   "metadata": {
    "collapsed": false,
    "pycharm": {
     "name": "#%%\n"
    }
   }
  },
  {
   "cell_type": "markdown",
   "source": [
    "With the average temperature of the water being $329.10223\\,^\\circ F$, the properties from Table B-2 are: $\\rho=56.31\\,\\frac{lbm}{ft^3}$, $c_p=1.0416\\,\\frac{Btu}{lbm\\,^\\circ F}$, $\\mu=0.114\\cdot10^{-3}\\,\\frac{lbm}{ft\\,sec}$, $Pr=1.087$."
   ],
   "metadata": {
    "collapsed": false,
    "pycharm": {
     "name": "#%% md\n"
    }
   }
  }
 ],
 "metadata": {
  "kernelspec": {
   "display_name": "Python 3",
   "language": "python",
   "name": "python3"
  },
  "language_info": {
   "codemirror_mode": {
    "name": "ipython",
    "version": 2
   },
   "file_extension": ".py",
   "mimetype": "text/x-python",
   "name": "python",
   "nbconvert_exporter": "python",
   "pygments_lexer": "ipython2",
   "version": "2.7.6"
  }
 },
 "nbformat": 4,
 "nbformat_minor": 0
}