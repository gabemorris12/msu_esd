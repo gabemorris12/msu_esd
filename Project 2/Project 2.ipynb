{
 "cells": [
  {
   "cell_type": "markdown",
   "source": [
    "\\begin{center}\n",
    "Gabe Morris\n",
    "\\end{center}"
   ],
   "metadata": {
    "collapsed": false,
    "pycharm": {
     "name": "#%% md\n"
    }
   }
  },
  {
   "cell_type": "code",
   "execution_count": 1,
   "outputs": [],
   "source": [
    "from scipy.interpolate import interp1d\n",
    "from scipy.optimize import fsolve\n",
    "from msu_esd import cross_flow_unmixed\n",
    "import numpy as np\n",
    "import matplotlib.pyplot as plt\n",
    "import pandas as pd\n",
    "import warnings\n",
    "from IPython.display import display, Latex\n",
    "\n",
    "warnings.filterwarnings('ignore', category=FutureWarning)\n",
    "\n",
    "plt.style.use('../maroon.mplstyle')"
   ],
   "metadata": {
    "collapsed": false,
    "pycharm": {
     "name": "#%%\n"
    }
   }
  },
  {
   "cell_type": "markdown",
   "source": [
    "\\pagebreak\n",
    "\\tableofcontents\n",
    "\\pagebreak"
   ],
   "metadata": {
    "collapsed": false
   }
  },
  {
   "cell_type": "markdown",
   "metadata": {
    "collapsed": true,
    "pycharm": {
     "name": "#%% md\n"
    }
   },
   "source": [
    "# Given\n",
    "The preliminary design of a recovery heat exchanger for a Solar Turbines Centaur 50 is to be accomplished. The heat exchanger is to be used to heat water from the turbine exhaust for process use. Surface 8.0-3/8T or surface 9.29-0.737-SR is to be used. More information on the Centaur 50 may be found [here](https://s7d2.scene7.com/is/content/Caterpillar/CM20150703-52095-37893).\n",
    "\n",
    "The requirements are:\n",
    "\n",
    "| Property                    | Gas Side    | Water Side  |\n",
    "|-----------------------------|-------------|-------------|\n",
    "| $\\dot{m}\\,(\\frac{lbm}{hr})$ | 151,410     | 36,000      |\n",
    "| $T_{in}\\,(^\\circ F)$        | 910         | 70          |\n",
    "| $T_{out}\\,(^\\circ F)$       | 400         | ?           |\n",
    "| $P_{in}$                    | atmospheric | atmospheric |\n",
    "\n",
    "The heat exchanger can have necessary width, but the gas inlet side must be such that the Reynolds number inside the finned-tube is about 1000. Water flows through the tubes, which are manifolded together in such a fashion that the water velocity is 3 ft/sec in order to ensure turbulent flow. The properties of the exhaust gas from the heat recovery are close to the properties of air at the same temperature.\n",
    "\n",
    "# Find\n",
    "Select the better surface based on economy of the operation by calculating (a) the heat exchanger width and volume for both surfaces, (b) the gas side pressure drop for both surfaces, and (c) the operating costs for both surfaces for 8760 hr/yr operation. Electricity costs $\\frac{\\$0.05}{kW\\,hr}$ for usage and $\\frac{\\$9}{kW}$ for demand (per month). The fan is 75% efficient.\n",
    "\n",
    "The surface selected must be clearly indicated in the report. A sketch of the selected configuration, with dimensions indicated should be included.\n",
    "\n",
    "# Solution\n",
    "## Properties\n",
    "The first step is to acquire the properties of the air and water. The properties may be taken at the average temperature between the inlet and exiting temperatures.\n",
    "\n",
    "### Air\n",
    "The average temperature of the air is $655\\,^\\circ F$. The following properties may be obtained from Table B-2 in the text: $\\rho=0.03554\\,\\frac{lbm}{ft^3}$, $c_p=0.25165\\,\\frac{Btu}{lbm\\,^\\circ F}$, $\\mu=2.077\\cdot10^{-5}\\,\\frac{lbm}{ft\\,sec}$, $Pr=0.68775$.\n",
    "\n",
    "### Water\n",
    "For water, the exit temperature is not known, but it may be solved for using an iterative process. First, the rating must be solved for using the known values for the air properties."
   ]
  },
  {
   "cell_type": "code",
   "execution_count": 2,
   "outputs": [
    {
     "data": {
      "text/plain": "19432186.514999997"
     },
     "execution_count": 2,
     "metadata": {},
     "output_type": "execute_result"
    }
   ],
   "source": [
    "# Input parameters of air\n",
    "mdot_a = 151_410  # lbm/hr\n",
    "Tin_a = 910  # F\n",
    "Tout_a = 400  # F\n",
    "cp_a = 0.25165  # btu/(lbm F)\n",
    "\n",
    "# Getting the rating\n",
    "q = mdot_a*cp_a*(Tin_a - Tout_a)\n",
    "q  # Btu per hour"
   ],
   "metadata": {
    "collapsed": false,
    "pycharm": {
     "name": "#%%\n"
    }
   }
  },
  {
   "cell_type": "markdown",
   "source": [
    "Now the exiting temperature may be solved using some python magic."
   ],
   "metadata": {
    "collapsed": false,
    "pycharm": {
     "name": "#%% md\n"
    }
   }
  },
  {
   "cell_type": "code",
   "execution_count": 3,
   "outputs": [],
   "source": [
    "# Input parameters of water\n",
    "mdot_w = 36_000  # lbm/hr\n",
    "Tin_w = 70  # F\n",
    "\n",
    "# We can get cp as a function of temperature using an interpolation function from scipy\n",
    "# From the book,\n",
    "T_values = [80, 90, 100, 150, 200, 250, 300, 350, 400, 450, 500, 550, 600]\n",
    "cp_values = [0.998, 0.997, 0.998, 1, 1, 1.01, 1.03, 1.05, 1.08, 1.12, 1.19, 1.31, 1.51]\n",
    "\n",
    "cp_w_lamb = interp1d(T_values, cp_values, fill_value='extrapolate')"
   ],
   "metadata": {
    "collapsed": false,
    "pycharm": {
     "name": "#%%\n"
    }
   }
  },
  {
   "cell_type": "markdown",
   "source": [
    "Now `cp_w_lamb` may take in arguments at any temperature. This feature will be used later when accessing the database. For instance, the heat capacity should be between 1.08 and 1.12 for $410\\,^\\circ F$"
   ],
   "metadata": {
    "collapsed": false,
    "pycharm": {
     "name": "#%% md\n"
    }
   }
  },
  {
   "cell_type": "code",
   "execution_count": 4,
   "outputs": [
    {
     "data": {
      "text/plain": "1.088"
     },
     "execution_count": 4,
     "metadata": {},
     "output_type": "execute_result"
    }
   ],
   "source": [
    "float(cp_w_lamb(410))  # adding float() because it returns an array"
   ],
   "metadata": {
    "collapsed": false,
    "pycharm": {
     "name": "#%%\n"
    }
   }
  },
  {
   "cell_type": "markdown",
   "source": [
    "Now `fsolve` may be used to iteratively find the outlet temperature."
   ],
   "metadata": {
    "collapsed": false,
    "pycharm": {
     "name": "#%% md\n"
    }
   }
  },
  {
   "cell_type": "code",
   "execution_count": 5,
   "outputs": [
    {
     "data": {
      "text/plain": "588.2044624423871"
     },
     "execution_count": 5,
     "metadata": {},
     "output_type": "execute_result"
    }
   ],
   "source": [
    "# Getting the outlet temperature\n",
    "def get_T(Tout_water):\n",
    "    T_avg = (Tout_water + Tin_w)/2\n",
    "    cp_water = float(cp_w_lamb(T_avg))\n",
    "    return q - mdot_w*cp_water*(Tout_water - Tin_w)  # expression equal to zero\n",
    "\n",
    "Tout_w = fsolve(get_T, np.array([500, ]))[0]\n",
    "Tout_w  # F"
   ],
   "metadata": {
    "collapsed": false,
    "pycharm": {
     "name": "#%%\n"
    }
   }
  },
  {
   "cell_type": "markdown",
   "source": [
    "With the average temperature of the water being $329.10223\\,^\\circ F$, the properties from Table B-2 are: $\\rho=56.31\\,\\frac{lbm}{ft^3}$, $c_p=1.0416\\,\\frac{Btu}{lbm\\,^\\circ F}$, $\\mu=0.114\\cdot10^{-3}\\,\\frac{lbm}{ft\\,sec}$, $Pr=1.087$, $k_w=0.393\\,\\frac{Btu}{hr\\,ft\\,^\\circ F}$.\n",
    "\n",
    "## Heat Exchanger Conductance\n",
    "The heat exchanger conductance may be calculated using the NTU method."
   ],
   "metadata": {
    "collapsed": false,
    "pycharm": {
     "name": "#%% md\n"
    }
   }
  },
  {
   "cell_type": "code",
   "execution_count": 6,
   "outputs": [
    {
     "name": "stdout",
     "output_type": "stream",
     "text": [
      "C: 0.984\n",
      "Effectiveness: 0.617\n",
      "UA: 74166.055 Btu/(hr F)\n"
     ]
    }
   ],
   "source": [
    "# Calculating the conductance\n",
    "cp_w = 1.0416  # Btu/(lbm F)\n",
    "\n",
    "Cc = mdot_w*cp_w  # Btu/(hr F)\n",
    "Ch = mdot_a*cp_a  # Btu/(hr F)\n",
    "C_min, C_max = min([Cc, Ch]), max([Cc, Ch])\n",
    "C = C_min/C_max\n",
    "print(f'C: {C:.3f}')\n",
    "q_max = C_min*(Tin_a - Tin_w)  # Btu/hr\n",
    "eff = q/q_max\n",
    "print(f'Effectiveness: {eff:.3f}')\n",
    "ntu = cross_flow_unmixed(eff, C)\n",
    "UA = ntu*C_min  # Btu/(hr F)\n",
    "print(f'UA: {UA:.3f} Btu/(hr F)')"
   ],
   "metadata": {
    "collapsed": false,
    "pycharm": {
     "name": "#%%\n"
    }
   }
  },
  {
   "cell_type": "markdown",
   "source": [
    "The conductance of the iteration for the heat exchangers need to match the one calculated above as well as possible.\n",
    "\n",
    "\\begin{center}\n",
    "\\includegraphics{images/fig1}  \\\\\n",
    "Figure 1: Fin-Tube Heat Exchanger\n",
    "\\end{center}\n",
    "\n",
    "The conductance for an iteration depending on the geometry of the heat exchanger may be obtained by calculating the resistances for the air side and water side portions of the heat exchanger. The following relationship is,\n",
    "\n",
    "$$UA_{iter}=\\frac{1}{R_a+R_w}$$\n",
    "\n",
    "## Surface 9.29-0.737-SR\n",
    "A graphical representation of the relationship between $Re$ and $StPr^{2/3}$ may be acquired from the database. This relationship will be used to obtain the heat convection coefficient for the airside."
   ],
   "metadata": {
    "collapsed": false,
    "pycharm": {
     "name": "#%% md\n"
    }
   }
  },
  {
   "cell_type": "code",
   "execution_count": 7,
   "outputs": [
    {
     "data": {
      "text/plain": "<Figure size 1440x960 with 1 Axes>",
      "image/png": "[encoded data removed]"
     },
     "metadata": {
      "needs_background": "light"
     },
     "output_type": "display_data"
    }
   ],
   "source": [
    "# Getting graph\n",
    "Re = np.array([600, 800, 1000, 1500, 2000, 3000, 4000, 6000, 8000, 10_000])\n",
    "hts = np.array([0.014, 0.012, 0.01, 0.0088, 0.008, 0.0071, 0.0067, 0.006, 0.0054, 0.0051])\n",
    "fF = np.array([0.052, 0.046, 0.041, 0.035, 0.031, 0.028, 0.025, 0.023, 0.021, 0.0205])\n",
    "hts_lamb = interp1d(Re, hts, kind='quadratic')\n",
    "fF_lamb = interp1d(Re, fF, kind='quadratic')\n",
    "Re_values = np.linspace(Re[0], Re[-1], 1000)\n",
    "\n",
    "plt.scatter(Re, hts, label='$StPr^{2/3}$', zorder=3, marker='.', color='black')\n",
    "plt.scatter(Re, fF, label='$f_F$', zorder=3, marker='.', color='maroon')\n",
    "plt.plot(Re_values, hts_lamb(Re_values), label='Interpolation Function', zorder=2)\n",
    "plt.plot(Re_values, fF_lamb(Re_values), label='Interpolation Function', zorder=2)\n",
    "plt.xscale('log')\n",
    "plt.xlabel('$Re$')\n",
    "plt.grid(which='minor', ls=':')\n",
    "plt.legend()\n",
    "plt.show()"
   ],
   "metadata": {
    "collapsed": false,
    "pycharm": {
     "name": "#%%\n"
    }
   }
  },
  {
   "cell_type": "markdown",
   "source": [
    "| Property                                    | Value                   |\n",
    "|---------------------------------------------|-------------------------|\n",
    "| Fin Pitch                                   | 9.29 per inch           |\n",
    "| Hydraulic Diameter ($D_h$)                  | 0.01352 $ft$            |\n",
    "| Fin Thickness (Copper)                      | 0.004 $in$              |\n",
    "| Free flow area/frontal area ($\\sigma$)      | 0.788                   |\n",
    "| Total heat transfer/total volume ($\\alpha$) | 228 $\\frac{ft^2}{ft^3}$ |\n",
    "| Fin area/total area                         | 0.814                   |\n",
    "\n",
    "### Airside\n",
    "For the airside (fins), the resistance may be found using,\n",
    "\n",
    "$$R_a=\\frac{1}{\\eta_tAh_a}$$\n",
    "\n",
    "The first step is to calculate $Re$ and making sure that it is around 1000."
   ],
   "metadata": {
    "collapsed": false,
    "pycharm": {
     "name": "#%% md\n"
    }
   }
  },
  {
   "cell_type": "code",
   "execution_count": 8,
   "outputs": [
    {
     "name": "stdout",
     "output_type": "stream",
     "text": [
      "L1: 7.110 in\n",
      "L2: 70.416 in\n",
      "L3: 70.950 in\n",
      "Volume: 20.557 ft^3\n",
      "Velocity: 43.286 ft/s\n",
      "Re: 1001.394\n"
     ]
    }
   ],
   "source": [
    "# Air properties\n",
    "rho_a = 0.03554 # lbm/ft^3\n",
    "mu_a = 2.077e-5 # lbm/(ft sec)\n",
    "cp_a = 0.25165 # Btu/(lbm F)\n",
    "Pr_a = 0.68775\n",
    "mdot_a = 151_410/3600 # lbm/sec\n",
    "\n",
    "# Find the velocity of the air then use that to find Re\n",
    "N1, N2, N3 = 9, 652, 129\n",
    "L1 = N1*0.79/12  # ft\n",
    "L2 = N2*0.108/12  # ft\n",
    "L3 = N3*0.55/12  # ft\n",
    "vol = L1*L2*L3 # ft^3\n",
    "print(f'L1: {L1*12:.3f} in')\n",
    "print(f'L2: {L2*12:.3f} in')\n",
    "print(f'L3: {L3*12:.3f} in')\n",
    "print(f'Volume: {vol:.3f} ft^3')\n",
    "Da = 0.01352 # ft (from database)\n",
    "sigma = 0.788 # from database\n",
    "Va = mdot_a/(L2*L3*sigma*rho_a) # ft/sec\n",
    "print(f'Velocity: {Va:.3f} ft/s')\n",
    "G = Va*rho_a\n",
    "Re_a = G*Da/mu_a\n",
    "print(f'Re: {Re_a:.3f}')\n",
    "L1_list, L2_list, L3_list = ['$L_1$ ($in$)', f'{L1*12:.3f}'], [r'$L_2$ ($in$)', f'{L2*12:.3f}'], [r'$L_3$ ($in$)', f'{L3*12:.3f}']\n",
    "vol_list = ['Volume ($ft^3$)', f'{vol:.3f}']\n",
    "air_vel_list = [r'Air Velocity ($\\frac{ft^3}{s}$)', f'{Va:.3f}']\n",
    "air_re_list = [\"Airside Reynold's\", f'{Re_a:.3f}']"
   ],
   "metadata": {
    "collapsed": false,
    "pycharm": {
     "name": "#%%\n"
    }
   }
  },
  {
   "cell_type": "markdown",
   "source": [
    "With $Re$ known, the convection may now be solved using,\n",
    "\n",
    "$$StPr^{2/3}=\\frac{h}{G\\cdot c_{p,a}}Pr^{2/3}\\rightarrow h=\\frac{StPr^{2/3}\\cdot G\\cdot c_{p,a}}{Pr^{2/3}}$$"
   ],
   "metadata": {
    "collapsed": false,
    "pycharm": {
     "name": "#%% md\n"
    }
   }
  },
  {
   "cell_type": "code",
   "source": [
    "h_a = hts_lamb(Re_a)*G*cp_a/(Pr_a**(2/3))\n",
    "h_a  # Btu/(s ft^2 F)"
   ],
   "metadata": {
    "collapsed": false,
    "pycharm": {
     "name": "#%%\n"
    }
   },
   "execution_count": 9,
   "outputs": [
    {
     "data": {
      "text/plain": "0.004963260658832816"
     },
     "execution_count": 9,
     "metadata": {},
     "output_type": "execute_result"
    }
   ]
  },
  {
   "cell_type": "markdown",
   "source": [
    "The total fin efficiency may be determined using,\n",
    "\n",
    "$$\\eta_t=1-\\frac{A_{fin}}{A_{tot}}(1-\\eta_{fin})$$"
   ],
   "metadata": {
    "collapsed": false,
    "pycharm": {
     "name": "#%% md\n"
    }
   }
  },
  {
   "cell_type": "code",
   "execution_count": 10,
   "outputs": [
    {
     "name": "stdout",
     "output_type": "stream",
     "text": [
      "Fin Efficiency: 0.947\n",
      "Total Efficiency: 0.957\n",
      "Resistance: 0.045 sec F/Btu\n"
     ]
    }
   ],
   "source": [
    "alpha = 228 # ft^2/ft^3\n",
    "A_ratio = 0.814\n",
    "A = alpha*vol # ft^2\n",
    "L_fin = 0.01875 # ft\n",
    "k_fin = 221/3600 # Btu/(sec ft F)\n",
    "t_fin = 0.004/12 # ft\n",
    "m = np.sqrt(h_a*2/(k_fin*t_fin))\n",
    "eta_fin = np.tanh(m*L_fin)/(m*L_fin)\n",
    "print(f'Fin Efficiency: {eta_fin:.3f}')\n",
    "eta_t = 1 - A_ratio*(1 - eta_fin)\n",
    "print(f'Total Efficiency: {eta_t:.3f}')\n",
    "R_fin = 1/(eta_t*A*h_a)\n",
    "print(f'Resistance: {R_fin:.3f} sec F/Btu')"
   ],
   "metadata": {
    "collapsed": false,
    "pycharm": {
     "name": "#%%\n"
    }
   }
  },
  {
   "cell_type": "markdown",
   "source": [
    "### Waterside\n",
    "The resistance from the waterside may be acquired by using,\n",
    "\n",
    "$$R_w=\\frac{1}{h_wA_c}$$\n",
    "\n",
    "$Re$ may be found first after acquiring the hydraulic diameter, then that could be used to calculate $Nu$. The convection coefficient can then be found using,\n",
    "\n",
    "$$h_w=\\frac{Nu\\cdot k_w}{D_h}$$\n",
    "\n",
    "\\begin{center}\n",
    "\\includegraphics{images/fig2} \\\\\n",
    "Figure 2: Known Tube Geometry\n",
    "\\end{center}"
   ],
   "metadata": {
    "collapsed": false,
    "pycharm": {
     "name": "#%% md\n"
    }
   }
  },
  {
   "cell_type": "code",
   "execution_count": 11,
   "outputs": [
    {
     "name": "stdout",
     "output_type": "stream",
     "text": [
      "Re: 18137.747\n"
     ]
    }
   ],
   "source": [
    "# Water properties\n",
    "rho_w = 56.31  # lbm/ft^3\n",
    "cp_w = 1.0416  # btu/(lbm F)\n",
    "mu_w = 0.114e-3  # lbm/(ft sec)\n",
    "Pr_w = 1.087\n",
    "k_w = 0.393/3600  # btu/(sec ft F)\n",
    "\n",
    "Dc = 4*0.00306  # ft (from example 3-3)\n",
    "alpha_c = 42.1  # ft^2/ft^3 (from example 3-3)\n",
    "sigma_c = 0.129\n",
    "Vw = 3  # ft/sec\n",
    "Gw = Vw*rho_w  # lbm/(s ft^2)\n",
    "Re_w = Gw*Dc/mu_w\n",
    "print(f\"Re: {Re_w:.3f}\")\n",
    "water_re_list = [f'{Re_w:.3f}']"
   ],
   "metadata": {
    "collapsed": false,
    "pycharm": {
     "name": "#%%\n"
    }
   }
  },
  {
   "cell_type": "code",
   "source": [
    "# Since the flow is turbulent,\n",
    "Nu = 0.023*Re_w**0.8*Pr_w**0.333\n",
    "print(f'Nu: {Nu:.3f}')\n",
    "h_w = Nu*k_w/Dc\n",
    "print(f'h: {h_w:.3f} Btu/(s ft^2 F)')\n",
    "Ac = alpha_c*vol\n",
    "print(f'Ac: {Ac:.3f} ft^2')\n",
    "Rw = 1/(Ac*h_w)\n",
    "print(f'Resistance: {Rw} F*sec/Btu')"
   ],
   "metadata": {
    "collapsed": false,
    "pycharm": {
     "name": "#%%\n"
    }
   },
   "execution_count": 12,
   "outputs": [
    {
     "name": "stdout",
     "output_type": "stream",
     "text": [
      "Nu: 60.347\n",
      "h: 0.538 Btu/(s ft^2 F)\n",
      "Ac: 865.430 ft^2\n",
      "Resistance: 0.0021468450780435682 F*sec/Btu\n"
     ]
    }
   ]
  },
  {
   "cell_type": "code",
   "source": [
    "# Solving for UA_iter\n",
    "UA_iter = 1/(Rw + R_fin)*3600\n",
    "print(f'UA_iter: {UA_iter:.3f} Btu/(hr F)')\n",
    "print(f'UA_iter/UA: {UA_iter/UA:.3f}')"
   ],
   "metadata": {
    "collapsed": false,
    "pycharm": {
     "name": "#%%\n"
    }
   },
   "execution_count": 13,
   "outputs": [
    {
     "name": "stdout",
     "output_type": "stream",
     "text": [
      "UA_iter: 76463.029 Btu/(hr F)\n",
      "UA_iter/UA: 1.031\n"
     ]
    }
   ]
  },
  {
   "cell_type": "markdown",
   "source": [
    "Thus, the final dimensions of the heat exchanger are $L_1=7.110\\,in$ (width), $L_2=70.416\\,in$, and $L_3=70.950\\,in$. One important criteria to consider when determining the lengths is that the number of fins and tubes have to be an integer because part of a fin or tube cannot exist. This means that $N$ in the relationships below for $L_1$, $L_2$, and $L_3$ must be an integer.\n",
    "\n",
    "$$0.79\\cdot N_1=L_1$$\n",
    "$$0.108\\cdot N_2=L_2$$\n",
    "$$0.55\\cdot N_3=L_3$$\n",
    "\n",
    "The 0.108 above is the reciprocal of the fin pitch $\\left(\\frac{1}{9.29\\,in}=0.108\\,in\\right)$.\n",
    "\n",
    "The distances calculated above do follow this physical limitation. This limitation also means that $L_2$ can never be equal to $L_3$ because $N=0$ is the only solution to that system.\n",
    "\n",
    "Also, property corrections are ignored for this analysis due to the differences being negligible. Property corrections are for highly viscous fluids, and this is water and air.\n",
    "\n",
    "### Airside Pressure Drop\n",
    "The relationship for the pressure drop is,\n",
    "\n",
    "$$\\Delta P=\\frac{G^2}{2\\rho_{a,in}}\\left[(K_c+1-\\sigma^2)+2\\left(\\frac{\\rho_{a,in}}{\\rho_{a,out}}-1\\right)+f_F\\frac{A}{A_c}\\frac{\\rho_{a,in}}{\\rho_{a,mean}}-(1-\\sigma^2-K_e)\\frac{\\rho_{a,in}}{\\rho_{a,out}}\\right]$$\n",
    "\n",
    "\\begin{center}\n",
    "\\includegraphics{images/fig3} \\\\\n",
    "Figure 3: $K_c$ and $K_e$\n",
    "\\end{center}\n",
    "\n",
    "The constants $K_c$ and $K_e$ may be acquired from Figure 3. Although the curves above are for flat-duct heat exchangers, the assumption is that surface 9.29-0.737-SR is similar."
   ],
   "metadata": {
    "collapsed": false,
    "pycharm": {
     "name": "#%% md\n"
    }
   }
  },
  {
   "cell_type": "code",
   "execution_count": 14,
   "outputs": [
    {
     "data": {
      "text/plain": "7.068685332750924"
     },
     "execution_count": 14,
     "metadata": {},
     "output_type": "execute_result"
    }
   ],
   "source": [
    "# Obtain air properties\n",
    "rho_a_in = 0.0289  # lbm/ft^3 at 910 F\n",
    "rho_a_out = 0.046  # lbm/ft^3 at 400 F\n",
    "rat = rho_a_in/rho_a_out\n",
    "\n",
    "# From figure above\n",
    "Kc, Ke = 0.59, -0.23\n",
    "\n",
    "x1 = Kc + 1 - sigma**2\n",
    "x2 = 2*(rat - 1)\n",
    "x3 = float(fF_lamb(Re_a))*A/(L2*L3*sigma)*rho_a_in/rho_a\n",
    "x4 = (1 - sigma**2 - Ke)*rat\n",
    "\n",
    "del_P = G**2/(2*rho_a_in)*(x1 + x2 + x3 - x4)/32.174\n",
    "pressure_list = [r'$\\Delta P$ ($\\frac{lbf}{ft^2}$)', f'{del_P:.3f}']\n",
    "del_P  # lbf/ft^2"
   ],
   "metadata": {
    "collapsed": false,
    "pycharm": {
     "name": "#%%\n"
    }
   }
  },
  {
   "cell_type": "markdown",
   "source": [
    "Thus, the pressure drop across the airside is around $7.07\\,\\frac{lbf}{ft^2}$.\n",
    "\n",
    "### Power Consumption\n",
    "The power consumption for the fan may be calculating using,\n",
    "\n",
    "$$power=\\frac{Q\\Delta P}{\\eta}$$\n",
    "\n",
    "where $\\eta$ is the efficiency and $Q=\\frac{\\dot{m}}{\\rho}$."
   ],
   "metadata": {
    "collapsed": false,
    "pycharm": {
     "name": "#%% md\n"
    }
   }
  },
  {
   "cell_type": "code",
   "execution_count": 15,
   "outputs": [
    {
     "name": "stdout",
     "output_type": "stream",
     "text": [
      "Power: 11153.522 ft*lbf/s = 20.279 hp = 15.122 kW\n"
     ]
    }
   ],
   "source": [
    "# Calculating the power\n",
    "eta = 0.75\n",
    "Q_a = mdot_a/rho_a  # ft^3/s\n",
    "power = Q_a*del_P/eta\n",
    "power_kW = power*0.00135581795\n",
    "print(f'Power: {power:.3f} ft*lbf/s = {power/550:.3f} hp = {power_kW:.3f} kW')\n",
    "power_list = ['Airside Power ($hp$)', f'{power/550:.3f}']"
   ],
   "metadata": {
    "collapsed": false,
    "pycharm": {
     "name": "#%%\n"
    }
   }
  },
  {
   "cell_type": "markdown",
   "source": [
    "The relationship for power and cost is,\n",
    "\n",
    "$$cost\\ per\\ year=\\frac{\\$0.05}{kW\\,hr}\\frac{8760\\,hr}{yr}\\cdot power+\\frac{\\$9}{kW\\,mo}\\frac{12\\,mo}{yr}\\cdot power$$\n",
    "\n",
    "where the power is in kilowatts."
   ],
   "metadata": {
    "collapsed": false,
    "pycharm": {
     "name": "#%% md\n"
    }
   }
  },
  {
   "cell_type": "code",
   "execution_count": 16,
   "outputs": [
    {
     "name": "stdout",
     "output_type": "stream",
     "text": [
      "Cost Per Year: $8256.69/year\n"
     ]
    }
   ],
   "source": [
    "# Calculating the cost per year\n",
    "cost_per_year = 0.05*8760*power_kW + 9*12*power_kW\n",
    "print(f'Cost Per Year: ${cost_per_year:.2f}/year')\n",
    "cost_list = ['Annual Cost', f'{cost_per_year:.2f}']"
   ],
   "metadata": {
    "collapsed": false,
    "pycharm": {
     "name": "#%%\n"
    }
   }
  },
  {
   "cell_type": "markdown",
   "source": [
    "The operating cost of the 9.29-0.737-SR surface is $8256.69/year.\n",
    "\n",
    "## Surface 8.0-3/8T\n",
    "The process above may be copied with different values from the database."
   ],
   "metadata": {
    "collapsed": false,
    "pycharm": {
     "name": "#%% md\n"
    }
   }
  },
  {
   "cell_type": "code",
   "execution_count": 17,
   "outputs": [
    {
     "data": {
      "text/plain": "<Figure size 1440x960 with 1 Axes>",
      "image/png": "[encoded data removed]"
     },
     "metadata": {
      "needs_background": "light"
     },
     "output_type": "display_data"
    }
   ],
   "source": [
    "# Getting graph\n",
    "Re = np.array([600, 800, 1000, 1500, 2000, 3000, 4000, 6000, 8000])\n",
    "hts = np.array([0.013, 0.012, 0.011, 0.009, 0.008, 0.0068, 0.006, 0.00505, 0.0047])\n",
    "fF = np.array([0.032, 0.0305, 0.0295, 0.028, 0.0255, 0.0245, 0.022, 0.02, 0.0185])\n",
    "hts_lamb = interp1d(Re, hts, kind='quadratic')\n",
    "fF_lamb = interp1d(Re, fF, kind='quadratic')\n",
    "Re_values = np.linspace(Re[0], Re[-1], 1000)\n",
    "\n",
    "plt.scatter(Re, hts, label='$StPr^{2/3}$', zorder=3, marker='.', color='black')\n",
    "plt.scatter(Re, fF, label='$f_F$', zorder=3, marker='.', color='maroon')\n",
    "plt.plot(Re_values, hts_lamb(Re_values), label='Interpolation Function', zorder=2)\n",
    "plt.plot(Re_values, fF_lamb(Re_values), label='Interpolation Function', zorder=2)\n",
    "plt.xscale('log')\n",
    "plt.xlabel('$Re$')\n",
    "plt.grid(which='minor', ls=':')\n",
    "plt.legend()\n",
    "plt.show()"
   ],
   "metadata": {
    "collapsed": false,
    "pycharm": {
     "name": "#%%\n"
    }
   }
  },
  {
   "cell_type": "markdown",
   "source": [
    "| Property                                    | Value                   |\n",
    "|---------------------------------------------|-------------------------|\n",
    "| Tube outside diameter                       | 0.402 $in$              |\n",
    "| Fin Pitch                                   | 8 per inch              |\n",
    "| Hydraulic Diameter ($D_h$)                  | 0.01192 $ft$            |\n",
    "| Fin Thickness (Copper)                      | 0.013 $in$              |\n",
    "| Free flow area/frontal area ($\\sigma$)      | 0.534                   |\n",
    "| Total heat transfer/total volume ($\\alpha$) | 179 $\\frac{ft^2}{ft^3}$ |\n",
    "| Fin area/total area                         | 0.913                   |\n",
    "\n",
    "### Airside"
   ],
   "metadata": {
    "collapsed": false,
    "pycharm": {
     "name": "#%% md\n"
    }
   }
  },
  {
   "cell_type": "code",
   "execution_count": 18,
   "outputs": [
    {
     "name": "stdout",
     "output_type": "stream",
     "text": [
      "L1: 6.062 in\n",
      "L2: 80.250 in\n",
      "L3: 81.000 in\n",
      "Volume: 22.804 ft^3\n",
      "Velocity: 49.094 ft/s\n",
      "Re: 1001.343\n"
     ]
    }
   ],
   "source": [
    "# Find the velocity of the air then use that to find Re\n",
    "N1, N2, N3 = 7, 642, 81\n",
    "L1 = 0.866*N1/12  # ft\n",
    "L2 = 0.125*N2/12  # ft\n",
    "L3 = 1.000*N3/12  # ft\n",
    "vol = L1*L2*L3 # ft^3\n",
    "print(f'L1: {L1*12:.3f} in')\n",
    "print(f'L2: {L2*12:.3f} in')\n",
    "print(f'L3: {L3*12:.3f} in')\n",
    "print(f'Volume: {vol:.3f} ft^3')\n",
    "Da = 0.01192 # ft (from database)\n",
    "sigma = 0.534 # from database\n",
    "Va = mdot_a/(L2*L3*sigma*rho_a) # ft/sec\n",
    "print(f'Velocity: {Va:.3f} ft/s')\n",
    "G = Va*rho_a\n",
    "Re_a = G*Da/mu_a\n",
    "print(f'Re: {Re_a:.3f}')\n",
    "L1_list.append(f'{L1*12:.3f}')\n",
    "L2_list.append(f'{L2*12:.3f}')\n",
    "L3_list.append(f'{L3*12:.3f}')\n",
    "vol_list.append(f'{vol:.3f}')\n",
    "air_vel_list.append(f'{Va:.3f}')\n",
    "air_re_list.append(f'{Re_a:.3f}')"
   ],
   "metadata": {
    "collapsed": false,
    "pycharm": {
     "name": "#%%\n"
    }
   }
  },
  {
   "cell_type": "code",
   "execution_count": 19,
   "outputs": [
    {
     "data": {
      "text/plain": "0.006195232269876673"
     },
     "execution_count": 19,
     "metadata": {},
     "output_type": "execute_result"
    }
   ],
   "source": [
    "h_a = hts_lamb(Re_a)*G*cp_a/(Pr_a**(2/3))\n",
    "h_a  # Btu/(s ft^2 F)"
   ],
   "metadata": {
    "collapsed": false,
    "pycharm": {
     "name": "#%%\n"
    }
   }
  },
  {
   "cell_type": "code",
   "execution_count": 20,
   "outputs": [
    {
     "name": "stdout",
     "output_type": "stream",
     "text": [
      "Fin Efficiency: 0.963\n",
      "Total Efficiency: 0.966\n",
      "Resistance: 0.041 sec F/Btu\n"
     ]
    }
   ],
   "source": [
    "alpha = 179 # ft^2/ft^3\n",
    "A_ratio = 0.913\n",
    "A = alpha*vol # ft^2\n",
    "L_fin = (1 - 0.402)/2/12 # ft\n",
    "k_fin = 221/3600 # Btu/(sec ft F) assuming copper\n",
    "t_fin = 0.013/12 # ft\n",
    "m = np.sqrt(h_a*2/(k_fin*t_fin))\n",
    "eta_fin = np.tanh(m*L_fin)/(m*L_fin)\n",
    "print(f'Fin Efficiency: {eta_fin:.3f}')\n",
    "eta_t = 1 - A_ratio*(1 - eta_fin)\n",
    "print(f'Total Efficiency: {eta_t:.3f}')\n",
    "R_fin = 1/(eta_t*A*h_a)\n",
    "print(f'Resistance: {R_fin:.3f} sec F/Btu')"
   ],
   "metadata": {
    "collapsed": false,
    "pycharm": {
     "name": "#%%\n"
    }
   }
  },
  {
   "cell_type": "markdown",
   "source": [
    "\\begin{center}\n",
    "\\includegraphics[scale=0.75]{images/fig4} \\\\\n",
    "Figure 4: Surface 8.0-3/8T Tube Geometry\n",
    "\\end{center}\n",
    "\n",
    "Assuming that the thickness of the tube is negligible, the hydraulic diameter of the tube is the diameter $D_c=0.402\\,in$, since the geometry is circular. The contraction ratio, $\\sigma$, is the cross-sectional area divided by the repeating pattern area.\n",
    "\n",
    "$$\\sigma_c=\\frac{\\frac{\\pi}{4}\\cdot0.402^2}{1\\cdot0.866}=0.147$$\n",
    "\n",
    "The heat transfer area is $A_c=\\alpha_c\\cdot V$, where $\\alpha_c$ is the surface area density, which is the surface area inside the tubes divided by the repeating pattern volume. If a $1\\,in$ chunk of the pattern is considered, the surface area density is,\n",
    "\n",
    "$$\\alpha_c=\\frac{\\pi\\cdot0.402\\,in\\cdot1\\,in}{1\\,in\\cdot\\,0.866\\,in\\cdot\\,1\\,in}=1.458\\,\\frac{in^2}{in^3}=17.5\\frac{ft^2}{ft^3}$$\n",
    "\n",
    "### Waterside"
   ],
   "metadata": {
    "collapsed": false,
    "pycharm": {
     "name": "#%% md\n"
    }
   }
  },
  {
   "cell_type": "code",
   "execution_count": 21,
   "outputs": [
    {
     "name": "stdout",
     "output_type": "stream",
     "text": [
      "Re: 49641.711\n"
     ]
    }
   ],
   "source": [
    "Dc = 0.402/12  # ft\n",
    "alpha_c = 17.5  # ft^2/ft^3\n",
    "# sigma_c = (np.pi/4*0.402**2)/0.866\n",
    "Vw = 3  # ft/sec\n",
    "Gw = Vw*rho_w  # lbm/(s ft^2)\n",
    "Re_w = Gw*Dc/mu_w\n",
    "print(f\"Re: {Re_w:.3f}\")\n",
    "water_re_list.append(f'{Re_w:.3f}')"
   ],
   "metadata": {
    "collapsed": false,
    "pycharm": {
     "name": "#%%\n"
    }
   }
  },
  {
   "cell_type": "code",
   "execution_count": 22,
   "outputs": [
    {
     "name": "stdout",
     "output_type": "stream",
     "text": [
      "Nu: 135.042\n",
      "h: 0.440 Btu/(s ft^2 F)\n",
      "Ac: 399.062 ft^2\n",
      "Resistance: 0.005694358302286273 F*sec/Btu\n"
     ]
    }
   ],
   "source": [
    "# Since the flow is turbulent,\n",
    "Nu = 0.023*Re_w**0.8*Pr_w**0.333\n",
    "print(f'Nu: {Nu:.3f}')\n",
    "h_w = Nu*k_w/Dc\n",
    "print(f'h: {h_w:.3f} Btu/(s ft^2 F)')\n",
    "Ac = alpha_c*vol\n",
    "print(f'Ac: {Ac:.3f} ft^2')\n",
    "Rw = 1/(Ac*h_w)\n",
    "print(f'Resistance: {Rw} F*sec/Btu')"
   ],
   "metadata": {
    "collapsed": false,
    "pycharm": {
     "name": "#%%\n"
    }
   }
  },
  {
   "cell_type": "code",
   "execution_count": 23,
   "outputs": [
    {
     "name": "stdout",
     "output_type": "stream",
     "text": [
      "UA_iter: 77227.046 Btu/(hr F)\n",
      "UA_iter/UA: 1.041\n"
     ]
    }
   ],
   "source": [
    "# Solving for UA_iter\n",
    "UA_iter = 1/(Rw + R_fin)*3600\n",
    "print(f'UA_iter: {UA_iter:.3f} Btu/(hr F)')\n",
    "print(f'UA_iter/UA: {UA_iter/UA:.3f}')"
   ],
   "metadata": {
    "collapsed": false,
    "pycharm": {
     "name": "#%%\n"
    }
   }
  },
  {
   "cell_type": "markdown",
   "source": [
    "Thus, the final dimensions of the heat exchanger are $L_1=6.062\\,in$, $L_2=80.250\\,in$, and $L_3=81\\,in$. Looking at Figure 4, the limitations are,\n",
    "\n",
    "$$0.866\\cdot N_1=L_1$$\n",
    "$$0.125\\cdot N_2=L_2$$\n",
    "$$1.000\\cdot N_3=L_3$$\n",
    "\n",
    "### Airside Pressure Drop\n",
    "An important part of calculating the pressure drop is determining the $K_c$ and $K_e$ values. According to W.M. Kays and A.L. London's *Compact Heat Exchangers*, the less developed the fluid should have $K_c$ values that are lower than $K_c$ values for a fully developed flow (meaning viscous effects are present), and $K_e$ values should be higher for the less developed flows (p. 110). The entrance length for this scenario is $L_H=0.05(1000)(0.01192)=0.596\\,ft=7.152\\,in$, which is greater than the width for which the air travels ($L_1$). This means that the flow is not fully developed.\n",
    "\n",
    "\\begin{center}\n",
    "\\includegraphics{images/fig5} \\\\\n",
    "Figure 5: $K_c$ and $K_e$ for Circular Tubes\n",
    "\\end{center}\n",
    "\n",
    "Because the flow is in the inviscid region, a less conservative line from the plot in Figure 5 was chosen."
   ],
   "metadata": {
    "collapsed": false,
    "pycharm": {
     "name": "#%% md\n"
    }
   }
  },
  {
   "cell_type": "code",
   "execution_count": 24,
   "outputs": [
    {
     "data": {
      "text/plain": "7.073175777076184"
     },
     "execution_count": 24,
     "metadata": {},
     "output_type": "execute_result"
    }
   ],
   "source": [
    "# From figure above\n",
    "Kc, Ke = 0.8, -0.1\n",
    "\n",
    "x1 = Kc + 1 - sigma**2\n",
    "x2 = 2*(rat - 1)\n",
    "x3 = float(fF_lamb(Re_a))*A/(L2*L3*sigma)*rho_a_in/rho_a\n",
    "x4 = (1 - sigma**2 - Ke)*rat\n",
    "\n",
    "del_P = G**2/(2*rho_a_in)*(x1 + x2 + x3 - x4)/32.174\n",
    "pressure_list.append(f'{del_P:.3f}')\n",
    "del_P  # lbf/ft^2"
   ],
   "metadata": {
    "collapsed": false,
    "pycharm": {
     "name": "#%%\n"
    }
   }
  },
  {
   "cell_type": "markdown",
   "source": [
    "Thus, the pressure drop across the airside is $7.07\\,\\frac{lbf}{ft^2}$.\n",
    "\n",
    "### Power Consumption"
   ],
   "metadata": {
    "collapsed": false,
    "pycharm": {
     "name": "#%% md\n"
    }
   }
  },
  {
   "cell_type": "code",
   "execution_count": 25,
   "outputs": [
    {
     "name": "stdout",
     "output_type": "stream",
     "text": [
      "Power: 11160.607 ft*lbf/s = 20.292 hp = 15.132 kW\n"
     ]
    }
   ],
   "source": [
    "# Calculating the power\n",
    "eta = 0.75\n",
    "Q_a = mdot_a/rho_a  # ft^3/s\n",
    "power = Q_a*del_P/eta\n",
    "power_kW = power*0.00135581795\n",
    "print(f'Power: {power:.3f} ft*lbf/s = {power/550:.3f} hp = {power_kW:.3f} kW')\n",
    "power_list.append(f'{power/550:.3f}')"
   ],
   "metadata": {
    "collapsed": false,
    "pycharm": {
     "name": "#%%\n"
    }
   }
  },
  {
   "cell_type": "code",
   "execution_count": 26,
   "outputs": [
    {
     "name": "stdout",
     "output_type": "stream",
     "text": [
      "Cost Per Year: $8261.94/year\n"
     ]
    }
   ],
   "source": [
    " # Calculating the cost per year\n",
    "cost_per_year = 0.05*8760*power_kW + 9*12*power_kW\n",
    "print(f'Cost Per Year: ${cost_per_year:.2f}/year')\n",
    "cost_list.append(f'{cost_per_year:.2f}')"
   ],
   "metadata": {
    "collapsed": false,
    "pycharm": {
     "name": "#%%\n"
    }
   }
  },
  {
   "cell_type": "markdown",
   "source": [
    "Thus, the operating cost of the 8.0-3/8T surface is $8261.94/year.\n",
    "\n",
    "# Results and Discussion"
   ],
   "metadata": {
    "collapsed": false,
    "pycharm": {
     "name": "#%% md\n"
    }
   }
  },
  {
   "cell_type": "code",
   "execution_count": 27,
   "outputs": [
    {
     "data": {
      "text/plain": "<IPython.core.display.Latex object>",
      "text/latex": "\\begin{center}\\begin{tabular}{lll}\n\\toprule\n{} & 9.29-0.737-SR &  8.0-3/8T \\\\\n\\midrule\n$L_1$ ($in$)                    &         7.110 &     6.062 \\\\\n$L_2$ ($in$)                    &        70.416 &    80.250 \\\\\n$L_3$ ($in$)                    &        70.950 &    81.000 \\\\\nVolume ($ft^3$)                 &        20.557 &    22.804 \\\\\nAir Velocity ($\\frac{ft^3}{s}$) &        43.286 &    49.094 \\\\\nAirside Reynold's               &      1001.394 &  1001.343 \\\\\n$\\Delta P$ ($\\frac{lbf}{ft^2}$) &         7.069 &     7.073 \\\\\nAirside Power ($hp$)            &        20.279 &    20.292 \\\\\nAnnual Cost                     &       8256.69 &   8261.94 \\\\\n\\bottomrule\n\\end{tabular}\n\\end{center}"
     },
     "metadata": {},
     "output_type": "display_data"
    }
   ],
   "source": [
    "# Generating table\n",
    "data = [\n",
    "    L1_list,\n",
    "    L2_list,\n",
    "    L3_list,\n",
    "    vol_list,\n",
    "    air_vel_list,\n",
    "    air_re_list,\n",
    "    pressure_list,\n",
    "    power_list,\n",
    "    cost_list\n",
    "]\n",
    "index = [row[0] for row in data]\n",
    "df = pd.DataFrame([row[1:] for row in data], columns=['9.29-0.737-SR', '8.0-3/8T'], index=index)\n",
    "# df\n",
    "display(Latex(fr'\\begin{{center}}{df.to_latex(escape=False)}\\end{{center}}'))"
   ],
   "metadata": {
    "collapsed": false,
    "pycharm": {
     "name": "#%%\n"
    }
   }
  },
  {
   "cell_type": "markdown",
   "source": [
    "The table above shows a summary of the calculated results. Some key takeaways are,\n",
    "\n",
    "1. The volume for the 8.0-3/8T heat exchanger is greater than the 9.29-0.737-SR, thus, taking up more space overall.\n",
    "2. The 8.0-3/8T heat exchanger has the smaller width, $L_1$.\n",
    "3. The 9.29-0.737-SR heat exchanger is slightly more cost-efficient.\n",
    "\n",
    "Given the following above, the heat exchanger to select should be the 8.0-3/8T because it is thinner. Although the 8.0-3/8T is more expensive, the cost difference is within 0.1%, making the cost not substantial enough to justify the selection alone. The real advantage for the 8.0-3/8T is that it can fit in narrower spaces. This, however, is only useful if the space has a length long enough to fit the $81\"\\times80.25\"$ square surface, which is assumed to be present along the Centaur 50 given the size of the system shown in Figure 6.\n",
    "\n",
    "\\begin{center}\n",
    "\\includegraphics{images/fig6} \\\\\n",
    "Figure 6: Enclosure Access and Maintenance Space\n",
    "\\end{center}\n",
    "\n",
    "From Figure 6, notice that the height of the system is 10'5\" (out of the page), and the width is 8'6\". This is sufficient space to fit the larger $81\"\\times80.25\"$ square of the 8.0-3/8T heat exchanger, but also decrease the length of the system compared to the 9.29-0.737-SR. This logic, however, is only valid if the heat exchanger can be positioned in such a way that the $L_1$ direction is parallel to the 32'3\" direction in Figure 6.\n",
    "\n",
    "# Design\n",
    "\n",
    "\\begin{center}\n",
    "\\includegraphics{images/fig7} \\\\\n",
    "Figure 7: Heat Exchanger Drawing\n",
    "\\end{center}\n",
    "\n",
    "Figure 7 shows the layout of the surface 8.0-3/8T pattern. Notice that the holes are staggered, but the pattern shown in Figure 4 still persists. The thickness of the tube is not known, but is assumed to be negligible.\n",
    "\n",
    "\\begin{center}\n",
    "\\includegraphics{images/fig8}\n",
    "\\end{center}"
   ],
   "metadata": {
    "collapsed": false,
    "pycharm": {
     "name": "#%% md\n"
    }
   }
  }
 ],
 "metadata": {
  "kernelspec": {
   "display_name": "Python 3",
   "language": "python",
   "name": "python3"
  },
  "language_info": {
   "codemirror_mode": {
    "name": "ipython",
    "version": 2
   },
   "file_extension": ".py",
   "mimetype": "text/x-python",
   "name": "python",
   "nbconvert_exporter": "python",
   "pygments_lexer": "ipython2",
   "version": "2.7.6"
  }
 },
 "nbformat": 4,
 "nbformat_minor": 0
}