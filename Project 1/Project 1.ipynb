{
 "cells": [
  {
   "cell_type": "markdown",
   "source": [
    "\\begin{center}\n",
    "Gabe Morris\n",
    "\\end{center}"
   ],
   "metadata": {
    "collapsed": false,
    "pycharm": {
     "name": "#%% md\n"
    }
   }
  },
  {
   "cell_type": "code",
   "execution_count": 1,
   "metadata": {
    "collapsed": true
   },
   "outputs": [],
   "source": [
    "# Imports\n",
    "import warnings\n",
    "\n",
    "import numpy as np\n",
    "import pandas as pd\n",
    "from IPython.display import display, Latex\n",
    "from msu_esd import Pipe, hardy_cross\n",
    "from scipy.optimize import fsolve\n",
    "\n",
    "warnings.filterwarnings('ignore', category=FutureWarning)  # Some random warning with pandas"
   ]
  },
  {
   "cell_type": "markdown",
   "source": [
    "\\pagebreak\n",
    "\\tableofcontents\n",
    "\\pagebreak"
   ],
   "metadata": {
    "collapsed": false,
    "pycharm": {
     "name": "#%% md\n"
    }
   }
  },
  {
   "cell_type": "markdown",
   "source": [
    "\\begin{center}\n",
    "\\begin{tabular}{c c c}\n",
    "ME 6333 & Project 1 & Gabe Morris \\\\\n",
    "& & gnm54\n",
    "\\end{tabular}\n",
    "\\end{center}\n",
    "\n",
    "# Introduction\n",
    "A central chiller system for the Orlando International Airport is to be investigated. The airport consists of 4 concourses (Airside 1, 2, 3, and 4) shown in Figure 1. The main terminal building is not included in the chiller system. The working fluid of this system is Therminol D-12TM, a common heat transfer fluid.\n",
    "\n",
    "\\begin{center}\n",
    "\\includegraphics[scale=0.5]{figures/Concourse_Layout} \\\\\n",
    "Figure 1: Concourse Layout\n",
    "\\end{center}\n",
    "\n",
    "In addition, the following specifications must be met:\n",
    "\n",
    "* Provide valves to isolate each concourse, pump, and supply and return lines.\n",
    "* Minimize the pipe length by placing lines in the same tunnel when feasible.\n",
    "* Provide 50 feet of pipe in each mechanical room (one per concourse).\n",
    "* Use a \"Z\" network (shown in Figure 3).\n",
    "* Avoid pipe velocities much in excess of 9 feet per second.\n",
    "* Access tunnels are 20 feet below the entrance to each concourse, mechanical rooms are 20 feet above the surface.\n",
    "* The 2 air handling units in concourse 4 are to be placed in parallel.\n",
    "* Avoid running lines under the main terminal building.\n",
    "* Flow rates across the air handling units must not exceed 3.5% of the minimum required.\n",
    "\n",
    "# Given\n",
    "The energy requirements across the air handling units are,\n",
    "\n",
    "\\begin{center}\n",
    "Table 1: AHU Energy Requirements\n",
    "\\end{center}\n",
    "\n",
    "| Concourse | Tons | $K_{AHU}$ |\n",
    "|-----------|------|-----------|\n",
    "| 1         | 480  | 4.5       |\n",
    "| 2         | 480  | 4.5       |\n",
    "| 3         | 480  | 4.5       |\n",
    "| 4 (each)  | 225  | 10        |\n",
    "\n",
    "where 1 ton is $12,000\\,\\frac{Btu}{hr}$. The head loss through the air handling units in each terminal is $K_{AHU}Q^2$ where $Q$ is the flow rate in cubic feet per second. The units for $K_{AHU}$ are $\\frac{ft\\,lbf}{lbm}$. The head loss across the chiller is taken to be $0.1Q^2$. The Therminol D-12 exits the chiller $25^\\circ F$ cooler than it enters. The lines are well insulated.\n",
    "\n",
    "The fluid properties are to be taken at $50^\\circ F$ because this is the average working temperature of therminol. The temperature is also assumed to be constant. The following properties were [found](https://www.eastman.com/Literature_Center/T/TF15.pdf#_ga=2.207178966.454563214.1645229250-970220635.1645229250):\n",
    "\n",
    "$\\rho=48.05\\frac{lbm}{ft^3}$ \\\n",
    "$c_p=0.491\\frac{Btu}{lbm\\,^\\circ F}$ \\\n",
    "$\\mu=3.715\\frac{lbm}{ft\\,hr}$\n",
    "\n",
    "The piping material used for this system will be galvanized steel, a common piping material for chiller systems. The absolute roughness of galvanized steel is 0.0005'. Galvanized steel is also useful for combating corrosion.\n",
    "\n",
    "# Solution\n",
    "The first step is to obtain a physical mapping of the airport. A schematic of the airport was given to determine a rough idea of the lengths for each line. The location of the mechanical rooms were assumed to be somewhere in the center of each airside (shown in Figure 2).\n",
    "\n",
    "## Physical Mapping\n",
    "\n",
    "\\begin{center}\n",
    "\\includegraphics{figures/Physical_Map} \\\\\n",
    "Figure 2: Physical Map of the Chiller System\n",
    "\\end{center}\n",
    "\n",
    "The lateral distance between pipes shown above is slightly exaggerated to make it clear of the individual pipes. It is especially exaggerated around airside 4 (the parallel arrangement).\n",
    "\n",
    "### Pipe Lengths\n",
    "\n",
    "\\begin{center}\n",
    "\\includegraphics{figures/Lengths} \\\\\n",
    "Figure 3: Z-Network Schematic of Lengths\n",
    "\\end{center}\n",
    "\n",
    "Figure 3 shows the lengths associated with each line. The original length is shown in parentheses, and the added lengths are shown if there is a change in elevation or if the line is in a mechanical room (additional 50 feet). Here is a summary of the lengths for each of the 11 lines:\n",
    "\n",
    "* Pipe 1: Original length is 2800'. Assumed to be at ground level, so add the piping that goes 20' up and 20' down to the tunnels. Total length is **2840'**\n",
    "* Pipe 2: Original length is 2250'. This line runs through a mechanical room that is 40' up from the tunnels, then an additional 50' in the mechanical room, then 40' back down to the tunnels. The total length is **2380'**\n",
    "* Pipe 3: There is no elevation change. The total length is **1300'**\n",
    "* Pipe 4: The original length is 1500'. This line runs through a mechanical room, so an additional 130' is added to account for the elevation change and additional length within the room. The total length is **1630'**.\n",
    "* Pipe 5: There is no elevation change. The total length is **3000'**.\n",
    "* Pipe 6: There is no elevation change. The total length is **5000'**.\n",
    "* Pipe 7: The original length on the map is 1500'. The line runs up to the mechanical room, but does not run through the mechanical room. Pipe 7 splits up prior to the parallel arrangement in airside 4, then meets up with lines 8 and 9 and returns to the tunnel. Although it is two different pipes, the flow rate is the same, so it will be analysed as if it were one pipe. The total length is **1580'**.\n",
    "* Pipe 8: The original length is 1500'. It runs through the mechanical room, adding 50'. The total length is **1550'**.\n",
    "* Pipe 9: The original length is 1500'. It runs through the mechanical room, adding 50'. The total length is **1550'**.\n",
    "* Pipe 10: The original length is 5000'. It runs through a mechanical room and changes elevation when doing so. The total length is **5130'**.\n",
    "* Pipe 11: There is no elevation change. The total length is **1875'**.\n",
    "\n",
    "### Pipe Fittings and Valve Requirements\n",
    "\n",
    "\\begin{center}\n",
    "\\includegraphics{figures/Physical_Valve} \\\\\n",
    "Figure 4: Physical Map of Valve Placements\n",
    "\\end{center}\n",
    "\n",
    "Figure 4 shows the exaggerated valve placements (the blue dots). The specifications require that the flow is able to be completely shutoff valve; therefore, one shutoff valve will be placed in each line.\n",
    "\n",
    "\\begin{center}\n",
    "\\includegraphics{figures/Schematic_Valves} \\\\\n",
    "Figure 5: Schematic of Valve Placements\n",
    "\\end{center}\n",
    "\n",
    "Figure 5 shows a clearer network of the pipe placements. The valves will be gate valves, since it is the most common type of shutoff valve. The loss per each gate valve is $K=8f_T$ (each line will have $C=8$ because this is the only loss considered that gets multiplied by $f_T$). The fittings used for this network will be standard tee (for splitting the flow) and elbow fittings (for changing direction). There is a lot of approximation when it comes to the fittings, but the major losses and losses across the air handling units for this case should triumph over the loss produced by the fittings, since the lengths of each pipe are thousands of feet. All the pipes will have a loss due to the entrance and exit for each individual pipe ($K=1.78$). The loss due to the tee connections will be ignored (only 8 tee connections total), but losses due to elbows will be considered due to the larger quantity ($K_{elbow}=0.75$). The number of elbows is estimated based on a change in direction looking down on the top plane (the point of view in the above figures) and the change in direction perpendicular to the top view (coming out or into the page from the point of view in the above figures). Here is a description for the minor losses in each pipe (each fitting is visualized in Figure 4):\n",
    "\n",
    "* Pipe 1: It is possible with the mapping shown in Figure 2 and 4 for there to be no elbows because there is no change in direction on the top plane or an orthogonal plane coming out of the page. $K_1=1.78$\n",
    "* Pipe 2: There is one elbow to change direction toward airside 3 and 4 elbows to change direction coming into and out of the page. $K_2=1.78+5(0.75)=5.53$\n",
    "* Pipe 3: No changes in direction. $K_3=1.78$\n",
    "* Pipe 4: Contains an elbow to change direction toward airside 4 and four more due to the elevation change. $K_4=1.78+5(0.75)=5.53$\n",
    "* Pipe 5: There are 2 elbows to change direction toward airside 4. $K_5=1.78+2(0.75)=3.28$\n",
    "* Pipe 6: It has 2 elbows to change direction along the top plane. $K_6=1.78+2(0.75)=3.28$\n",
    "* Pipe 7: Contains no additional elbows. $K_7=1.78$\n",
    "* Pipe 8: Contains 5 elbows. $K_8=1.78+5(0.75)=5.53$\n",
    "* Pipe 9: Contains 7 elbows $K_9=1.78+7(0.75)=7.03$\n",
    "* Pipe 10: Contains four elbows for changing direction on the top plane and an additional four for elevation change. $K_{10}=1.78+8(0.75)=7.78$\n",
    "* Pipe 11: Contains 1 elbow. $K_{11}=1.78+0.75=2.53$\n",
    "\n",
    "## Boundary Conditions\n",
    "The minimum flow rate across each air handling unit may be found using this relationship,\n",
    "\n",
    "\\begin{center}\n",
    "$q=\\dot{m}c_p\\Delta T$ \\\\\n",
    "$\\dot{m}=\\rho Q$\n",
    "\\end{center}\n",
    "\n",
    "where $q$ is the energy in tons given in Table 1. Keeping an eye on the units, $Q$ may be solved.\n",
    "\n",
    "\\begin{center}\n",
    "$Q_{min}=\\frac{q}{c_p\\Delta T\\rho}\\rightarrow Q_{min}=\\frac{10q}{3c_p\\Delta T \\rho}\\frac{ft^3}{s}$\n",
    "\\end{center}\n",
    "\n",
    "The above expression is true for the units of $c_p$ and $\\rho$ defined in the Given section and with $q$ in tons. The upper bound of the flow rate is going to be 3.5%$\\cdot Q_{min}+Q_{min}$."
   ],
   "metadata": {
    "collapsed": false,
    "pycharm": {
     "name": "#%% md\n"
    }
   }
  },
  {
   "cell_type": "code",
   "execution_count": 2,
   "outputs": [
    {
     "data": {
      "text/plain": "array([2.71272075, 2.71272075, 1.27158785, 1.27158785, 2.71272075])"
     },
     "execution_count": 2,
     "metadata": {},
     "output_type": "execute_result"
    }
   ],
   "source": [
    "# Finding the upper and lower bounds\n",
    "q = np.array([480, 480, 225, 225, 480])  # In numerical order according to Figure 5\n",
    "c_p, rho, del_T = 0.491, 48.05, 25  # Units are described earlier\n",
    "\n",
    "Q_min = (10*q)/(3*c_p*del_T*rho)\n",
    "Q_min"
   ],
   "metadata": {
    "collapsed": false,
    "pycharm": {
     "name": "#%%\n"
    }
   }
  },
  {
   "cell_type": "code",
   "execution_count": 3,
   "outputs": [
    {
     "data": {
      "text/plain": "array([2.80766598, 2.80766598, 1.31609343, 1.31609343, 2.80766598])"
     },
     "execution_count": 3,
     "metadata": {},
     "output_type": "execute_result"
    }
   ],
   "source": [
    "Q_max = Q_min + Q_min*0.035\n",
    "Q_max"
   ],
   "metadata": {
    "collapsed": false,
    "pycharm": {
     "name": "#%%\n"
    }
   }
  },
  {
   "cell_type": "markdown",
   "source": [
    "The boundary conditions are,\n",
    "\n",
    "$2.713\\le Q_2< 2.808$ \\\n",
    "$2.713\\le Q_4< 2.808$ \\\n",
    "$1.272\\le Q_8< 1.316$ \\\n",
    "$1.272\\le Q_9< 1.316$ \\\n",
    "$2.713\\le Q_{10}< 2.808$\n",
    "\n",
    "where $Q$ is in $\\frac{ft^3}{s}$. The only other boundary condition is that the velocity of the fluid in all the pipes has to be less than $9\\frac{ft}{s}$.\n",
    "\n",
    "## Diameter Selections\n",
    "The minimum diameter for the pipes containing the air handling units may be found using,\n",
    "\n",
    "\\begin{center}\n",
    "$Q=VA=V\\frac{\\pi}{4}D^2$ \\\\\n",
    "$D^2=\\frac{4Q}{V\\pi}$  \\\\\n",
    "$D_{min}=\\sqrt{\\frac{4Q_{min}}{V_{max}\\pi}}$\n",
    "\\end{center}\n",
    "\n",
    "where $Q_{min}$ was solved above, and the maximum velocity is $9\\frac{ft}{s}$."
   ],
   "metadata": {
    "collapsed": false,
    "pycharm": {
     "name": "#%% md\n"
    }
   }
  },
  {
   "cell_type": "code",
   "execution_count": 4,
   "outputs": [
    {
     "data": {
      "text/plain": "array([0.61949292, 0.61949292, 0.42413781, 0.42413781, 0.61949292])"
     },
     "execution_count": 4,
     "metadata": {},
     "output_type": "execute_result"
    }
   ],
   "source": [
    "# Calculating the minimum diameters\n",
    "D_min = (4*Q_min/(9*np.pi))**0.5\n",
    "D_min  # In ft"
   ],
   "metadata": {
    "collapsed": false,
    "pycharm": {
     "name": "#%%\n"
    }
   }
  },
  {
   "cell_type": "markdown",
   "source": [
    "Schedule 40 piping will be used for this analysis because it is commonly used for chiller systems and encompasses inner diameters greater than the values shown above. A chart for schedule 40 piping can be [found here](https://www.octalsteel.com/pdf/pipe-schedule-chart-inch.pdf)."
   ],
   "metadata": {
    "collapsed": false,
    "pycharm": {
     "name": "#%% md\n"
    }
   }
  },
  {
   "cell_type": "code",
   "execution_count": 5,
   "outputs": [
    {
     "data": {
      "text/plain": "<IPython.core.display.Latex object>",
      "text/latex": "\\begin{tabular}{rrrrr}\n\\toprule\n NPS &  Outer Diameter (in) &  Thickness (in) &  Inner Diameter (in) &  Inner Diameter (ft) \\\\\n\\midrule\n   5 &                5.563 &           0.258 &                5.047 &             0.420583 \\\\\n   6 &                6.625 &           0.280 &                6.065 &             0.505417 \\\\\n   8 &                8.625 &           0.322 &                7.981 &             0.665083 \\\\\n  10 &               10.750 &           0.365 &               10.020 &             0.835000 \\\\\n  12 &               12.750 &           0.406 &               11.938 &             0.994833 \\\\\n  14 &               14.000 &           0.438 &               13.124 &             1.093667 \\\\\n  16 &               16.000 &           0.500 &               15.000 &             1.250000 \\\\\n  18 &               18.000 &           0.562 &               16.876 &             1.406333 \\\\\n  20 &               20.000 &           0.594 &               18.812 &             1.567667 \\\\\n\\bottomrule\n\\end{tabular}\n"
     },
     "metadata": {},
     "output_type": "display_data"
    }
   ],
   "source": [
    "# Getting a table of values to choose from\n",
    "nps = np.array([5, 6, 8, 10, 12, 14, 16, 18, 20])  # Nominal Pipe Size (in)\n",
    "od = np.array([5.563, 6.625, 8.625, 10.75, 12.75, 14, 16, 18, 20])  # Outer Diameter (in)\n",
    "t = np.array([0.258, 0.28, 0.322, 0.365, 0.406, 0.438, 0.5, 0.562, 0.594])  # Thickness (in)\n",
    "id_ = od - 2*t  # Inner Diameter (in)\n",
    "id_ft = id_/12\n",
    "\n",
    "df = pd.DataFrame({'NPS': nps, 'Outer Diameter (in)': od, 'Thickness (in)': t, 'Inner Diameter (in)': id_, 'Inner Diameter (ft)': id_ft})\n",
    "# df\n",
    "display(Latex(df.to_latex(index=False)))"
   ],
   "metadata": {
    "collapsed": false,
    "pycharm": {
     "name": "#%%\n"
    }
   }
  },
  {
   "cell_type": "markdown",
   "source": [
    "There are four diameters that need to be considered: the main line, the supply lines, the lines across air handling units 1, 2, and 3, and the lines across air handling units in airside 4. The main pipeline (line 1) needs to be the largest diameter because it will have the largest flow rate. Increasing the diameter will help to decrease the velocity. The lines with the air handling units need to be smaller, and air handling units in airside 4 can have smaller diameters than the lines that run through the other units because its flow rate doesn't have to be as high (as seen in the Boundary Conditions section).\n",
    "\n",
    "The diameter choices are,\n",
    "\n",
    "* 20 NPS for the main line\n",
    "* 12 NPS for the supply and return lines\n",
    "* 10 NPS for AHU 1, 2, and 3\n",
    "* 8 NPS for AHU 4 (both lines)\n",
    "\n",
    "Table 2 is a summary for all the decisions made thus far.\n",
    "\n",
    "\\begin{center}\n",
    "Table 2: Summary of Piping\n",
    "\\end{center}\n",
    "\n",
    "| Pipe | L (ft) | D (in) | # Valves | # Elbows | K    | C   |\n",
    "|------|--------|--------|----------|----------|------|-----|\n",
    "| 1    | 2840   | 18.812 | 1        | 0        | 1.78 | 8   |\n",
    "| 2    | 2380   | 10.02  | 1        | 5        | 5.53 | 8   |\n",
    "| 3    | 1300   | 11.938 | 1        | 0        | 1.78 | 8   |\n",
    "| 4    | 1630   | 10.02  | 1        | 5        | 5.53 | 8   |\n",
    "| 5    | 3000   | 11.938 | 1        | 2        | 3.28 | 8   |\n",
    "| 6    | 5000   | 11.938 | 1        | 2        | 3.28 | 8   |\n",
    "| 7    | 1580   | 11.938 | 1        | 0        | 1.78 | 8   |\n",
    "| 8    | 1550   | 7.981  | 1        | 5        | 5.53 | 8   |\n",
    "| 9    | 1550   | 7.981  | 1        | 7        | 7.03 | 8   |\n",
    "| 10   | 5130   | 10.02  | 1        | 8        | 7.78 | 8   |\n",
    "| 11   | 1875   | 11.938 | 1        | 1        | 2.53 | 8   |\n",
    "\n",
    "\\begin{center}\n",
    "Material: Galvanized Steel (Schedule 40) \\\\\n",
    "Absolute Roughness: $\\epsilon=0.0005\\,ft$ \\\\\n",
    "Working Fluid: Therminol D-12 \\\\\n",
    "Density: $\\rho=48.05\\frac{lbm}{ft^3}$ \\\\\n",
    "Heat Capacity: $c_p=0.491\\frac{Btu}{lbm^\\circ F}$ \\\\\n",
    "Viscosity: $\\mu=3.715\\frac{lbm}{ft\\,hr}$\n",
    "\\end{center}\n",
    "\n",
    "Assumptions:\n",
    "\n",
    "* Working fluid is constant temperature\n",
    "* Loss is ignored for tee connections but valid for entrance and exit and for elbow connections. Although the system appears to be closed, each individual pipe experiences a loss due to fluid entering and exiting.\n",
    "* The elbow connections for the layout on a large scale is considered. The elbow connections within a mechanical room is unknown and neglected.\n",
    "* The estimated loss for fittings is approximated and may or may not be accurate, but most of the loss is major, meaning that it's ok to be off with the fittings.\n",
    "\n",
    "Totals:\n",
    "\n",
    "* Number of Tees: 8\n",
    "* Number of Elbows: 35\n",
    "* Pipe Length: 27,835 ft\n",
    "\n",
    "## Kirchhoff Setup\n",
    "\n",
    "\\begin{center}\n",
    "\\includegraphics{figures/Kirchhoff} \\\\\n",
    "Figure 6: Kirchhoff Network\n",
    "\\end{center}\n",
    "\n",
    "The relationship for the losses across the air handling units and the chiller result in units of feet upon converting $lbm$ to $slugs$ and dividing by $g$. This means that the rest of the terms in the system also need to be expressed in feet (make sure everything is divided by $g$ for the loop equations). From Figure 6, the following system may be formed:\n",
    "\n",
    "\\begin{center}\n",
    "$\\begin{cases}\n",
    "Q_1=Q_3+Q_2 \\\\\n",
    "Q_3=Q_4+Q_5 \\\\\n",
    "Q_6=Q_2+Q_4 \\\\\n",
    "Q_5=Q_7+Q_{10} \\\\\n",
    "Q_7=Q_8+Q_9 \\\\\n",
    "Q_{11}=Q_6+Q_7 \\\\\n",
    "h_2+K_1Q_2|Q_2|+h_6+h_{11}+h_1-W_s+0.1Q_1|Q_1|=0 \\\\\n",
    "h_4+K_3Q_4|Q_4|-h_2-K_1Q_2|Q_2|+h_3=0 \\\\\n",
    "h_7+h_8+K_4Q_8|Q_8|-h_6-h_4-K_3Q_4|Q_4|+h_5=0 \\\\\n",
    "h_9+K_4Q_9|Q_9|-h_8-K_4Q_8|Q_8|=0 \\\\\n",
    "h_{10}+K_2Q_{10}|Q_{10}|-h_{11}-h_7-h_9-K_4Q_9|Q_9|=0\n",
    "\\end{cases}$\n",
    "\\end{center}\n",
    "\n",
    "The $Q_i|Q_i|$ is very important because it allows for the losses to always work again the flow if a negative flow rate gets calculated. For this system, the flow rates should all be positive, but solvers may calculate a negative value before converging to the final result and having $Q^2$ may result in an invalid solution. This same concept should be applied to the $h_i$ functions. In the code, everywhere a `.h()` is seen, just know that this is what is being returned:\n",
    "\n",
    "\\begin{center}\n",
    "$h=\\frac{8Q|Q|}{g\\pi^2D^4}(\\frac{L}{D}f+K+C\\cdot f_T)$\n",
    "\\end{center}\n",
    "\n",
    "## Unbalanced Solution\n",
    "With no corrections to the system, this is the result."
   ],
   "metadata": {
    "collapsed": false,
    "pycharm": {
     "name": "#%% md\n"
    }
   }
  },
  {
   "cell_type": "code",
   "execution_count": 6,
   "outputs": [
    {
     "data": {
      "text/plain": "array([14.52599372,  4.00530898, 10.52068474,  2.74871641,  7.77196833,\n        6.75402539,  3.77988801,  1.89543065,  1.88445736,  3.99208032,\n       10.5339134 ])"
     },
     "execution_count": 6,
     "metadata": {},
     "output_type": "execute_result"
    }
   ],
   "source": [
    "# Define known constants\n",
    "K1, K2, K3, K4 = 4.5, 4.5, 4.5, 10  # Loss coefficients\n",
    "\n",
    "rho = 48.05/32.174  # In slugs per cubic feet\n",
    "mu = 3.715/(3600*32.174)  # In slugs per (ft s) or lbf*s per ft squared\n",
    "epsilon = 0.0005  # In ft\n",
    "\n",
    "D20, D12, D10, D8 = np.array([18.812, 11.938, 10.02, 7.981])/12  # Diameters in ft\n",
    "\n",
    "Ws = 380  # in ft\n",
    "\n",
    "def unbalanced(x):\n",
    "    Q1, Q2, Q3, Q4, Q5, Q6, Q7, Q8, Q9, Q10, Q11 = x\n",
    "    # all expressions need to be set to zero\n",
    "    return [\n",
    "        Q1 - Q2 - Q3,\n",
    "        Q6 - Q2 - Q4,\n",
    "        Q3 - Q4 - Q5,\n",
    "        Q5 - Q10 - Q7,\n",
    "        Q7 - Q8 - Q9,\n",
    "        Q11 - Q6 - Q7,\n",
    "        K1*Q2*abs(Q2) + p2.h(Q2) + p6.h(Q6) + p11.h(Q11) + p1.h(Q1) - Ws + 0.1*Q1*abs(Q1),\n",
    "        p4.h(Q4) + K3*Q4*abs(Q4) - p2.h(Q2) - K1*Q2*abs(Q2) + p3.h(Q3),\n",
    "        p7.h(Q7) + p8.h(Q8) + K4*Q8*abs(Q8) - p6.h(Q6) - p4.h(Q4) - K3*Q4*abs(Q4) + p5.h(Q5),\n",
    "        p9.h(Q9) + K4*Q9*abs(Q9) - p8.h(Q8) - K4*Q8*abs(Q8),\n",
    "        p10.h(Q10) + K2*Q10*abs(Q10) - p11.h(Q11) - p9.h(Q9) - K4*Q9*abs(Q9) - p7.h(Q7)\n",
    "    ]\n",
    "\n",
    "p1 = Pipe(D20, 2840, epsilon, rho, mu, K=1.78, C=8)\n",
    "p2 = Pipe(D10, 2380, epsilon, rho, mu, K=5.53, C=8)\n",
    "p3 = Pipe(D12, 1300, epsilon, rho, mu, K=1.78, C=8)\n",
    "p4 = Pipe(D10, 1630, epsilon, rho, mu, K=5.53, C=8)\n",
    "p5 = Pipe(D12, 3000, epsilon, rho, mu, K=3.28, C=8)\n",
    "p6 = Pipe(D12, 5000, epsilon, rho, mu, K=3.28, C=8)\n",
    "p7 = Pipe(D12, 1580, epsilon, rho, mu, K=1.78, C=8)\n",
    "p8 = Pipe(D8, 1550, epsilon, rho, mu, K=5.53, C=8)\n",
    "p9 = Pipe(D8, 1550, epsilon, rho, mu, K=7.03, C=8)\n",
    "p10 = Pipe(D10, 5130, epsilon, rho, mu, K=7.78, C=8)\n",
    "p11 = Pipe(D12, 1875, epsilon, rho, mu, K=2.53, C=8)\n",
    "\n",
    "pipes = [p1, p2, p3, p4, p5, p6, p7, p8, p9, p10, p11]\n",
    "\n",
    "Q_guess = np.array([5, 1, 4, 2, 2, 3, 1, 3, -2, 1, 4])  # This does satisfy mass conservation\n",
    "unbalanced_sol = fsolve(unbalanced, Q_guess)\n",
    "unbalanced_sol"
   ],
   "metadata": {
    "collapsed": false,
    "pycharm": {
     "name": "#%%\n"
    }
   }
  },
  {
   "cell_type": "markdown",
   "source": [
    "To capture the repetitive process of testing to see if the flow rates lie within range of the boundary conditions, this function was created."
   ],
   "metadata": {
    "collapsed": false,
    "pycharm": {
     "name": "#%% md\n"
    }
   }
  },
  {
   "cell_type": "code",
   "execution_count": 7,
   "outputs": [
    {
     "data": {
      "text/plain": "<IPython.core.display.Latex object>",
      "text/latex": "\\begin{tabular}{rrrlll}\n\\toprule\n Pipe &         Q &        V & V<9 & 2.713<=Q<2.808 & 1.272<=Q<1.316 \\\\\n\\midrule\n    1 & 14.525994 & 6.699353 & Yes &              - &              - \\\\\n    2 &  4.005309 & 8.102744 & Yes &             No &              - \\\\\n    3 & 10.520685 & 6.965156 & Yes &              - &              - \\\\\n    4 &  2.748716 & 8.639212 & Yes &            Yes &              - \\\\\n    5 &  7.771968 & 8.649708 & Yes &              - &              - \\\\\n    6 &  6.754025 & 6.879611 & Yes &              - &              - \\\\\n    7 &  3.779888 & 5.034698 & Yes &              - &              - \\\\\n    8 &  1.895431 & 5.538109 & Yes &              - &             No \\\\\n    9 &  1.884457 & 8.716428 & Yes &              - &             No \\\\\n   10 &  3.992080 & 8.110157 & Yes &             No &              - \\\\\n   11 & 10.533913 & 8.005548 & Yes &              - &              - \\\\\n\\bottomrule\n\\end{tabular}\n"
     },
     "metadata": {},
     "output_type": "display_data"
    }
   ],
   "source": [
    "# Making a test function\n",
    "# Returns a dataframe\n",
    "\n",
    "def test(pipes_, flow_rates):\n",
    "    lines = range(1, len(pipes_) + 1)\n",
    "    Q_values, V_values = [], []\n",
    "    AHU_1_3, AHU_4 = [], []\n",
    "    V_less = []\n",
    "\n",
    "    for pipe_, Q_, i in zip(pipes_, flow_rates, lines):\n",
    "        Q_values.append(Q_)\n",
    "        V_ = pipe_.V(Q_)\n",
    "        V_values.append(V_)\n",
    "\n",
    "        if V_ < 9:\n",
    "            V_less.append('Yes')\n",
    "        else:\n",
    "            V_less.append('No')\n",
    "\n",
    "        if i in [2, 4, 10]:\n",
    "            if 2.713 <= Q_ < 2.808:\n",
    "                AHU_1_3.append('Yes')\n",
    "            else:\n",
    "                AHU_1_3.append('No')\n",
    "        else:\n",
    "            AHU_1_3.append('-')\n",
    "\n",
    "        if i in [8, 9]:\n",
    "            if 1.272 <= Q_ < 1.316:\n",
    "                AHU_4.append('Yes')\n",
    "            else:\n",
    "                AHU_4.append('No')\n",
    "        else:\n",
    "            AHU_4.append('-')\n",
    "\n",
    "    return pd.DataFrame({'Pipe': lines, 'Q': Q_values, 'V': V_values, 'V<9': V_less, '2.713<=Q<2.808': AHU_1_3, r'1.272<=Q<1.316': AHU_4})\n",
    "\n",
    "unbalanced_test = test(pipes, unbalanced_sol)\n",
    "# unbalanced_test\n",
    "display(Latex(unbalanced_test.to_latex(index=False)))"
   ],
   "metadata": {
    "collapsed": false,
    "pycharm": {
     "name": "#%%\n"
    }
   }
  },
  {
   "cell_type": "markdown",
   "source": [
    "The unbalanced solution shown above is the case where all the flow rates are either within range of the boundary conditions or above the range of the boundary conditions. For this system, this occurs with a main pump head of 380 ft. Line 4 appears to be what is causing the main issue. The balanced solution with only adding losses is to be considered.\n",
    "\n",
    "## Balanced Solution with Turn Down Valves\n",
    "Adding turn down valves to the lines that exceed the boundary conditions is considered. Line 4 will not receive any turn down valves because that line is the limiting factor for the whole system. Also, leaving that line free from turn down valves will prevent bucking of the pump. The losses of gate valves are considered:\n",
    "\n",
    "* $\\frac{3}{4}$ open: $K=0.9$\n",
    "* $\\frac{1}{2}$ open: $K=4.5$\n",
    "* $\\frac{1}{4}$ open: $K=21$"
   ],
   "metadata": {
    "collapsed": false,
    "pycharm": {
     "name": "#%% md\n"
    }
   }
  },
  {
   "cell_type": "code",
   "execution_count": 8,
   "outputs": [
    {
     "data": {
      "text/plain": "<IPython.core.display.Latex object>",
      "text/latex": "\\begin{tabular}{rrrlll}\n\\toprule\n Pipe &         Q &         V & V<9 & 2.713<=Q<2.808 & 1.272<=Q<1.316 \\\\\n\\midrule\n    1 & 10.979644 &  7.877801 & Yes &              - &              - \\\\\n    2 &  2.791550 &  6.250675 & Yes &            Yes &              - \\\\\n    3 &  8.188094 & 10.643675 &  No &              - &              - \\\\\n    4 &  2.801328 &  5.408279 & Yes &            Yes &              - \\\\\n    5 &  5.386766 &  6.774984 & Yes &              - &              - \\\\\n    6 &  5.592878 &  7.259036 & Yes &              - &              - \\\\\n    7 &  2.611444 &  6.589383 & Yes &              - &              - \\\\\n    8 &  1.306392 &  8.643382 & Yes &              - &            Yes \\\\\n    9 &  1.305051 &  7.795462 & Yes &              - &            Yes \\\\\n   10 &  2.775323 &  6.245239 & Yes &            Yes &              - \\\\\n   11 &  8.204321 & 10.664769 &  No &              - &              - \\\\\n\\bottomrule\n\\end{tabular}\n"
     },
     "metadata": {},
     "output_type": "display_data"
    }
   ],
   "source": [
    "# Getting the balanced solution using turn down valves\n",
    "# Define new pipe objects with easy to manipulate the loss coefficients\n",
    "\n",
    "k1_ = 0*0.9 + 0*4.5 + 0*24\n",
    "k2_ = 0*0.9 + 0*4.5 + 16*24\n",
    "k3_ = 1*0.9 + 0*4.5 + 0*24\n",
    "k4_ = 0*0.9 + 0*4.5 + 12*24\n",
    "k5_ = 0*0.9 + 0*4.5 + 2*24\n",
    "k6_ = 0*0.9 + 0*4.5 + 0*24\n",
    "k7_ = 0*0.9 + 0*4.5 + 0*24\n",
    "k8_ = 0*0.9 + 0*4.5 + 25*24\n",
    "k9_ = 0*0.9 + 0*4.5 + 25*24\n",
    "k10_ = 0*0.9 + 0*4.5 + 15*24\n",
    "k11_ = 0*0.9 + 0*4.5 + 0*24\n",
    "\n",
    "p1_ = Pipe(D20, 2840, epsilon, rho, mu, K=1.78 + k1_, C=8)\n",
    "p2_ = Pipe(D10, 2380, epsilon, rho, mu, K=5.53 + k2_, C=8)\n",
    "p3_ = Pipe(D12, 1300, epsilon, rho, mu, K=1.78 + k3_, C=8)\n",
    "p4_ = Pipe(D10, 1630, epsilon, rho, mu, K=5.53 + k4_, C=8)\n",
    "p5_ = Pipe(D12, 3000, epsilon, rho, mu, K=3.28 + k5_, C=8)\n",
    "p6_ = Pipe(D12, 5000, epsilon, rho, mu, K=3.28 + k6_, C=8)\n",
    "p7_ = Pipe(D12, 1580, epsilon, rho, mu, K=1.78 + k7_, C=8)\n",
    "p8_ = Pipe(D8, 1550, epsilon, rho, mu, K=5.53 + k8_, C=8)\n",
    "p9_ = Pipe(D8, 1550, epsilon, rho, mu, K=7.03 + k9_, C=8)\n",
    "p10_ = Pipe(D10, 5130, epsilon, rho, mu, K=7.78 + k10_, C=8)\n",
    "p11_ = Pipe(D12, 1875, epsilon, rho, mu, K=2.53 + k11_, C=8)\n",
    "\n",
    "new_pipes = [p1_, p2_, p3_, p4_, p5_, p6_, p7_, p8_, p9_, p10_, p11_]\n",
    "\n",
    "Ws_ = 380\n",
    "\n",
    "def balanced_turn_down(x):\n",
    "    Q1, Q2, Q3, Q4, Q5, Q6, Q7, Q8, Q9, Q10, Q11 = x\n",
    "    # all expressions need to be set to zero\n",
    "    return [\n",
    "        Q1 - Q2 - Q3,\n",
    "        Q6 - Q2 - Q4,\n",
    "        Q3 - Q4 - Q5,\n",
    "        Q5 - Q10 - Q7,\n",
    "        Q7 - Q8 - Q9,\n",
    "        Q11 - Q6 - Q7,\n",
    "        K1*Q2*abs(Q2) + p2_.h(Q2) + p6_.h(Q6) + p11_.h(Q11) + p1_.h(Q1) - Ws_ + 0.1*Q1*abs(Q1),\n",
    "        p4_.h(Q4) + K3*Q4*abs(Q4) - p2_.h(Q2) - K1*Q2*abs(Q2) + p3_.h(Q3),\n",
    "        p7_.h(Q7) + p8_.h(Q8) + K4*Q8*abs(Q8) - p6_.h(Q6) - p4_.h(Q4) - K3*Q4*abs(Q4) + p5_.h(Q5),\n",
    "        p9_.h(Q9) + K4*Q9*abs(Q9) - p8_.h(Q8) - K4*Q8*abs(Q8),\n",
    "        p10_.h(Q10) + K2*Q10*abs(Q10) - p11_.h(Q11) - p9_.h(Q9) - K4*Q9*abs(Q9) - p7_.h(Q7)\n",
    "    ]\n",
    "\n",
    "balanced_turn_down_sol = fsolve(balanced_turn_down, Q_guess)\n",
    "balanced_turn_down_test = test(new_pipes, balanced_turn_down_sol)\n",
    "# balanced_turn_down_test\n",
    "display(Latex(balanced_turn_down_test.to_latex(index=False)))"
   ],
   "metadata": {
    "collapsed": false,
    "pycharm": {
     "name": "#%%\n"
    }
   }
  },
  {
   "cell_type": "markdown",
   "source": [
    "The above solution has the following description:\n",
    "\n",
    "* 16 additional 1/4 open gate valves on line 2 ($K_2=389.53$)\n",
    "* 1 additional 3/4 open gate valve on line 3 ($K_3=2.68$)\n",
    "* 12 additional 1/4 open gate valves on line 4 ($K_4=293.53$)\n",
    "* 2 additional 1/4 open gate valves on line 5 ($K_5=51.28$)\n",
    "* 25 additional 1/4 open gate valves on lines 8 and 9 ($K_8=605.53$ and $K_9=607.03$)\n",
    "* 15 additional 1/4 open gate valves on line 10 ($K_{10}=367.78$)\n",
    "\n",
    "Even with these ridiculous loss additions, not all lines have velocities under 9 cfs. Because the additional loss required to reach a balance using turn down valves exceeds 50 in some pipes, this option will not be considered, nor attempted to further correct. Also, in order to gain more control over this type of analysis, turn down valves were added to all four lines (could not be avoided). This is not a good design because bucking of the pump would occur. Balancing using booster pumps is to be investigated."
   ],
   "metadata": {
    "collapsed": false,
    "pycharm": {
     "name": "#%% md\n"
    }
   }
  },
  {
   "cell_type": "markdown",
   "source": [
    "## Balanced Solution Using Booster Pumps\n",
    "\n",
    "\\begin{center}\n",
    "\\includegraphics{figures/Booster} \\\\\n",
    "Figure 7: Booster Balance\n",
    "\\end{center}\n",
    "\n",
    "The balanced solution will add booster pumps to line 2, 4, 7, and 10. This changes the system of equations to,\n",
    "\n",
    "\\begin{center}\n",
    "$\\begin{cases}\n",
    "Q_1=Q_3+Q_2 \\\\\n",
    "Q_3=Q_4+Q_5 \\\\\n",
    "Q_6=Q_2+Q_4 \\\\\n",
    "Q_5=Q_7+Q_{10} \\\\\n",
    "Q_7=Q_8+Q_9 \\\\\n",
    "Q_{11}=Q_6+Q_7 \\\\\n",
    "h_2+K_1Q_2|Q_2|+h_6+h_{11}+h_1-150+0.1Q_1|Q_1|-b_2=0 \\\\\n",
    "h_4+K_3Q_4|Q_4|-h_2-K_1Q_2|Q_2|+h_3+b_2-b_4=0 \\\\\n",
    "h_7+h_8+K_4Q_8|Q_8|-h_6-h_4-K_3Q_4|Q_4|+h_5+b_4-b_7=0 \\\\\n",
    "h_9+K_4Q_9|Q_9|-h_8-K_4Q_8|Q_8|=0 \\\\\n",
    "h_{10}+K_2Q_{10}|Q_{10}|-h_{11}-h_7-h_9-K_4Q_9|Q_9|+b_7-b_{10}=0\n",
    "\\end{cases}$\n",
    "\\end{center}"
   ],
   "metadata": {
    "collapsed": false
   }
  },
  {
   "cell_type": "code",
   "execution_count": 9,
   "outputs": [
    {
     "data": {
      "text/plain": "<IPython.core.display.Latex object>",
      "text/latex": "\\begin{tabular}{rrrlll}\n\\toprule\n Pipe &         Q &        V & V<9 & 2.713<=Q<2.808 & 1.272<=Q<1.316 \\\\\n\\midrule\n    1 & 10.692539 & 5.732650 & Yes &              - &              - \\\\\n    2 &  2.713009 & 7.451870 & Yes &            Yes &              - \\\\\n    3 &  7.979530 & 6.007410 & Yes &              - &              - \\\\\n    4 &  2.713247 & 7.666423 & Yes &            Yes &              - \\\\\n    5 &  5.266283 & 6.254602 & Yes &              - &              - \\\\\n    6 &  5.426256 & 6.043785 & Yes &              - &              - \\\\\n    7 &  2.552338 & 6.691457 & Yes &              - &              - \\\\\n    8 &  1.279845 & 7.525854 & Yes &              - &            Yes \\\\\n    9 &  1.272493 & 5.704194 & Yes &              - &            Yes \\\\\n   10 &  2.713944 & 5.054272 & Yes &            Yes &              - \\\\\n   11 &  7.978595 & 5.784762 & Yes &              - &              - \\\\\n\\bottomrule\n\\end{tabular}\n"
     },
     "metadata": {},
     "output_type": "display_data"
    }
   ],
   "source": [
    "# Balancing using booster pumps\n",
    "\n",
    "Ws__ = 145\n",
    "\n",
    "def balanced(x, b2, b4, b7, b10):\n",
    "    Q1, Q2, Q3, Q4, Q5, Q6, Q7, Q8, Q9, Q10, Q11 = x\n",
    "    # all expressions need to be set to zero\n",
    "    return [\n",
    "        Q1 - Q2 - Q3,\n",
    "        Q6 - Q2 - Q4,\n",
    "        Q3 - Q4 - Q5,\n",
    "        Q5 - Q10 - Q7,\n",
    "        Q7 - Q8 - Q9,\n",
    "        Q11 - Q6 - Q7,\n",
    "        K1*Q2*abs(Q2) + p2.h(Q2) + p6.h(Q6) + p11.h(Q11) + p1.h(Q1) - Ws__ + 0.1*Q1*abs(Q1) - b2,\n",
    "        p4.h(Q4) + K3*Q4*abs(Q4) - p2.h(Q2) - K1*Q2*abs(Q2) + p3.h(Q3) + b2 - b4,\n",
    "        p7.h(Q7) + p8.h(Q8) + K4*Q8*abs(Q8) - p6.h(Q6) - p4.h(Q4) - K3*Q4*abs(Q4) + p5.h(Q5) + b4 - b7,\n",
    "        p9.h(Q9) + K4*Q9*abs(Q9) - p8.h(Q8) - K4*Q8*abs(Q8),\n",
    "        p10.h(Q10) + K2*Q10*abs(Q10) - p11.h(Q11) - p9.h(Q9) - K4*Q9*abs(Q9) - p7.h(Q7) + b7 - b10\n",
    "    ]\n",
    "\n",
    "b = 67.65, 101.95, 55.7, 44.9\n",
    "balanced_solution = fsolve(balanced, Q_guess, args=(*b, ))\n",
    "balanced_booster_test = test(pipes, balanced_solution)\n",
    "# balanced_booster_test\n",
    "display(Latex(balanced_booster_test.to_latex(index=False)))"
   ],
   "metadata": {
    "collapsed": false,
    "pycharm": {
     "name": "#%%\n"
    }
   }
  },
  {
   "cell_type": "markdown",
   "source": [
    "The results above show that the system is balanced at $b_2=67.65\\,ft$, $b_4=101.95\\,ft$, $b_7=55.7\\,ft$, and $b_{10}=44.9\\,{ft}$ and with a dramatic decrease in the pump head at 145 ft.\n",
    "\n",
    "## Power Consumption\n",
    "The power added to the fluid may be calculated using,\n",
    "\n",
    "\\begin{center}\n",
    "$power=\\rho QW_s$\n",
    "\\end{center}\n",
    "\n",
    "$W_s$ needs to be in units of $\\frac{ft^2}{s^2}$, so it is necessary to multiply by $g\\,\\frac{ft}{s^2}$, but if $\\rho$ is in $\\frac{lbm}{ft^3}$, then it won't be necessary to multiply by $g$. For the power consumed using the main pump only with a head of 380 feet is,"
   ],
   "metadata": {
    "collapsed": false,
    "pycharm": {
     "name": "#%% md\n"
    }
   }
  },
  {
   "cell_type": "code",
   "execution_count": 10,
   "outputs": [
    {
     "data": {
      "text/plain": "364.5042178109091"
     },
     "execution_count": 10,
     "metadata": {},
     "output_type": "execute_result"
    }
   ],
   "source": [
    "# power for main pump only\n",
    "# using the flow rate in line 1 that was calculated above\n",
    "power_A = 48.05*10.979644*380\n",
    "power_A/550  # In hp"
   ],
   "metadata": {
    "collapsed": false,
    "pycharm": {
     "name": "#%%\n"
    }
   }
  },
  {
   "cell_type": "markdown",
   "source": [
    "The power for the booster pump option is the summation of all the pump powers for each line."
   ],
   "metadata": {
    "collapsed": false,
    "pycharm": {
     "name": "#%% md\n"
    }
   }
  },
  {
   "cell_type": "code",
   "execution_count": 11,
   "outputs": [
    {
     "data": {
      "text/plain": "198.71645867724547"
     },
     "execution_count": 11,
     "metadata": {},
     "output_type": "execute_result"
    }
   ],
   "source": [
    "# Getting the power for the booster pump option\n",
    "power_B = 48.05*(10.692539*145 + 2.713009*67.65 + 2.713247*101.95 + 2.552338*55.7 + 2.713944*44.9)\n",
    "power_B/550"
   ],
   "metadata": {
    "collapsed": false,
    "pycharm": {
     "name": "#%%\n"
    }
   }
  },
  {
   "cell_type": "markdown",
   "source": [
    "# Verification\n",
    "\n",
    "\\begin{center}\n",
    "\\includegraphics{figures/Verification} \\\\\n",
    "Figure 8: Me Right Now\n",
    "\\end{center}\n",
    "\n",
    "The math for the booster pump analysis can be confirmed with a hardy cross solution."
   ],
   "metadata": {
    "collapsed": false,
    "pycharm": {
     "name": "#%% md\n"
    }
   }
  },
  {
   "cell_type": "code",
   "execution_count": 12,
   "outputs": [
    {
     "data": {
      "text/plain": "array([10.69225486,  2.71301168,  7.97924318,  2.71323258,  5.2660106 ,\n        5.42624426,  2.55222046,  1.27982131,  1.27239916,  2.71379014,\n        7.97846473])"
     },
     "execution_count": 12,
     "metadata": {},
     "output_type": "execute_result"
    }
   ],
   "source": [
    "# Getting the hardy cross solution\n",
    "\n",
    "# Connection matrix\n",
    "N = np.transpose([\n",
    "    [1, 1, 0, 0, 0, 1, 0, 0, 0, 0, 1],\n",
    "    [0, -1, 1, 1, 0, 0, 0, 0, 0, 0, 0],\n",
    "    [0, 0, 0, -1, 1, -1, 1, 1, 0, 0, 0],\n",
    "    [0, 0, 0, 0, 0, 0, 0, -1, 1, 0, 0],\n",
    "    [0, 0, 0, 0, 0, 0, -1, 0, -1, 1, -1]\n",
    "])\n",
    "\n",
    "# Losses/gains in each line\n",
    "b2_, b4_, b7_, b10_ = b\n",
    "h = [\n",
    "    lambda Q: 0.1*Q*abs(Q) - 145,\n",
    "    lambda Q: K1*Q*abs(Q) - b2_,\n",
    "    lambda Q: 0,\n",
    "    lambda Q: K3*Q*abs(Q) - b4_,\n",
    "    lambda Q: 0,\n",
    "    lambda Q: 0,\n",
    "    lambda Q: -b7_,\n",
    "    lambda Q: K4*Q*abs(Q),\n",
    "    lambda Q: K4*Q*abs(Q),\n",
    "    lambda Q: K2*Q*abs(Q) - b10_,\n",
    "    lambda Q: 0\n",
    "]\n",
    "\n",
    "dh = [\n",
    "    lambda Q: 2*0.1*abs(Q),\n",
    "    lambda Q: 2*K1*abs(Q),\n",
    "    lambda Q: 0,\n",
    "    lambda Q: 2*K3*abs(Q),\n",
    "    lambda Q: 0,\n",
    "    lambda Q: 0,\n",
    "    lambda Q: 0,\n",
    "    lambda Q: 2*K4*abs(Q),\n",
    "    lambda Q: 2*K4*abs(Q),\n",
    "    lambda Q: 2*K2*abs(Q),\n",
    "    lambda Q: 0\n",
    "]\n",
    "\n",
    "hardy_solution = hardy_cross(pipes, Q_guess, N, h=h, dh=dh)\n",
    "hardy_solution"
   ],
   "metadata": {
    "collapsed": false,
    "pycharm": {
     "name": "#%%\n"
    }
   }
  },
  {
   "cell_type": "markdown",
   "source": [
    "The Hardy Cross solution is the same as the Kirchhoff solution, but the tolerance of the Hardy Cross solution is greater than the numerical solver."
   ],
   "metadata": {
    "collapsed": false,
    "pycharm": {
     "name": "#%% md\n"
    }
   }
  },
  {
   "cell_type": "markdown",
   "source": [
    "# Results and Discussion\n",
    "The recommended choice for this piping network is the option of adding booster pumps. There are some downsides for adding booster pumps, such as additional maintenance and initial cost. However, adding booster pumps allows for more control over the system, and consumes far less power than the alternative choice of overloading the main pump. It is better to keep adding power until it's just enough to reach the minimum requirements than to overshoot.\n",
    "\n",
    "The option for choosing the balanced system with turn down valves consumed so much power that it should be completely neglected. Also notice that in order to achieve a range that is remotely close to the boundary conditions, bucking of the pump had to have occurred because the analysis required that there be turn down valves in all lines. Furthermore, a power consumption analysis will show that the booster pump choice is superior ($power_{turn down}=365\\,hp$ and $power_{booster}=200\\,hp$):\n",
    "\n",
    "$\\frac{365-200}{200}(100)=82.5%$\n",
    "\n",
    "The power required from the turn down valve analysis is 82.5% more than the power required for the booster pump analysis."
   ],
   "metadata": {
    "collapsed": false,
    "pycharm": {
     "name": "#%% md\n"
    }
   }
  }
 ],
 "metadata": {
  "kernelspec": {
   "display_name": "Python 3",
   "language": "python",
   "name": "python3"
  },
  "language_info": {
   "codemirror_mode": {
    "name": "ipython",
    "version": 2
   },
   "file_extension": ".py",
   "mimetype": "text/x-python",
   "name": "python",
   "nbconvert_exporter": "python",
   "pygments_lexer": "ipython2",
   "version": "2.7.6"
  }
 },
 "nbformat": 4,
 "nbformat_minor": 0
}