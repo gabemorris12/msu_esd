{
 "cells": [
  {
   "cell_type": "markdown",
   "source": [
    "\\begin{center}\n",
    "Gabe Morris\n",
    "\\end{center}"
   ],
   "metadata": {
    "collapsed": false,
    "pycharm": {
     "name": "#%% md\n"
    }
   }
  },
  {
   "cell_type": "code",
   "execution_count": null,
   "metadata": {
    "collapsed": true
   },
   "outputs": [],
   "source": [
    "# Imports"
   ]
  },
  {
   "cell_type": "markdown",
   "source": [
    "\\pagebreak\n",
    "\\tableofcontents\n",
    "\\pagebreak"
   ],
   "metadata": {
    "collapsed": false,
    "pycharm": {
     "name": "#%% md\n"
    }
   }
  },
  {
   "cell_type": "markdown",
   "source": [
    "\\begin{center}\n",
    "\\begin{tabular}{c c c}\n",
    "ME 6333 & Project 1 & Gabe Morris \\\\\n",
    "& & gnm54\n",
    "\\end{tabular}\n",
    "\\end{center}\n",
    "\n",
    "# Introduction\n",
    "A central chiller system for the Orlando International Airport is to be investigated. The airport consists of 4 concourses (Airside 1, 2, 3, and 4) shown in Figure 1. The main terminal building is not included in the chiller system. The working fluid of this system is Therminol D-12TM, a common heat transfer fluid.\n",
    "\n",
    "\\begin{center}\n",
    "\\includegraphics[scale=0.5]{figures/Concourse_Layout} \\\\\n",
    "Figure 1: Concourse Layout\n",
    "\\end{center}\n",
    "\n",
    "In addition, the following specifications must be met:\n",
    "\n",
    "* Provide valves to isolate each concourse, pump, and supply and return lines.\n",
    "* Minimize the pipe length by placing lines in the same tunnel when feasible.\n",
    "* Provide 50 feet of pipe in each mechanical room (one per concourse).\n",
    "* Use a \"Z\" network (shown in Figure 3).\n",
    "* Avoid pipe velocities much in excess of 9 feet per second.\n",
    "* Access tunnels are 20 feet below the entrance to each concourse, mechanical rooms are 20 feet above the surface.\n",
    "* The 2 air handling units in concourse 4 are to be placed in parallel.\n",
    "* Avoid running lines under the main terminal building.\n",
    "* Flow rates across the air handling units must not exceed 3.5% of the minimum required.\n",
    "\n",
    "# Given\n",
    "The energy requirements across the air handling units are,\n",
    "\n",
    "| Concourse | Tons | $K_{AHU}$ |\n",
    "|-----------|------|-----------|\n",
    "| 1         | 480  | 4.5       |\n",
    "| 2         | 480  | 4.5       |\n",
    "| 3         | 480  | 4.5       |\n",
    "| 4 (each)  | 225  | 10        |\n",
    "\n",
    "where 1 ton is $12,000\\,\\frac{Btu}{hr}$. The head loss through the air handling units in each terminal is $K_{AHU}Q^2$ where $Q$ is the flow rate in cubic feet per second. The units for $K_{AHU}$ are $\\frac{ft\\,lbf}{lbm}$. The head loss across the chiller is taken to be $0.1Q^2$. The Therminol D-12 exits the chiller $25^\\circ F$ cooler than it enters. The lines are well insulated.\n",
    "\n",
    "The fluid properties are to be taken at $80^\\circ F$ due to the relatively warm year-round temperatures in Orlando. The following properties were found:\n",
    "\n",
    "$\\rho=47.3\\frac{lmb}{ft^3}$ \\\n",
    "$c_p=0.506\\frac{Btu}{lbm\\,^\\circ F}$ \\\n",
    "$\\mu=2.72\\frac{lbm}{ft\\,hr}$\n",
    "\n",
    "The piping material used for this system will be galvanized steel, a common piping material for chiller systems. The absolute roughness of galvanized steel is 0.0005'.\n",
    "\n",
    "# Solution\n",
    "The first step is to obtain a physical mapping of the airport. A schematic of the airport was given to determine a rough idea of the lengths for each line. The location of the mechanical rooms were assumed to be somewhere in the center of each airside (shown in Figure 2).\n",
    "\n",
    "## Physical Mapping\n",
    "\n",
    "\\begin{center}\n",
    "\\includegraphics{figures/Physical_Map} \\\\\n",
    "Figure 2: Physical Map of the Chiller System\n",
    "\\end{center}\n",
    "\n",
    "The lateral distance between pipes shown above is slightly exaggerated to make it clear of the individual pipes. It is especially exaggerated around airside 4 (the parallel arrangement).\n",
    "\n",
    "### Pipe Lengths\n",
    "\n",
    "\\begin{center}\n",
    "\\includegraphics{figures/Lengths} \\\\\n",
    "Figure 3: Z-Network Schematic of Lengths\n",
    "\\end{center}\n",
    "\n",
    "Figure 3 shows the lengths associated with each line. The original length is shown in parentheses, and the added lengths are shown if there is a change in elevation or if the line is in a mechanical room (additional 50 feet). Here is a summary of the lengths for each of the 11 lines:\n",
    "\n",
    "* Pipe 1: Original length is 2800'. Assumed to be at ground level, so add the piping that goes 20' up and 20' down to the tunnels. Total length is **2840'**\n",
    "* Pipe 2: Original length is 2250'. This line runs through a mechanical room that is 40' up from the tunnels, then an additional 50' in the mechanical room, then 40' back down to the tunnels. The total length is **2380'**\n",
    "* Pipe 3: There is no elevation change. The total length is **1300'**\n",
    "* Pipe 4: The original length is 1500'. This line runs through a mechanical room, so an additional 130' is added to accound for the elevation change and additional length within the room. The total length is **1630'**.\n",
    "* Pipe 5: There is no elevation change. The total length is **3000'**.\n",
    "* Pipe 6: There is no elevation change. The total length is **5000'**.\n",
    "* Pipe 7: The original length on the map is 1500'. The line runs up to the mechanical room, but does not run through the mechanical room. Pipe 7 splits up prior to the parallel arrangement in airside 4, then meets up with lines 8 and 9 and returns to the tunnel. Although it is two different pipes, the flow rate is the same, so it will be analysed as if it were one pipe. The total length is **1580'**.\n",
    "* Pipe 8: The original length is 1500'. It runs through the mechanical room, adding 50'. The total length is **1550'**.\n",
    "* Pipe 9: The original length is 1500'. It runs through the mechanical room, adding 50'. The total length is **1550'**.\n",
    "* Pipe 10: The original length is 5000'. It runs through a mechanical room and changes elevation when doing so. The total length is **5130'**.\n",
    "* Pipe 11: There is no elevation change. The total length is **1875'**."
   ],
   "metadata": {
    "collapsed": false,
    "pycharm": {
     "name": "#%% md\n"
    }
   }
  }
 ],
 "metadata": {
  "kernelspec": {
   "display_name": "Python 3",
   "language": "python",
   "name": "python3"
  },
  "language_info": {
   "codemirror_mode": {
    "name": "ipython",
    "version": 2
   },
   "file_extension": ".py",
   "mimetype": "text/x-python",
   "name": "python",
   "nbconvert_exporter": "python",
   "pygments_lexer": "ipython2",
   "version": "2.7.6"
  }
 },
 "nbformat": 4,
 "nbformat_minor": 0
}