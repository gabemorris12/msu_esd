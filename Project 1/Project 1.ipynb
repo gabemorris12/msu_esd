{
 "cells": [
  {
   "cell_type": "markdown",
   "source": [
    "\\begin{center}\n",
    "Gabe Morris\n",
    "\\end{center}"
   ],
   "metadata": {
    "collapsed": false,
    "pycharm": {
     "name": "#%% md\n"
    }
   }
  },
  {
   "cell_type": "code",
   "execution_count": 1,
   "metadata": {
    "collapsed": true
   },
   "outputs": [],
   "source": [
    "# Imports\n",
    "import warnings\n",
    "\n",
    "import numpy as np\n",
    "import pandas as pd\n",
    "from IPython.display import display, Latex\n",
    "\n",
    "warnings.filterwarnings('ignore', category=FutureWarning)  # Some random warning with pandas"
   ]
  },
  {
   "cell_type": "markdown",
   "source": [
    "\\pagebreak\n",
    "\\tableofcontents\n",
    "\\pagebreak"
   ],
   "metadata": {
    "collapsed": false,
    "pycharm": {
     "name": "#%% md\n"
    }
   }
  },
  {
   "cell_type": "markdown",
   "source": [
    "\\begin{center}\n",
    "\\begin{tabular}{c c c}\n",
    "ME 6333 & Project 1 & Gabe Morris \\\\\n",
    "& & gnm54\n",
    "\\end{tabular}\n",
    "\\end{center}\n",
    "\n",
    "# Introduction\n",
    "A central chiller system for the Orlando International Airport is to be investigated. The airport consists of 4 concourses (Airside 1, 2, 3, and 4) shown in Figure 1. The main terminal building is not included in the chiller system. The working fluid of this system is Therminol D-12TM, a common heat transfer fluid.\n",
    "\n",
    "\\begin{center}\n",
    "\\includegraphics[scale=0.5]{figures/Concourse_Layout} \\\\\n",
    "Figure 1: Concourse Layout\n",
    "\\end{center}\n",
    "\n",
    "In addition, the following specifications must be met:\n",
    "\n",
    "* Provide valves to isolate each concourse, pump, and supply and return lines.\n",
    "* Minimize the pipe length by placing lines in the same tunnel when feasible.\n",
    "* Provide 50 feet of pipe in each mechanical room (one per concourse).\n",
    "* Use a \"Z\" network (shown in Figure 3).\n",
    "* Avoid pipe velocities much in excess of 9 feet per second.\n",
    "* Access tunnels are 20 feet below the entrance to each concourse, mechanical rooms are 20 feet above the surface.\n",
    "* The 2 air handling units in concourse 4 are to be placed in parallel.\n",
    "* Avoid running lines under the main terminal building.\n",
    "* Flow rates across the air handling units must not exceed 3.5% of the minimum required.\n",
    "\n",
    "# Given\n",
    "The energy requirements across the air handling units are,\n",
    "\n",
    "\\begin{center}\n",
    "Table 1: AHU Energy Requirements\n",
    "\\end{center}\n",
    "\n",
    "| Concourse | Tons | $K_{AHU}$ |\n",
    "|-----------|------|-----------|\n",
    "| 1         | 480  | 4.5       |\n",
    "| 2         | 480  | 4.5       |\n",
    "| 3         | 480  | 4.5       |\n",
    "| 4 (each)  | 225  | 10        |\n",
    "\n",
    "where 1 ton is $12,000\\,\\frac{Btu}{hr}$. The head loss through the air handling units in each terminal is $K_{AHU}Q^2$ where $Q$ is the flow rate in cubic feet per second. The units for $K_{AHU}$ are $\\frac{ft\\,lbf}{lbm}$. The head loss across the chiller is taken to be $0.1Q^2$. The Therminol D-12 exits the chiller $25^\\circ F$ cooler than it enters. The lines are well insulated.\n",
    "\n",
    "The fluid properties are to be taken at $80^\\circ F$ due to the relatively warm year-round temperatures in Orlando. The following properties were [found](https://www.eastman.com/Literature_Center/T/TF15.pdf#_ga=2.207178966.454563214.1645229250-970220635.1645229250):\n",
    "\n",
    "$\\rho=47.3\\frac{lbm}{ft^3}$ \\\n",
    "$c_p=0.506\\frac{Btu}{lbm\\,^\\circ F}$ \\\n",
    "$\\mu=2.72\\frac{lbm}{ft\\,hr}$\n",
    "\n",
    "The piping material used for this system will be galvanized steel, a common piping material for chiller systems. The absolute roughness of galvanized steel is 0.0005'.\n",
    "\n",
    "# Solution\n",
    "The first step is to obtain a physical mapping of the airport. A schematic of the airport was given to determine a rough idea of the lengths for each line. The location of the mechanical rooms were assumed to be somewhere in the center of each airside (shown in Figure 2).\n",
    "\n",
    "## Physical Mapping\n",
    "\n",
    "\\begin{center}\n",
    "\\includegraphics{figures/Physical_Map} \\\\\n",
    "Figure 2: Physical Map of the Chiller System\n",
    "\\end{center}\n",
    "\n",
    "The lateral distance between pipes shown above is slightly exaggerated to make it clear of the individual pipes. It is especially exaggerated around airside 4 (the parallel arrangement).\n",
    "\n",
    "### Pipe Lengths\n",
    "\n",
    "\\begin{center}\n",
    "\\includegraphics{figures/Lengths} \\\\\n",
    "Figure 3: Z-Network Schematic of Lengths\n",
    "\\end{center}\n",
    "\n",
    "Figure 3 shows the lengths associated with each line. The original length is shown in parentheses, and the added lengths are shown if there is a change in elevation or if the line is in a mechanical room (additional 50 feet). Here is a summary of the lengths for each of the 11 lines:\n",
    "\n",
    "* Pipe 1: Original length is 2800'. Assumed to be at ground level, so add the piping that goes 20' up and 20' down to the tunnels. Total length is **2840'**\n",
    "* Pipe 2: Original length is 2250'. This line runs through a mechanical room that is 40' up from the tunnels, then an additional 50' in the mechanical room, then 40' back down to the tunnels. The total length is **2380'**\n",
    "* Pipe 3: There is no elevation change. The total length is **1300'**\n",
    "* Pipe 4: The original length is 1500'. This line runs through a mechanical room, so an additional 130' is added to account for the elevation change and additional length within the room. The total length is **1630'**.\n",
    "* Pipe 5: There is no elevation change. The total length is **3000'**.\n",
    "* Pipe 6: There is no elevation change. The total length is **5000'**.\n",
    "* Pipe 7: The original length on the map is 1500'. The line runs up to the mechanical room, but does not run through the mechanical room. Pipe 7 splits up prior to the parallel arrangement in airside 4, then meets up with lines 8 and 9 and returns to the tunnel. Although it is two different pipes, the flow rate is the same, so it will be analysed as if it were one pipe. The total length is **1580'**.\n",
    "* Pipe 8: The original length is 1500'. It runs through the mechanical room, adding 50'. The total length is **1550'**.\n",
    "* Pipe 9: The original length is 1500'. It runs through the mechanical room, adding 50'. The total length is **1550'**.\n",
    "* Pipe 10: The original length is 5000'. It runs through a mechanical room and changes elevation when doing so. The total length is **5130'**.\n",
    "* Pipe 11: There is no elevation change. The total length is **1875'**.\n",
    "\n",
    "### Pipe Fittings and Valve Requirements\n",
    "\n",
    "\\begin{center}\n",
    "\\includegraphics{figures/Physical_Valve} \\\\\n",
    "Figure 4: Physical Map of Valve Placements\n",
    "\\end{center}\n",
    "\n",
    "Figure 4 shows the exaggerated valve placements (the blue dots). The specifications require that each line receives at least one valve.\n",
    "\n",
    "\\begin{center}\n",
    "\\includegraphics{figures/Schematic_Valves} \\\\\n",
    "Figure 5: Schematic of Valve Placements\n",
    "\\end{center}\n",
    "\n",
    "Figure 5 shows a clearer network of the pipe placements. The shutoff valve for line 1 is positioned after the chiller to prevent bucking of the pump. The valves will be gate valves, since it is the most common type of valve. The loss per each gate valve is $K=8f_T$ (each line will have $C=8$ because this is the only loss considered that gets multiplied by $f_T$). The fittings used for this network will be standard tee (for splitting the flow) and elbow fittings (for changing direction). There is a lot of approximation when it comes to the fittings, but the major losses and losses across the air handling units for this case should triumph over the loss produced by the fittings, since the lengths of each pipe are thousands of feet. All pipes will have a loss due to the entrance and exit ($K=1.78$). Here is a description for the minor losses in each pipe (each fitting is visualized in Figure 4):\n",
    "\n",
    "* Pipe 1 is attached to two flow through run tee connectors with a loss of 0.4 (according to Table 1-1 in the text). It is possible with the mapping shown in Figure 2 and 4 for there to be no elbows. $K_1=1.78+2(0.4)=2.58$\n",
    "* Pipe 2 is the flow through run for one tee connector and the branch flow for the other tee connector. There is one elbow to change direction toward airside 3. $K_2=1.78+0.4+1+0.75=3.93$\n",
    "* Pipe 3 is the flow through run of one tee connection and the branch flow of another tee connection. $K_3=1.78+0.4+1=3.18$\n",
    "* Pipe 4 is the flow through run of two tee connections and contains an elbow. $K_4=1.78+0.75+0.4(2)=3.33$\n",
    "* Pipe 5 is the branch flow of one tee connection and flow through for another tee connection. There are 2 elbows along its line. $K_5=1.78+0.4+1+2(0.75)=4.68$\n",
    "* Pipe 6 is the flow through run of one tee connection and the flow through branch on another. It has 2 elbows. $K_6=1.78+2(0.75)+0.4+1=4.68$\n",
    "* Pipe 7 is the flow through run of four tee connections (remember it splits). $K_7=1.78+4(0.4)=3.38$\n",
    "* Pipe 8 is the flow through run of two tee connections and contains an elbow. $K_8=1.78+0.4(2)+0.75=3.33$\n",
    "* Pipe 9 is the flow through branch of two tee connections and contains two elbows (seen more clearly in Figure 5). $K_9=1.78+1(2)+2(0.75)=5.28$\n",
    "* Pipe 10 is the flow through branch two connections and has 4 elbows. $K_{10}=1.78+2(1)+4(0.75)=6.78$\n",
    "* Pipe 11 is the flow through branch of two connections and has an elbow. $K_{11}=1.78+2(0.4)+0.75=3.33$\n",
    "\n",
    "## Boundary Conditions\n",
    "The minimum flow rate across each air handling unit may be found using this relationship,\n",
    "\n",
    "\\begin{center}\n",
    "$q=\\dot{m}c_p\\Delta T$ \\\\\n",
    "$\\dot{m}=\\rho Q$\n",
    "\\end{center}\n",
    "\n",
    "where $q$ is the energy in tons given in Table 1. Keeping an eye on the units, $Q$ may be solved.\n",
    "\n",
    "\\begin{center}\n",
    "$Q_{min}=\\frac{q}{c_p\\Delta T\\rho}\\rightarrow Q_{min}=\\frac{10q}{3c_p\\Delta T \\rho}\\frac{ft^3}{s}$\n",
    "\\end{center}\n",
    "\n",
    "The above expression is true for the units of $c_p$ and $\\rho$ defined in the Given section and with $q$ in tons. The upper bound of the flow rate is going to be 3.5%$\\cdot Q_{min}+Q_{min}$."
   ],
   "metadata": {
    "collapsed": false,
    "pycharm": {
     "name": "#%% md\n"
    }
   }
  },
  {
   "cell_type": "code",
   "execution_count": 2,
   "outputs": [
    {
     "data": {
      "text/plain": "array([2.67404257, 2.67404257, 1.25345745, 1.25345745, 2.67404257])"
     },
     "execution_count": 2,
     "metadata": {},
     "output_type": "execute_result"
    }
   ],
   "source": [
    "# Finding the upper and lower bounds\n",
    "q = np.array([480, 480, 225, 225, 480])  # In numerical order according to Figure 5\n",
    "c_p, rho, del_T = 0.506, 47.3, 25  # Units are described earlier\n",
    "\n",
    "Q_min = (10*q)/(3*c_p*del_T*rho)\n",
    "Q_min"
   ],
   "metadata": {
    "collapsed": false,
    "pycharm": {
     "name": "#%%\n"
    }
   }
  },
  {
   "cell_type": "code",
   "execution_count": 3,
   "outputs": [
    {
     "data": {
      "text/plain": "array([2.76763406, 2.76763406, 1.29732846, 1.29732846, 2.76763406])"
     },
     "execution_count": 3,
     "metadata": {},
     "output_type": "execute_result"
    }
   ],
   "source": [
    "Q_max = Q_min + Q_min*0.035\n",
    "Q_max"
   ],
   "metadata": {
    "collapsed": false,
    "pycharm": {
     "name": "#%%\n"
    }
   }
  },
  {
   "cell_type": "markdown",
   "source": [
    "The boundary conditions are,\n",
    "\n",
    "$2.67\\le Q_2< 2.77$ \\\n",
    "$2.67\\le Q_4< 2.77$ \\\n",
    "$1.25\\le Q_8< 1.30$ \\\n",
    "$1.25\\le Q_9< 1.30$ \\\n",
    "$2.67\\le Q_{10}< 2.77$\n",
    "\n",
    "where $Q$ is in $\\frac{ft^3}{s}$. The only other boundary condition is that the velocity of the fluid in all the pipes has to be less than $9\\frac{ft}{s}$.\n",
    "\n",
    "## Diameter Selections\n",
    "The minimum diameter for the pipes containing the air handling units may be found using,\n",
    "\n",
    "\\begin{center}\n",
    "$Q=VA=V\\frac{\\pi}{4}D^4$ \\\\\n",
    "$D^4=\\frac{4Q}{V\\pi}$  \\\\\n",
    "$D_{min}=\\sqrt[4]{\\frac{4Q_{min}}{V_{max}\\pi}}$\n",
    "\\end{center}\n",
    "\n",
    "where $Q_{min}$ was solved above, and the maximum velocity is $9\\frac{ft}{s}$."
   ],
   "metadata": {
    "collapsed": false,
    "pycharm": {
     "name": "#%% md\n"
    }
   }
  },
  {
   "cell_type": "code",
   "execution_count": 4,
   "outputs": [
    {
     "data": {
      "text/plain": "array([0.78425804, 0.78425804, 0.64892469, 0.64892469, 0.78425804])"
     },
     "execution_count": 4,
     "metadata": {},
     "output_type": "execute_result"
    }
   ],
   "source": [
    "# Calculating the minimum diameters\n",
    "D_min = (4*Q_min/(9*np.pi))**0.25\n",
    "D_min  # In ft"
   ],
   "metadata": {
    "collapsed": false,
    "pycharm": {
     "name": "#%%\n"
    }
   }
  },
  {
   "cell_type": "markdown",
   "source": [
    "If the minimum diameters are that large, it is acceptable to choose a lower schedule piping. Schedule 5 piping will be considered for this analysis, since it encompasses the larger diameters. A chart for schedule 5 piping can be [found here](https://www.octalsteel.com/pdf/pipe-schedule-chart-inch.pdf)."
   ],
   "metadata": {
    "collapsed": false,
    "pycharm": {
     "name": "#%% md\n"
    }
   }
  },
  {
   "cell_type": "code",
   "execution_count": 5,
   "outputs": [
    {
     "data": {
      "text/plain": "<IPython.core.display.Latex object>",
      "text/latex": "\\begin{tabular}{rrrrr}\n\\toprule\n NPS &  Outer Diameter (in) &  Thickness (in) &  Inner Diameter (in) &  Inner Diameter (ft) \\\\\n\\midrule\n   8 &                8.625 &           0.109 &                8.407 &             0.700583 \\\\\n  10 &               10.750 &           0.134 &               10.482 &             0.873500 \\\\\n  12 &               12.750 &           0.156 &               12.438 &             1.036500 \\\\\n  14 &               14.000 &           0.156 &               13.688 &             1.140667 \\\\\n  16 &               16.000 &           0.165 &               15.670 &             1.305833 \\\\\n  18 &               18.000 &           0.165 &               17.670 &             1.472500 \\\\\n  20 &               20.000 &           0.188 &               19.624 &             1.635333 \\\\\n\\bottomrule\n\\end{tabular}\n"
     },
     "metadata": {},
     "output_type": "display_data"
    }
   ],
   "source": [
    "# Getting a table of values to choose from\n",
    "nps = np.array([8, 10, 12, 14, 16, 18, 20])  # Nominal Pipe Size\n",
    "od = np.array([8.625, 10.75, 12.75, 14, 16, 18, 20])  # Outer Diameter\n",
    "t = np.array([0.109, 0.134, 0.156, 0.156, 0.165, 0.165, 0.188])  # Thickness\n",
    "id_ = od - 2*t  # Inner Diameter\n",
    "id_ft = id_/12\n",
    "\n",
    "df = pd.DataFrame({'NPS': nps, 'Outer Diameter (in)': od, 'Thickness (in)': t, 'Inner Diameter (in)': id_, 'Inner Diameter (ft)': id_ft})\n",
    "# df\n",
    "display(Latex(df.to_latex(index=False)))"
   ],
   "metadata": {
    "collapsed": false,
    "pycharm": {
     "name": "#%%\n"
    }
   }
  },
  {
   "cell_type": "markdown",
   "source": [
    "There are four diameters that need to be considered: the main line, the supply lines, the lines across air handling units 1, 2, and 3, and the lines across air handling units in airside 4. The main pipeline (line 1) needs to be the largest diameter because it will have the largest flow rate. Increasing the diameter will help to decrease the velocity. The lines with the air handling units need to be smaller, and air handling units in airside 4 can have smaller diameters than the lines that run through the other units because its flow rate doesn't have to be as high (as seen in the Boundary Conditions section).\n",
    "\n",
    "The above analysis is necessary for getting a range of diameters, but which one should be chosen for each line? There are $7^4=2401$ possible arrangements to choose. In the appendix, there is a considerable amount of code that loops through all the possible diameter arrangements for each pump head value (pump head values range from 50 feet to 210 feet at 10 feet increments). This brings a total of $17*2401=40,817$ outcomes that were tested. Each iteration tested to see if,\n",
    "\n",
    "1. The velocity in all the pipes were less than $9\\frac{ft}{s}$\n",
    "2. $2.67\\le Q_2<2.77$\n",
    "3. $2.67\\le Q_4<2.77$\n",
    "4. $1.25\\le Q_8<1.30$\n",
    "5. $1.25\\le Q_9<1.30$\n",
    "6. $2.67\\le Q_9<2.77$\n",
    "\n",
    "This test resulted in 1 outcome having passed 5 of the 6 tests. This iteration occurred with a pump head of $150\\,ft$ with the main line being 20 NPS, the supply lines being 12 NPS, the lines across AHU 1, 2, and 3 being 10 NPS, and the lines across AHU 4 being 8 NPS. Table 2 is a summary for all the decisions made thus far.\n",
    "\n",
    "\\begin{center}\n",
    "Table 2: Summary of Piping\n",
    "\\end{center}\n",
    "\n",
    "| Pipe | L (ft) | D (in) | # Valves | # Tees | # Elbows | K    | C   |\n",
    "|------|--------|--------|----------|--------|----------|------|-----|\n",
    "| 1    | 2840   | 19.624 | 1        | 2      | 0        | 2.58 | 8   |\n",
    "| 2    | 2380   | 10.482 | 1        | 1      | 1        | 3.93 | 8   |\n",
    "| 3    | 1300   | 12.438 | 1        | 1      | 0        | 3.18 | 8   |\n",
    "| 4    | 1630   | 10.482 | 1        | 0      | 1        | 3.33 | 8   |\n",
    "| 5    | 3000   | 12.438 | 1        | 1      | 2        | 4.68 | 8   |\n",
    "| 6    | 5000   | 12.438 | 1        | 1      | 2        | 4.68 | 8   |\n",
    "| 7    | 1580   | 12.438 | 1        | 2      | 0        | 3.38 | 8   |\n",
    "| 8    | 1550   | 8.407  | 1        | 0      | 1        | 3.33 | 8   |\n",
    "| 9    | 1550   | 8.407  | 1        | 0      | 2        | 5.28 | 8   |\n",
    "| 10   | 5130   | 10.482 | 1        | 0      | 4        | 6.78 | 8   |\n",
    "| 11   | 1875   | 12.438 | 1        | 0      | 1        | 3.33 | 8   |\n",
    "\n",
    "\\begin{center}\n",
    "Material: Galvanized Steel (Schedule 5) \\\\\n",
    "Absolute Roughness: $\\epsilon=0.0005\\,ft$ \\\\\n",
    "Working Fluid: Therminol D-12 \\\\\n",
    "Density: $\\rho=47.3\\frac{lbm}{ft^3}$ \\\\\n",
    "Heat Capacity: $c_p=0.506\\frac{Btu}{lbm^\\circ F}$ \\\\\n",
    "Viscosity: $\\mu=2.72\\frac{lbm}{ft\\,hr}$\n",
    "\\end{center}\n",
    "\n",
    "## Kirchhoff Setup\n"
   ],
   "metadata": {
    "collapsed": false,
    "pycharm": {
     "name": "#%% md\n"
    }
   }
  },
  {
   "cell_type": "markdown",
   "source": [],
   "metadata": {
    "collapsed": false,
    "pycharm": {
     "name": "#%% md\n"
    }
   }
  }
 ],
 "metadata": {
  "kernelspec": {
   "display_name": "Python 3",
   "language": "python",
   "name": "python3"
  },
  "language_info": {
   "codemirror_mode": {
    "name": "ipython",
    "version": 2
   },
   "file_extension": ".py",
   "mimetype": "text/x-python",
   "name": "python",
   "nbconvert_exporter": "python",
   "pygments_lexer": "ipython2",
   "version": "2.7.6"
  }
 },
 "nbformat": 4,
 "nbformat_minor": 0
}