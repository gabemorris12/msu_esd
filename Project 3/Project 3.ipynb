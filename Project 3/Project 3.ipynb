{
 "cells": [
  {
   "cell_type": "markdown",
   "source": [
    "\\begin{center}\n",
    "Gabe Morris\n",
    "\\end{center}"
   ],
   "metadata": {
    "collapsed": false,
    "pycharm": {
     "name": "#%% md\n"
    }
   },
   "outputs": []
  },
  {
   "cell_type": "code",
   "execution_count": 1,
   "outputs": [],
   "source": [
    "# Imports\n",
    "import numpy as np\n",
    "from scipy.optimize import fsolve\n",
    "from msu_esd import Pipe"
   ],
   "metadata": {
    "collapsed": false,
    "pycharm": {
     "name": "#%%\n"
    }
   }
  },
  {
   "cell_type": "markdown",
   "source": [
    "\\pagebreak\n",
    "\\tableofcontents\n",
    "\\pagebreak\n",
    "\n",
    "# Given\n",
    "From Project 1, piping and pump requirements for a chilled fluid circulating system for a portion of the Orlando Airport were determined. A Z-network was used for the system, and the pumps head and flow rate requirements were found.\n",
    "\n",
    "## Project 1 Overview\n",
    "From Project 1, the booster pump option was selected because it was more cost-efficient and offered more control over the system. The schematic is shown in Figure 1.\n",
    "\n",
    "\\begin{center}\n",
    "\\includegraphics{images/fig1} \\\\\n",
    "Figure 1: Booster Pump Schematic\n",
    "\\end{center}\n",
    "\n",
    "The resulting head values are $b_2=67.65\\,ft$, $b_4=101.95\\,ft$, $b_7=55.7\\,ft$, and $b_{10}=44.9\\,{ft}$. The main line pump has a head of $W_s=145\\,ft$. The summary of the piping lengths as well as material properties are given in Table 1.\n",
    "\n",
    "\\begin{center}\n",
    "Table 1: Summary of Piping\n",
    "\\end{center}\n",
    "\n",
    "| Pipe | L (ft) | D (in) | # Valves | # Elbows | K    | C   |\n",
    "|------|--------|--------|----------|----------|------|-----|\n",
    "| 1    | 2840   | 18.812 | 1        | 0        | 1.78 | 8   |\n",
    "| 2    | 2380   | 10.02  | 1        | 5        | 5.53 | 8   |\n",
    "| 3    | 1300   | 11.938 | 1        | 0        | 1.78 | 8   |\n",
    "| 4    | 1630   | 10.02  | 1        | 5        | 5.53 | 8   |\n",
    "| 5    | 3000   | 11.938 | 1        | 2        | 3.28 | 8   |\n",
    "| 6    | 5000   | 11.938 | 1        | 2        | 3.28 | 8   |\n",
    "| 7    | 1580   | 11.938 | 1        | 0        | 1.78 | 8   |\n",
    "| 8    | 1550   | 7.981  | 1        | 5        | 5.53 | 8   |\n",
    "| 9    | 1550   | 7.981  | 1        | 7        | 7.03 | 8   |\n",
    "| 10   | 5130   | 10.02  | 1        | 8        | 7.78 | 8   |\n",
    "| 11   | 1875   | 11.938 | 1        | 1        | 2.53 | 8   |\n",
    "\n",
    "\\begin{center}\n",
    "Material: Galvanized Steel (Schedule 40) \\\\\n",
    "Absolute Roughness: $\\epsilon=0.0005\\,ft$ \\\\\n",
    "Working Fluid: Therminol D-12 \\\\\n",
    "Density: $\\rho=48.05\\frac{lbm}{ft^3}$ \\\\\n",
    "Heat Capacity: $c_p=0.491\\frac{Btu}{lbm^\\circ F}$ \\\\\n",
    "Viscosity: $\\mu=3.715\\frac{lbm}{ft\\,hr}$\n",
    "\\end{center}\n",
    "\n",
    "The system of equations using the Kirchhoff method is,\n",
    "\n",
    "$$\\begin{cases}\n",
    "Q_1=Q_3+Q_2 \\\\\n",
    "Q_3=Q_4+Q_5 \\\\\n",
    "Q_6=Q_2+Q_4 \\\\\n",
    "Q_5=Q_7+Q_{10} \\\\\n",
    "Q_7=Q_8+Q_9 \\\\\n",
    "Q_{11}=Q_6+Q_7 \\\\\n",
    "h_2+K_1Q_2|Q_2|+h_6+h_{11}+h_1-150+0.1Q_1|Q_1|-b_2=0 \\\\\n",
    "h_4+K_3Q_4|Q_4|-h_2-K_1Q_2|Q_2|+h_3+b_2-b_4=0 \\\\\n",
    "h_7+h_8+K_4Q_8|Q_8|-h_6-h_4-K_3Q_4|Q_4|+h_5+b_4-b_7=0 \\\\\n",
    "h_9+K_4Q_9|Q_9|-h_8-K_4Q_8|Q_8|=0 \\\\\n",
    "h_{10}+K_2Q_{10}|Q_{10}|-h_{11}-h_7-h_9-K_4Q_9|Q_9|+b_7-b_{10}=0\n",
    "\\end{cases}$$\n",
    "\n",
    "The code block below outputs the flow rates for this system."
   ],
   "metadata": {
    "collapsed": false,
    "pycharm": {
     "name": "#%% md\n"
    }
   },
   "outputs": []
  },
  {
   "cell_type": "code",
   "execution_count": 2,
   "outputs": [
    {
     "data": {
      "text/plain": "array([10.69253924,  2.71300891,  7.97953032,  2.7132475 ,  5.26628283,\n        5.42625641,  2.55233847,  1.27984524,  1.27249323,  2.71394436,\n        7.97859488])"
     },
     "execution_count": 2,
     "metadata": {},
     "output_type": "execute_result"
    }
   ],
   "source": [
    "# Define known constants\n",
    "K1, K2, K3, K4 = 4.5, 4.5, 4.5, 10  # Loss coefficients\n",
    "\n",
    "rho = 48.05/32.174  # In slugs per cubic feet\n",
    "mu = 3.715/(3600*32.174)  # In slugs per (ft s) or lbf*s per ft squared\n",
    "epsilon = 0.0005  # In ft\n",
    "\n",
    "D20, D12, D10, D8 = np.array([18.812, 11.938, 10.02, 7.981])/12  # Diameters in ft\n",
    "\n",
    "Ws = 145  # in ft\n",
    "\n",
    "# Define pipe objects\n",
    "p1 = Pipe(D20, 2840, epsilon, rho, mu, K=1.78, C=8)\n",
    "p2 = Pipe(D10, 2380, epsilon, rho, mu, K=5.53, C=8)\n",
    "p3 = Pipe(D12, 1300, epsilon, rho, mu, K=1.78, C=8)\n",
    "p4 = Pipe(D10, 1630, epsilon, rho, mu, K=5.53, C=8)\n",
    "p5 = Pipe(D12, 3000, epsilon, rho, mu, K=3.28, C=8)\n",
    "p6 = Pipe(D12, 5000, epsilon, rho, mu, K=3.28, C=8)\n",
    "p7 = Pipe(D12, 1580, epsilon, rho, mu, K=1.78, C=8)\n",
    "p8 = Pipe(D8, 1550, epsilon, rho, mu, K=5.53, C=8)\n",
    "p9 = Pipe(D8, 1550, epsilon, rho, mu, K=7.03, C=8)\n",
    "p10 = Pipe(D10, 5130, epsilon, rho, mu, K=7.78, C=8)\n",
    "p11 = Pipe(D12, 1875, epsilon, rho, mu, K=2.53, C=8)\n",
    "\n",
    "def balanced(x, b2, b4, b7, b10):\n",
    "    Q1, Q2, Q3, Q4, Q5, Q6, Q7, Q8, Q9, Q10, Q11 = x\n",
    "    # all expressions need to be set to zero\n",
    "    return [\n",
    "        Q1 - Q2 - Q3,\n",
    "        Q6 - Q2 - Q4,\n",
    "        Q3 - Q4 - Q5,\n",
    "        Q5 - Q10 - Q7,\n",
    "        Q7 - Q8 - Q9,\n",
    "        Q11 - Q6 - Q7,\n",
    "        K1*Q2*abs(Q2) + p2.h(Q2) + p6.h(Q6) + p11.h(Q11) + p1.h(Q1) - Ws + 0.1*Q1*abs(Q1) - b2,\n",
    "        p4.h(Q4) + K3*Q4*abs(Q4) - p2.h(Q2) - K1*Q2*abs(Q2) + p3.h(Q3) + b2 - b4,\n",
    "        p7.h(Q7) + p8.h(Q8) + K4*Q8*abs(Q8) - p6.h(Q6) - p4.h(Q4) - K3*Q4*abs(Q4) + p5.h(Q5) + b4 - b7,\n",
    "        p9.h(Q9) + K4*Q9*abs(Q9) - p8.h(Q8) - K4*Q8*abs(Q8),\n",
    "        p10.h(Q10) + K2*Q10*abs(Q10) - p11.h(Q11) - p9.h(Q9) - K4*Q9*abs(Q9) - p7.h(Q7) + b7 - b10\n",
    "    ]\n",
    "\n",
    "Q_guess = np.array([5, 1, 4, 2, 2, 3, 1, 3, -2, 1, 4])  # This does satisfy mass conservation\n",
    "b = 67.65, 101.95, 55.7, 44.9\n",
    "balanced_solution = fsolve(balanced, Q_guess, args=(*b, ))\n",
    "balanced_solution  # flow rates in ft^3/s"
   ],
   "metadata": {
    "collapsed": false,
    "pycharm": {
     "name": "#%%\n"
    }
   }
  },
  {
   "cell_type": "markdown",
   "source": [
    "# Find\n",
    "Using the results from Project 1 and the Goulds handout, accomplish the following:\n",
    "\n",
    "a. Are viscous fluid pump corrections needed?\n",
    "b. Select the required main-line pump (company, model number, RPM, rotor diameter). A copy of the manufacturer’s pump performance information is needed in the report. If booster pumps are used, then continue to use the same booster pumps increases in head as in Project 1 (the corrected version), but you do not need to specify an exact model.\n",
    "c. Generate a curve fit for H vs. Q for the main-line pump of part (b). Verify using the Hardy-Cross or Kirchhoff program that the selected pump is suitable. This means that the H-Q curve fit is to be placed in the Hardy-Cross or Kirchhoff program and the resulting flow rates in the individual loads are to be computed and compared with the required flow rates. Compute the power required for the pump including viscous corrections, if needed.\n",
    "d. The management team also wants a parallel pump arrangement, using identical pumps, for the main line to be examined. Booster pumps, if used, are the same as in Part (b). Select the required pump (model number, RPM, rotor diameter). A copy of the manufacturer’s pump performance information is needed. Use the Hardy-Cross or Kirchhoff program to find the behavior of the system with (1) both pumps in parallel and (2) only one of the parallel pumps in operation. This gives some idea of the system capability of the parallel arrangement if one pump is down. For the parallel analysis, determine the power required (including viscous corrections, if needed) for the two parallel pump operating conditions.\n",
    "e. Provide a summary of the recommended pumps for the system including the system capacity when only one of the pumps in the parallel configuration is operating. A recommendation as to which arrangement to use, single main pump or parallel main pumps, is desired.\n",
    "\n",
    "# Solution\n",
    "## Part A\n",
    "The first step for determining whether viscous effects are negligible is to acquire the SSU viscosity. The code block below contains the function for finding the SSU viscosity, given the kinematic viscosity. This was added to the `msu_esd` package, but is shown here for convenience."
   ],
   "metadata": {
    "collapsed": false,
    "pycharm": {
     "name": "#%% md\n"
    }
   }
  },
  {
   "cell_type": "code",
   "execution_count": 3,
   "outputs": [],
   "source": [
    "def SSU(nu):\n",
    "    \"\"\"\n",
    "    Returns the Saybolt Seconds Universal value of viscosity.\n",
    "\n",
    "    :param nu: The kinematic viscosity in ft^2/s\n",
    "    :return: SSU value\n",
    "    \"\"\"\n",
    "    guess = 100\n",
    "    stoke = 1e-4  # m^2/s\n",
    "    nu = nu/3.28084**2  # converts to m^2/s\n",
    "\n",
    "    if nu < 0.2065*stoke:\n",
    "        return fsolve(lambda ssu: nu - 0.00226*stoke*ssu + 1.95*stoke/ssu, np.array([guess, ]))[0]\n",
    "    else:\n",
    "        return fsolve(lambda ssu: nu - 0.0022*stoke*ssu + 1.35*stoke/ssu, np.array([guess, ]))[0]"
   ],
   "metadata": {
    "collapsed": false,
    "pycharm": {
     "name": "#%%\n"
    }
   }
  },
  {
   "cell_type": "markdown",
   "source": [
    "The kinematic viscosity is,\n",
    "\n",
    "$$\\nu=\\frac{\\mu}{\\rho}=\\frac{3.715\\,\\frac{lbm}{ft\\,hr}}{48.05\\,\\frac{lbm}{ft^3}}=2.148\\cdot10^-5\\,\\frac{ft^2}{s}$$"
   ],
   "metadata": {
    "collapsed": false,
    "pycharm": {
     "name": "#%% md\n"
    }
   }
  },
  {
   "cell_type": "code",
   "execution_count": 4,
   "outputs": [
    {
     "data": {
      "text/plain": "34.11804944489399"
     },
     "execution_count": 4,
     "metadata": {},
     "output_type": "execute_result"
    }
   ],
   "source": [
    "kin_viscosity = mu/rho\n",
    "ssu_viscosity = SSU(kin_viscosity)\n",
    "ssu_viscosity"
   ],
   "metadata": {
    "collapsed": false,
    "pycharm": {
     "name": "#%%\n"
    }
   }
  },
  {
   "cell_type": "markdown",
   "source": [
    "Thus, the SSU value for viscosity is around 34. The flow rate across the main pump is $10.7\\,\\frac{ft^3}{s}$, which is 4800 gallons per minute. Figure 2 below shows the relationship and procedure for determining the correction factors.\n",
    "\n",
    "\\begin{center}\n",
    "\\includegraphics{images/fig2} \\\\\n",
    "Figure 2: Correction Factors\n",
    "\\end{center}\n",
    "\n",
    "The results show that the correction factors are close to 100% for the head, flow rate, and efficiency because the viscosity of water is low; therefore, **the viscous correction factors are negligible**."
   ],
   "metadata": {
    "collapsed": false,
    "pycharm": {
     "name": "#%% md\n"
    }
   }
  }
 ],
 "metadata": {
  "kernelspec": {
   "display_name": "Python 3",
   "language": "python",
   "name": "python3"
  },
  "language_info": {
   "codemirror_mode": {
    "name": "ipython",
    "version": 2
   },
   "file_extension": ".py",
   "mimetype": "text/x-python",
   "name": "python",
   "nbconvert_exporter": "python",
   "pygments_lexer": "ipython2",
   "version": "2.7.6"
  }
 },
 "nbformat": 4,
 "nbformat_minor": 0
}