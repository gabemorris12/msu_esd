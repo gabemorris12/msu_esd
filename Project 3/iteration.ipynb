{
 "cells": [
  {
   "cell_type": "code",
   "execution_count": 1,
   "metadata": {
    "collapsed": true,
    "pycharm": {
     "name": "#%%\n"
    }
   },
   "outputs": [
    {
     "data": {
      "text/plain": "    Pipe          Q          V  V<9 2.713<=Q<2.808 1.272<=Q<1.316\n0      1  14.525994   7.525728  Yes              -              -\n1      2   4.005309   7.314307  Yes             No              -\n2      3  10.520685  13.534851   No              -              -\n3      4   2.748716   5.019577  Yes            Yes              -\n4      5   7.771968   9.998630   No              -              -\n5      6   6.754025   8.689047  Yes              -              -\n6      7   3.779888   4.862822  Yes              -              -\n7      8   1.895431   5.455894  Yes              -             No\n8      9   1.884457   5.424308  Yes              -             No\n9     10   3.992080   7.290150  Yes             No              -\n10    11  10.533913  13.551869   No              -              -",
      "text/html": "<div>\n<style scoped>\n    .dataframe tbody tr th:only-of-type {\n        vertical-align: middle;\n    }\n\n    .dataframe tbody tr th {\n        vertical-align: top;\n    }\n\n    .dataframe thead th {\n        text-align: right;\n    }\n</style>\n<table border=\"1\" class=\"dataframe\">\n  <thead>\n    <tr style=\"text-align: right;\">\n      <th></th>\n      <th>Pipe</th>\n      <th>Q</th>\n      <th>V</th>\n      <th>V&lt;9</th>\n      <th>2.713&lt;=Q&lt;2.808</th>\n      <th>1.272&lt;=Q&lt;1.316</th>\n    </tr>\n  </thead>\n  <tbody>\n    <tr>\n      <th>0</th>\n      <td>1</td>\n      <td>14.525994</td>\n      <td>7.525728</td>\n      <td>Yes</td>\n      <td>-</td>\n      <td>-</td>\n    </tr>\n    <tr>\n      <th>1</th>\n      <td>2</td>\n      <td>4.005309</td>\n      <td>7.314307</td>\n      <td>Yes</td>\n      <td>No</td>\n      <td>-</td>\n    </tr>\n    <tr>\n      <th>2</th>\n      <td>3</td>\n      <td>10.520685</td>\n      <td>13.534851</td>\n      <td>No</td>\n      <td>-</td>\n      <td>-</td>\n    </tr>\n    <tr>\n      <th>3</th>\n      <td>4</td>\n      <td>2.748716</td>\n      <td>5.019577</td>\n      <td>Yes</td>\n      <td>Yes</td>\n      <td>-</td>\n    </tr>\n    <tr>\n      <th>4</th>\n      <td>5</td>\n      <td>7.771968</td>\n      <td>9.998630</td>\n      <td>No</td>\n      <td>-</td>\n      <td>-</td>\n    </tr>\n    <tr>\n      <th>5</th>\n      <td>6</td>\n      <td>6.754025</td>\n      <td>8.689047</td>\n      <td>Yes</td>\n      <td>-</td>\n      <td>-</td>\n    </tr>\n    <tr>\n      <th>6</th>\n      <td>7</td>\n      <td>3.779888</td>\n      <td>4.862822</td>\n      <td>Yes</td>\n      <td>-</td>\n      <td>-</td>\n    </tr>\n    <tr>\n      <th>7</th>\n      <td>8</td>\n      <td>1.895431</td>\n      <td>5.455894</td>\n      <td>Yes</td>\n      <td>-</td>\n      <td>No</td>\n    </tr>\n    <tr>\n      <th>8</th>\n      <td>9</td>\n      <td>1.884457</td>\n      <td>5.424308</td>\n      <td>Yes</td>\n      <td>-</td>\n      <td>No</td>\n    </tr>\n    <tr>\n      <th>9</th>\n      <td>10</td>\n      <td>3.992080</td>\n      <td>7.290150</td>\n      <td>Yes</td>\n      <td>No</td>\n      <td>-</td>\n    </tr>\n    <tr>\n      <th>10</th>\n      <td>11</td>\n      <td>10.533913</td>\n      <td>13.551869</td>\n      <td>No</td>\n      <td>-</td>\n      <td>-</td>\n    </tr>\n  </tbody>\n</table>\n</div>"
     },
     "execution_count": 1,
     "metadata": {},
     "output_type": "execute_result"
    }
   ],
   "source": [
    "from msu_esd import Pipe\n",
    "import numpy as np\n",
    "import pandas as pd\n",
    "from scipy.optimize import fsolve\n",
    "\n",
    "# Define known constants\n",
    "K1, K2, K3, K4 = 4.5, 4.5, 4.5, 10  # Loss coefficients\n",
    "\n",
    "rho = 48.05/32.174  # In slugs per cubic feet\n",
    "mu = 3.715/(3600*32.174)  # In slugs per (ft s) or lbf*s per ft squared\n",
    "epsilon = 0.0005  # In ft\n",
    "\n",
    "D20, D12, D10, D8 = np.array([18.812, 11.938, 10.02, 7.981])/12  # Diameters in ft\n",
    "\n",
    "Ws = 380  # in ft\n",
    "\n",
    "p1 = Pipe(D20, 2840, epsilon, rho, mu, K=1.78, C=8)\n",
    "p2 = Pipe(D10, 2380, epsilon, rho, mu, K=5.53, C=8)\n",
    "p3 = Pipe(D12, 1300, epsilon, rho, mu, K=1.78, C=8)\n",
    "p4 = Pipe(D10, 1630, epsilon, rho, mu, K=5.53, C=8)\n",
    "p5 = Pipe(D12, 3000, epsilon, rho, mu, K=3.28, C=8)\n",
    "p6 = Pipe(D12, 5000, epsilon, rho, mu, K=3.28, C=8)\n",
    "p7 = Pipe(D12, 1580, epsilon, rho, mu, K=1.78, C=8)\n",
    "p8 = Pipe(D8, 1550, epsilon, rho, mu, K=5.53, C=8)\n",
    "p9 = Pipe(D8, 1550, epsilon, rho, mu, K=7.03, C=8)\n",
    "p10 = Pipe(D10, 5130, epsilon, rho, mu, K=7.78, C=8)\n",
    "p11 = Pipe(D12, 1875, epsilon, rho, mu, K=2.53, C=8)\n",
    "\n",
    "def unbalanced(x):\n",
    "    Q1, Q2, Q3, Q4, Q5, Q6, Q7, Q8, Q9, Q10, Q11 = x\n",
    "    # all expressions need to be set to zero\n",
    "    return [\n",
    "        Q1 - Q2 - Q3,\n",
    "        Q6 - Q2 - Q4,\n",
    "        Q3 - Q4 - Q5,\n",
    "        Q5 - Q10 - Q7,\n",
    "        Q7 - Q8 - Q9,\n",
    "        Q11 - Q6 - Q7,\n",
    "        K1*Q2*abs(Q2) + p2.h(Q2) + p6.h(Q6) + p11.h(Q11) + p1.h(Q1) - Ws + 0.1*Q1*abs(Q1),\n",
    "        p4.h(Q4) + K3*Q4*abs(Q4) - p2.h(Q2) - K1*Q2*abs(Q2) + p3.h(Q3),\n",
    "        p7.h(Q7) + p8.h(Q8) + K4*Q8*abs(Q8) - p6.h(Q6) - p4.h(Q4) - K3*Q4*abs(Q4) + p5.h(Q5),\n",
    "        p9.h(Q9) + K4*Q9*abs(Q9) - p8.h(Q8) - K4*Q8*abs(Q8),\n",
    "        p10.h(Q10) + K2*Q10*abs(Q10) - p11.h(Q11) - p9.h(Q9) - K4*Q9*abs(Q9) - p7.h(Q7)\n",
    "    ]\n",
    "\n",
    "def test(pipes_, flow_rates):\n",
    "    lines = range(1, len(pipes_) + 1)\n",
    "    Q_values, V_values = [], []\n",
    "    AHU_1_3, AHU_4 = [], []\n",
    "    V_less = []\n",
    "\n",
    "    for pipe_, Q_, i in zip(pipes_, flow_rates, lines):\n",
    "        Q_values.append(Q_)\n",
    "        V_ = pipe_.V(Q_)\n",
    "        V_values.append(V_)\n",
    "\n",
    "        if V_ < 9:\n",
    "            V_less.append('Yes')\n",
    "        else:\n",
    "            V_less.append('No')\n",
    "\n",
    "        if i in [2, 4, 10]:\n",
    "            if 2.713 <= Q_ < 2.808:\n",
    "                AHU_1_3.append('Yes')\n",
    "            else:\n",
    "                AHU_1_3.append('No')\n",
    "        else:\n",
    "            AHU_1_3.append('-')\n",
    "\n",
    "        if i in [8, 9]:\n",
    "            if 1.272 <= Q_ < 1.316:\n",
    "                AHU_4.append('Yes')\n",
    "            else:\n",
    "                AHU_4.append('No')\n",
    "        else:\n",
    "            AHU_4.append('-')\n",
    "\n",
    "    return pd.DataFrame({'Pipe': lines, 'Q': Q_values, 'V': V_values, 'V<9': V_less, '2.713<=Q<2.808': AHU_1_3, r'1.272<=Q<1.316': AHU_4})\n",
    "\n",
    "Q_guess = np.array([5, 1, 4, 2, 2, 3, 1, 3, -2, 1, 4])  # This does satisfy mass conservation\n",
    "unbalanced_sol = fsolve(unbalanced, Q_guess)\n",
    "pipes = [p1, p2, p3, p4, p5, p6, p7, p8, p9, p10, p11]\n",
    "iteration_test = test(pipes, unbalanced_sol)\n",
    "iteration_test"
   ]
  }
 ],
 "metadata": {
  "kernelspec": {
   "display_name": "Python 3",
   "language": "python",
   "name": "python3"
  },
  "language_info": {
   "codemirror_mode": {
    "name": "ipython",
    "version": 2
   },
   "file_extension": ".py",
   "mimetype": "text/x-python",
   "name": "python",
   "nbconvert_exporter": "python",
   "pygments_lexer": "ipython2",
   "version": "2.7.6"
  }
 },
 "nbformat": 4,
 "nbformat_minor": 0
}