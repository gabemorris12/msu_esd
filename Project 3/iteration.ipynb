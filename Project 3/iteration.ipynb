{
 "cells": [
  {
   "cell_type": "code",
   "execution_count": 1,
   "metadata": {
    "collapsed": true,
    "pycharm": {
     "name": "#%%\n"
    }
   },
   "outputs": [
    {
     "data": {
      "text/plain": "    Pipe          Q          V  V<9 2.713<=Q<2.808 1.272<=Q<1.316\n0      1  10.692539   5.539665  Yes              -              -\n1      2   2.713009   4.954369  Yes            Yes              -\n2      3   7.979530  10.265658   No              -              -\n3      4   2.713247   4.954805  Yes            Yes              -\n4      5   5.266283   6.775068  Yes              -              -\n5      6   5.426256   6.980874  Yes              -              -\n6      7   2.552338   3.283581  Yes              -              -\n7      8   1.279845   3.683965  Yes              -            Yes\n8      9   1.272493   3.662802  Yes              -            Yes\n9     10   2.713944   4.956078  Yes            Yes              -\n10    11   7.978595  10.264455   No              -              -",
      "text/html": "<div>\n<style scoped>\n    .dataframe tbody tr th:only-of-type {\n        vertical-align: middle;\n    }\n\n    .dataframe tbody tr th {\n        vertical-align: top;\n    }\n\n    .dataframe thead th {\n        text-align: right;\n    }\n</style>\n<table border=\"1\" class=\"dataframe\">\n  <thead>\n    <tr style=\"text-align: right;\">\n      <th></th>\n      <th>Pipe</th>\n      <th>Q</th>\n      <th>V</th>\n      <th>V&lt;9</th>\n      <th>2.713&lt;=Q&lt;2.808</th>\n      <th>1.272&lt;=Q&lt;1.316</th>\n    </tr>\n  </thead>\n  <tbody>\n    <tr>\n      <th>0</th>\n      <td>1</td>\n      <td>10.692539</td>\n      <td>5.539665</td>\n      <td>Yes</td>\n      <td>-</td>\n      <td>-</td>\n    </tr>\n    <tr>\n      <th>1</th>\n      <td>2</td>\n      <td>2.713009</td>\n      <td>4.954369</td>\n      <td>Yes</td>\n      <td>Yes</td>\n      <td>-</td>\n    </tr>\n    <tr>\n      <th>2</th>\n      <td>3</td>\n      <td>7.979530</td>\n      <td>10.265658</td>\n      <td>No</td>\n      <td>-</td>\n      <td>-</td>\n    </tr>\n    <tr>\n      <th>3</th>\n      <td>4</td>\n      <td>2.713247</td>\n      <td>4.954805</td>\n      <td>Yes</td>\n      <td>Yes</td>\n      <td>-</td>\n    </tr>\n    <tr>\n      <th>4</th>\n      <td>5</td>\n      <td>5.266283</td>\n      <td>6.775068</td>\n      <td>Yes</td>\n      <td>-</td>\n      <td>-</td>\n    </tr>\n    <tr>\n      <th>5</th>\n      <td>6</td>\n      <td>5.426256</td>\n      <td>6.980874</td>\n      <td>Yes</td>\n      <td>-</td>\n      <td>-</td>\n    </tr>\n    <tr>\n      <th>6</th>\n      <td>7</td>\n      <td>2.552338</td>\n      <td>3.283581</td>\n      <td>Yes</td>\n      <td>-</td>\n      <td>-</td>\n    </tr>\n    <tr>\n      <th>7</th>\n      <td>8</td>\n      <td>1.279845</td>\n      <td>3.683965</td>\n      <td>Yes</td>\n      <td>-</td>\n      <td>Yes</td>\n    </tr>\n    <tr>\n      <th>8</th>\n      <td>9</td>\n      <td>1.272493</td>\n      <td>3.662802</td>\n      <td>Yes</td>\n      <td>-</td>\n      <td>Yes</td>\n    </tr>\n    <tr>\n      <th>9</th>\n      <td>10</td>\n      <td>2.713944</td>\n      <td>4.956078</td>\n      <td>Yes</td>\n      <td>Yes</td>\n      <td>-</td>\n    </tr>\n    <tr>\n      <th>10</th>\n      <td>11</td>\n      <td>7.978595</td>\n      <td>10.264455</td>\n      <td>No</td>\n      <td>-</td>\n      <td>-</td>\n    </tr>\n  </tbody>\n</table>\n</div>"
     },
     "execution_count": 1,
     "metadata": {},
     "output_type": "execute_result"
    }
   ],
   "source": [
    "from msu_esd import Pipe\n",
    "import numpy as np\n",
    "import pandas as pd\n",
    "from scipy.optimize import fsolve\n",
    "\n",
    "# Define known constants\n",
    "K1, K2, K3, K4 = 4.5, 4.5, 4.5, 10  # Loss coefficients\n",
    "\n",
    "rho = 48.05/32.174  # In slugs per cubic feet\n",
    "mu = 3.715/(3600*32.174)  # In slugs per (ft s) or lbf*s per ft squared\n",
    "epsilon = 0.0005  # In ft\n",
    "\n",
    "D20, D12, D10, D8 = np.array([18.812, 11.938, 10.02, 7.981])/12  # Diameters in ft\n",
    "\n",
    "Ws = 145  # in ft\n",
    "\n",
    "p1 = Pipe(D20, 2840, epsilon, rho, mu, K=1.78, C=8)\n",
    "p2 = Pipe(D10, 2380, epsilon, rho, mu, K=5.53, C=8)\n",
    "p3 = Pipe(D12, 1300, epsilon, rho, mu, K=1.78, C=8)\n",
    "p4 = Pipe(D10, 1630, epsilon, rho, mu, K=5.53, C=8)\n",
    "p5 = Pipe(D12, 3000, epsilon, rho, mu, K=3.28, C=8)\n",
    "p6 = Pipe(D12, 5000, epsilon, rho, mu, K=3.28, C=8)\n",
    "p7 = Pipe(D12, 1580, epsilon, rho, mu, K=1.78, C=8)\n",
    "p8 = Pipe(D8, 1550, epsilon, rho, mu, K=5.53, C=8)\n",
    "p9 = Pipe(D8, 1550, epsilon, rho, mu, K=7.03, C=8)\n",
    "p10 = Pipe(D10, 5130, epsilon, rho, mu, K=7.78, C=8)\n",
    "p11 = Pipe(D12, 1875, epsilon, rho, mu, K=2.53, C=8)\n",
    "\n",
    "def balanced(x, b2, b4, b7, b10):\n",
    "    Q1, Q2, Q3, Q4, Q5, Q6, Q7, Q8, Q9, Q10, Q11 = x\n",
    "    # all expressions need to be set to zero\n",
    "    return [\n",
    "        Q1 - Q2 - Q3,\n",
    "        Q6 - Q2 - Q4,\n",
    "        Q3 - Q4 - Q5,\n",
    "        Q5 - Q10 - Q7,\n",
    "        Q7 - Q8 - Q9,\n",
    "        Q11 - Q6 - Q7,\n",
    "        K1*Q2*abs(Q2) + p2.h(Q2) + p6.h(Q6) + p11.h(Q11) + p1.h(Q1) - Ws + 0.1*Q1*abs(Q1) - b2,\n",
    "        p4.h(Q4) + K3*Q4*abs(Q4) - p2.h(Q2) - K1*Q2*abs(Q2) + p3.h(Q3) + b2 - b4,\n",
    "        p7.h(Q7) + p8.h(Q8) + K4*Q8*abs(Q8) - p6.h(Q6) - p4.h(Q4) - K3*Q4*abs(Q4) + p5.h(Q5) + b4 - b7,\n",
    "        p9.h(Q9) + K4*Q9*abs(Q9) - p8.h(Q8) - K4*Q8*abs(Q8),\n",
    "        p10.h(Q10) + K2*Q10*abs(Q10) - p11.h(Q11) - p9.h(Q9) - K4*Q9*abs(Q9) - p7.h(Q7) + b7 - b10\n",
    "    ]\n",
    "\n",
    "def test(pipes_, flow_rates):\n",
    "    lines = range(1, len(pipes_) + 1)\n",
    "    Q_values, V_values = [], []\n",
    "    AHU_1_3, AHU_4 = [], []\n",
    "    V_less = []\n",
    "\n",
    "    for pipe_, Q_, i in zip(pipes_, flow_rates, lines):\n",
    "        Q_values.append(Q_)\n",
    "        V_ = pipe_.V(Q_)\n",
    "        V_values.append(V_)\n",
    "\n",
    "        if V_ < 9:\n",
    "            V_less.append('Yes')\n",
    "        else:\n",
    "            V_less.append('No')\n",
    "\n",
    "        if i in [2, 4, 10]:\n",
    "            if 2.713 <= Q_ < 2.808:\n",
    "                AHU_1_3.append('Yes')\n",
    "            else:\n",
    "                AHU_1_3.append('No')\n",
    "        else:\n",
    "            AHU_1_3.append('-')\n",
    "\n",
    "        if i in [8, 9]:\n",
    "            if 1.272 <= Q_ < 1.316:\n",
    "                AHU_4.append('Yes')\n",
    "            else:\n",
    "                AHU_4.append('No')\n",
    "        else:\n",
    "            AHU_4.append('-')\n",
    "\n",
    "    return pd.DataFrame({'Pipe': lines, 'Q': Q_values, 'V': V_values, 'V<9': V_less, '2.713<=Q<2.808': AHU_1_3, r'1.272<=Q<1.316': AHU_4})\n",
    "\n",
    "Q_guess = np.array([5, 1, 4, 2, 2, 3, 1, 3, -2, 1, 4])  # This does satisfy mass conservation\n",
    "b = 67.65, 101.95, 55.7, 44.9\n",
    "balanced_solution = fsolve(balanced, Q_guess, args=(*b, ))\n",
    "pipes = [p1, p2, p3, p4, p5, p6, p7, p8, p9, p10, p11]\n",
    "iteration_test = test(pipes, balanced_solution)\n",
    "iteration_test"
   ]
  },
  {
   "cell_type": "code",
   "execution_count": 2,
   "outputs": [
    {
     "data": {
      "text/plain": "    NPS  Outer Diameter (in)  Thickness (in)  Inner Diameter (in)  \\\n0     5                5.563           0.258                5.047   \n1     6                6.625           0.280                6.065   \n2     8                8.625           0.322                7.981   \n3    10               10.750           0.365               10.020   \n4    12               12.750           0.406               11.938   \n5    14               14.000           0.438               13.124   \n6    16               16.000           0.500               15.000   \n7    18               18.000           0.562               16.876   \n8    20               20.000           0.594               18.812   \n9    24               24.000           0.688               22.624   \n10   32               32.000           0.688               30.624   \n11   34               34.000           0.688               32.624   \n12   36               36.000           0.750               34.500   \n13   42               42.000           0.750               40.500   \n\n    Inner Diameter (ft)  \n0              0.420583  \n1              0.505417  \n2              0.665083  \n3              0.835000  \n4              0.994833  \n5              1.093667  \n6              1.250000  \n7              1.406333  \n8              1.567667  \n9              1.885333  \n10             2.552000  \n11             2.718667  \n12             2.875000  \n13             3.375000  ",
      "text/html": "<div>\n<style scoped>\n    .dataframe tbody tr th:only-of-type {\n        vertical-align: middle;\n    }\n\n    .dataframe tbody tr th {\n        vertical-align: top;\n    }\n\n    .dataframe thead th {\n        text-align: right;\n    }\n</style>\n<table border=\"1\" class=\"dataframe\">\n  <thead>\n    <tr style=\"text-align: right;\">\n      <th></th>\n      <th>NPS</th>\n      <th>Outer Diameter (in)</th>\n      <th>Thickness (in)</th>\n      <th>Inner Diameter (in)</th>\n      <th>Inner Diameter (ft)</th>\n    </tr>\n  </thead>\n  <tbody>\n    <tr>\n      <th>0</th>\n      <td>5</td>\n      <td>5.563</td>\n      <td>0.258</td>\n      <td>5.047</td>\n      <td>0.420583</td>\n    </tr>\n    <tr>\n      <th>1</th>\n      <td>6</td>\n      <td>6.625</td>\n      <td>0.280</td>\n      <td>6.065</td>\n      <td>0.505417</td>\n    </tr>\n    <tr>\n      <th>2</th>\n      <td>8</td>\n      <td>8.625</td>\n      <td>0.322</td>\n      <td>7.981</td>\n      <td>0.665083</td>\n    </tr>\n    <tr>\n      <th>3</th>\n      <td>10</td>\n      <td>10.750</td>\n      <td>0.365</td>\n      <td>10.020</td>\n      <td>0.835000</td>\n    </tr>\n    <tr>\n      <th>4</th>\n      <td>12</td>\n      <td>12.750</td>\n      <td>0.406</td>\n      <td>11.938</td>\n      <td>0.994833</td>\n    </tr>\n    <tr>\n      <th>5</th>\n      <td>14</td>\n      <td>14.000</td>\n      <td>0.438</td>\n      <td>13.124</td>\n      <td>1.093667</td>\n    </tr>\n    <tr>\n      <th>6</th>\n      <td>16</td>\n      <td>16.000</td>\n      <td>0.500</td>\n      <td>15.000</td>\n      <td>1.250000</td>\n    </tr>\n    <tr>\n      <th>7</th>\n      <td>18</td>\n      <td>18.000</td>\n      <td>0.562</td>\n      <td>16.876</td>\n      <td>1.406333</td>\n    </tr>\n    <tr>\n      <th>8</th>\n      <td>20</td>\n      <td>20.000</td>\n      <td>0.594</td>\n      <td>18.812</td>\n      <td>1.567667</td>\n    </tr>\n    <tr>\n      <th>9</th>\n      <td>24</td>\n      <td>24.000</td>\n      <td>0.688</td>\n      <td>22.624</td>\n      <td>1.885333</td>\n    </tr>\n    <tr>\n      <th>10</th>\n      <td>32</td>\n      <td>32.000</td>\n      <td>0.688</td>\n      <td>30.624</td>\n      <td>2.552000</td>\n    </tr>\n    <tr>\n      <th>11</th>\n      <td>34</td>\n      <td>34.000</td>\n      <td>0.688</td>\n      <td>32.624</td>\n      <td>2.718667</td>\n    </tr>\n    <tr>\n      <th>12</th>\n      <td>36</td>\n      <td>36.000</td>\n      <td>0.750</td>\n      <td>34.500</td>\n      <td>2.875000</td>\n    </tr>\n    <tr>\n      <th>13</th>\n      <td>42</td>\n      <td>42.000</td>\n      <td>0.750</td>\n      <td>40.500</td>\n      <td>3.375000</td>\n    </tr>\n  </tbody>\n</table>\n</div>"
     },
     "execution_count": 2,
     "metadata": {},
     "output_type": "execute_result"
    }
   ],
   "source": [
    "# Getting a table of values to choose from\n",
    "nps = np.array([5, 6, 8, 10, 12, 14, 16, 18, 20, 24, 32, 34, 36, 42])  # Nominal Pipe Size (in)\n",
    "od = np.array([5.563, 6.625, 8.625, 10.75, 12.75, 14, 16, 18, 20, 24, 32, 34, 36, 42])  # Outer Diameter (in)\n",
    "t = np.array([0.258, 0.28, 0.322, 0.365, 0.406, 0.438, 0.5, 0.562, 0.594, 0.688, 0.688, 0.688, 0.75, 0.75])  # Thickness (in)\n",
    "id_ = od - 2*t  # Inner Diameter (in)\n",
    "id_ft = id_/12\n",
    "\n",
    "df = pd.DataFrame({'NPS': nps, 'Outer Diameter (in)': od, 'Thickness (in)': t, 'Inner Diameter (in)': id_, 'Inner Diameter (ft)': id_ft})\n",
    "df"
   ],
   "metadata": {
    "collapsed": false,
    "pycharm": {
     "name": "#%%\n"
    }
   }
  }
 ],
 "metadata": {
  "kernelspec": {
   "display_name": "Python 3",
   "language": "python",
   "name": "python3"
  },
  "language_info": {
   "codemirror_mode": {
    "name": "ipython",
    "version": 2
   },
   "file_extension": ".py",
   "mimetype": "text/x-python",
   "name": "python",
   "nbconvert_exporter": "python",
   "pygments_lexer": "ipython2",
   "version": "2.7.6"
  }
 },
 "nbformat": 4,
 "nbformat_minor": 0
}